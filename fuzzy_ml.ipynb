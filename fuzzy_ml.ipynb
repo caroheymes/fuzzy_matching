{
 "cells": [
  {
   "cell_type": "code",
   "execution_count": 1,
   "metadata": {},
   "outputs": [],
   "source": [
    "from ast import literal_eval\n",
    "import numpy as np\n",
    "import math\n",
    "import re\n",
    "import pandas as pd\n",
    "\n",
    "import plotly.figure_factory as ff\n",
    "import plotly.express as px\n",
    "import plotly.graph_objects as go\n",
    "from plotly.subplots import make_subplots\n",
    "import matplotlib.pyplot as plt\n",
    "\n",
    "from difflib import SequenceMatcher\n",
    "from collections import Counter\n",
    "from itertools import groupby\n",
    "\n",
    "from sklearn import model_selection\n",
    "from sklearn.model_selection import train_test_split\n",
    "from sklearn.neighbors import KNeighborsClassifier\n",
    "from sklearn.metrics import accuracy_score, f1_score, precision_score, recall_score\n",
    "from sklearn.metrics import confusion_matrix, ConfusionMatrixDisplay\n",
    "from sklearn.metrics import plot_confusion_matrix\n",
    "from sklearn.metrics import classification_report\n",
    "from sklearn.linear_model import LogisticRegression\n",
    "from sklearn.ensemble import RandomForestClassifier\n",
    "from sklearn.svm import SVC\n",
    "from sklearn.naive_bayes import GaussianNB\n",
    "from sklearn.tree import DecisionTreeClassifier\n",
    "from sklearn.metrics import precision_recall_fscore_support"
   ]
  },
  {
   "cell_type": "markdown",
   "metadata": {},
   "source": [
    "# Import bo attr lookup data"
   ]
  },
  {
   "cell_type": "code",
   "execution_count": 122,
   "metadata": {},
   "outputs": [
    {
     "data": {
      "text/html": [
       "<div>\n",
       "<style scoped>\n",
       "    .dataframe tbody tr th:only-of-type {\n",
       "        vertical-align: middle;\n",
       "    }\n",
       "\n",
       "    .dataframe tbody tr th {\n",
       "        vertical-align: top;\n",
       "    }\n",
       "\n",
       "    .dataframe thead th {\n",
       "        text-align: right;\n",
       "    }\n",
       "</style>\n",
       "<table border=\"1\" class=\"dataframe\">\n",
       "  <thead>\n",
       "    <tr style=\"text-align: right;\">\n",
       "      <th></th>\n",
       "      <th>parent_org_name</th>\n",
       "      <th>children_org_name_list</th>\n",
       "      <th>match_confidence_score</th>\n",
       "      <th>match_confidence</th>\n",
       "      <th>children_org_name</th>\n",
       "      <th>parent_trigram</th>\n",
       "      <th>child_trigram</th>\n",
       "      <th>jaro_func_score</th>\n",
       "      <th>jaro_func_score_trigram_parent</th>\n",
       "      <th>jaro_func_score_trigram_child</th>\n",
       "    </tr>\n",
       "  </thead>\n",
       "  <tbody>\n",
       "    <tr>\n",
       "      <th>0</th>\n",
       "      <td>\"NEXARK INC\"</td>\n",
       "      <td>[NEWKIRK PRODUCTS]</td>\n",
       "      <td>0.533333</td>\n",
       "      <td>LOW</td>\n",
       "      <td>NEWKIRK PRODUCTS</td>\n",
       "      <td>[\"NE, NEX, EXA, XAR, ARK, RK , K I,  IN, INC, ...</td>\n",
       "      <td>[NEW, EWK, WKI, KIR, IRK, RK , K P,  PR, PRO, ...</td>\n",
       "      <td>0.58</td>\n",
       "      <td>[0.61, 0.0, 0.0, 0.0, 0.0, 0.0, 0.0, 0.0, 0.0,...</td>\n",
       "      <td>[0.68, 0.6, 0.52, 0.47, 0.47, 0.47, 0.47, 0.47...</td>\n",
       "    </tr>\n",
       "    <tr>\n",
       "      <th>1</th>\n",
       "      <td>+DESCONOCIDO</td>\n",
       "      <td>[DEGENKOLB]</td>\n",
       "      <td>0.666667</td>\n",
       "      <td>LOW</td>\n",
       "      <td>DEGENKOLB</td>\n",
       "      <td>[+DE, DES, ESC, SCO, CON, ONO, NOC, OCI, CID, ...</td>\n",
       "      <td>[DEG, EGE, GEN, ENK, NKO, KOL, OLB]</td>\n",
       "      <td>0.51</td>\n",
       "      <td>[0.61, 0.47, 0.47, 0.0, 0.0, 0.0, 0.0]</td>\n",
       "      <td>[0.7, 0.63, 0.48, 0.48, 0.0, 0.0, 0.0, 0.0, 0....</td>\n",
       "    </tr>\n",
       "    <tr>\n",
       "      <th>2</th>\n",
       "      <td>+EMBOL LTDA</td>\n",
       "      <td>[EMPLOYBRIDGE]</td>\n",
       "      <td>0.600000</td>\n",
       "      <td>LOW</td>\n",
       "      <td>EMPLOYBRIDGE</td>\n",
       "      <td>[+EM, EMB, MBO, BOL, OL , L L,  LT, LTD, TDA]</td>\n",
       "      <td>[EMP, MPL, PLO, LOY, OYB, YBR, BRI, RID, IDG, ...</td>\n",
       "      <td>0.63</td>\n",
       "      <td>[0.62, 0.47, 0.47, 0.0, 0.0, 0.0, 0.0, 0.0, 0....</td>\n",
       "      <td>[0.69, 0.61, 0.47, 0.47, 0.47, 0.47, 0.0, 0.0,...</td>\n",
       "    </tr>\n",
       "    <tr>\n",
       "      <th>3</th>\n",
       "      <td>+MARTINS</td>\n",
       "      <td>[SAN MARINA]</td>\n",
       "      <td>0.750000</td>\n",
       "      <td>MEDIUM</td>\n",
       "      <td>SAN MARINA</td>\n",
       "      <td>[+MA, MAR, ART, RTI, TIN, INS]</td>\n",
       "      <td>[SAN, AN , N M,  MA, MAR, ARI, RIN, INA]</td>\n",
       "      <td>0.78</td>\n",
       "      <td>[0.79, 0.64, 0.49, 0.49, 0.49, 0.49, 0.0, 0.0]</td>\n",
       "      <td>[0.84, 0.62, 0.62, 0.48, 0.48, 0.48]</td>\n",
       "    </tr>\n",
       "    <tr>\n",
       "      <th>4</th>\n",
       "      <td>+RED COMUNICACAO &amp; MARKETING LTDA</td>\n",
       "      <td>[RED ENVELOPE ENTERTAINMENT]</td>\n",
       "      <td>0.625000</td>\n",
       "      <td>LOW</td>\n",
       "      <td>RED ENVELOPE ENTERTAINMENT</td>\n",
       "      <td>[+RE, RED, ED , D C,  CO, COM, OMU, MUN, UNI, ...</td>\n",
       "      <td>[RED, ED , D E,  EN, ENV, NVE, VEL, ELO, LOP, ...</td>\n",
       "      <td>0.57</td>\n",
       "      <td>[0.7, 0.45, 0.45, 0.45, 0.45, 0.45, 0.45, 0.45...</td>\n",
       "      <td>[0.79, 0.71, 0.62, 0.62, 0.58, 0.58, 0.46, 0.4...</td>\n",
       "    </tr>\n",
       "  </tbody>\n",
       "</table>\n",
       "</div>"
      ],
      "text/plain": [
       "                     parent_org_name        children_org_name_list  \\\n",
       "0                       \"NEXARK INC\"            [NEWKIRK PRODUCTS]   \n",
       "1                       +DESCONOCIDO                   [DEGENKOLB]   \n",
       "2                        +EMBOL LTDA                [EMPLOYBRIDGE]   \n",
       "3                           +MARTINS                  [SAN MARINA]   \n",
       "4  +RED COMUNICACAO & MARKETING LTDA  [RED ENVELOPE ENTERTAINMENT]   \n",
       "\n",
       "   match_confidence_score match_confidence           children_org_name  \\\n",
       "0                0.533333              LOW            NEWKIRK PRODUCTS   \n",
       "1                0.666667              LOW                   DEGENKOLB   \n",
       "2                0.600000              LOW                EMPLOYBRIDGE   \n",
       "3                0.750000           MEDIUM                  SAN MARINA   \n",
       "4                0.625000              LOW  RED ENVELOPE ENTERTAINMENT   \n",
       "\n",
       "                                      parent_trigram  \\\n",
       "0  [\"NE, NEX, EXA, XAR, ARK, RK , K I,  IN, INC, ...   \n",
       "1  [+DE, DES, ESC, SCO, CON, ONO, NOC, OCI, CID, ...   \n",
       "2      [+EM, EMB, MBO, BOL, OL , L L,  LT, LTD, TDA]   \n",
       "3                     [+MA, MAR, ART, RTI, TIN, INS]   \n",
       "4  [+RE, RED, ED , D C,  CO, COM, OMU, MUN, UNI, ...   \n",
       "\n",
       "                                       child_trigram  jaro_func_score  \\\n",
       "0  [NEW, EWK, WKI, KIR, IRK, RK , K P,  PR, PRO, ...             0.58   \n",
       "1                [DEG, EGE, GEN, ENK, NKO, KOL, OLB]             0.51   \n",
       "2  [EMP, MPL, PLO, LOY, OYB, YBR, BRI, RID, IDG, ...             0.63   \n",
       "3           [SAN, AN , N M,  MA, MAR, ARI, RIN, INA]             0.78   \n",
       "4  [RED, ED , D E,  EN, ENV, NVE, VEL, ELO, LOP, ...             0.57   \n",
       "\n",
       "                      jaro_func_score_trigram_parent  \\\n",
       "0  [0.61, 0.0, 0.0, 0.0, 0.0, 0.0, 0.0, 0.0, 0.0,...   \n",
       "1             [0.61, 0.47, 0.47, 0.0, 0.0, 0.0, 0.0]   \n",
       "2  [0.62, 0.47, 0.47, 0.0, 0.0, 0.0, 0.0, 0.0, 0....   \n",
       "3     [0.79, 0.64, 0.49, 0.49, 0.49, 0.49, 0.0, 0.0]   \n",
       "4  [0.7, 0.45, 0.45, 0.45, 0.45, 0.45, 0.45, 0.45...   \n",
       "\n",
       "                       jaro_func_score_trigram_child  \n",
       "0  [0.68, 0.6, 0.52, 0.47, 0.47, 0.47, 0.47, 0.47...  \n",
       "1  [0.7, 0.63, 0.48, 0.48, 0.0, 0.0, 0.0, 0.0, 0....  \n",
       "2  [0.69, 0.61, 0.47, 0.47, 0.47, 0.47, 0.0, 0.0,...  \n",
       "3               [0.84, 0.62, 0.62, 0.48, 0.48, 0.48]  \n",
       "4  [0.79, 0.71, 0.62, 0.62, 0.58, 0.58, 0.46, 0.4...  "
      ]
     },
     "execution_count": 122,
     "metadata": {},
     "output_type": "execute_result"
    }
   ],
   "source": [
    "#read in data\n",
    "# df = pd.read_csv('bo_attr_lookup_data_new.csv', encoding='latin1')\n",
    "df = pd.read_csv('bo_attr_lookup_new.csv', encoding='latin1')\n",
    "\n",
    "#create spare child col\n",
    "df['children_org_name'] = df['children_org_name_list'].agg(list)\n",
    "\n",
    "#conver child col to list\n",
    "df['children_org_name_list'] = df['children_org_name_list'].agg(list)\n",
    "\n",
    "#fill missing values\n",
    "df = df.fillna('missingmissingmissingmissingmissing')\n",
    "\n",
    "#trigram function\n",
    "def split_str(s, N):\n",
    "    rmax = np.clip(len(s)-N, a_min=0, a_max=None)\n",
    "    return [s[0+i:N+i] for i in range(0, rmax+1)]\n",
    "\n",
    "#trigrams\n",
    "df['parent_trigram'] = df['parent_org_name'].apply(lambda x: split_str(x, 3))\n",
    "df['child_trigram'] = df['children_org_name_list'].apply(lambda x: split_str(x, 3))\n",
    "\n",
    "#convert to list\n",
    "df['children_org_name_list'] = df.children_org_name_list.map(lambda x: [x])\n",
    "\n",
    "#jaro score\n",
    "df['jaro_func_score'] = df[['parent_org_name', 'children_org_name_list']].agg(lambda x: get_top_matches(*x), axis=1)\n",
    "df['jaro_func_score'] = df.jaro_func_score.apply(lambda x: [val[1] for val in x])\n",
    "df['jaro_func_score'] = df.jaro_func_score.apply(lambda x: ', '.join([str(i) for i in x])).astype(float)\n",
    "\n",
    "#parent to child\n",
    "df['jaro_func_score_trigram_parent'] = df[['parent_org_name', 'child_trigram']].agg(lambda x: get_top_matches(*x), axis=1)\n",
    "df['jaro_func_score_trigram_parent'] = df.jaro_func_score_trigram_parent.apply(lambda x: [val[1] for val in x])\n",
    "\n",
    "#child to parent\n",
    "df['jaro_func_score_trigram_child'] = df[['children_org_name', 'parent_trigram']].agg(lambda x: get_top_matches(*x), axis=1)\n",
    "df['jaro_func_score_trigram_child'] = df.jaro_func_score_trigram_child.apply(lambda x: [val[1] for val in x])\n",
    "\n",
    "df.head(5)"
   ]
  },
  {
   "cell_type": "markdown",
   "metadata": {},
   "source": [
    "# Create Jaro Functions"
   ]
  },
  {
   "cell_type": "code",
   "execution_count": 8,
   "metadata": {},
   "outputs": [],
   "source": [
    "#jaro version\n",
    "def sort_token_alphabetically(word):\n",
    "    token = re.split('[,. ]', word)\n",
    "    sorted_token = sorted(token)\n",
    "    return ' '.join(sorted_token)\n",
    "\n",
    "def get_jaro_distance(first, second, winkler=True, winkler_ajustment=True,\n",
    "                      scaling=0.1, sort_tokens=True):\n",
    "    \"\"\"\n",
    "    :param first: word to calculate distance for\n",
    "    :param second: word to calculate distance with\n",
    "    :param winkler: same as winkler_ajustment\n",
    "    :param winkler_ajustment: add an adjustment factor to the Jaro of the distance\n",
    "    :param scaling: scaling factor for the Winkler adjustment\n",
    "    :return: Jaro distance adjusted (or not)\n",
    "    \"\"\"\n",
    "    if sort_tokens:\n",
    "        first = sort_token_alphabetically(first)\n",
    "        second = sort_token_alphabetically(second)\n",
    "\n",
    "    if not first or not second:\n",
    "        raise JaroDistanceException(\n",
    "            \"Cannot calculate distance from NoneType ({0}, {1})\".format(\n",
    "                first.__class__.__name__,\n",
    "                second.__class__.__name__))\n",
    "\n",
    "    jaro = _score(first, second)\n",
    "    cl = min(len(_get_prefix(first, second)), 4)\n",
    "\n",
    "    if all([winkler, winkler_ajustment]):  # 0.1 as scaling factor\n",
    "        return round((jaro + (scaling * cl * (1.0 - jaro))) * 100.0) / 100.0\n",
    "\n",
    "    return jaro\n",
    "\n",
    "def _score(first, second):\n",
    "    shorter, longer = first.lower(), second.lower()\n",
    "\n",
    "    if len(first) > len(second):\n",
    "        longer, shorter = shorter, longer\n",
    "\n",
    "    m1 = _get_matching_characters(shorter, longer)\n",
    "    m2 = _get_matching_characters(longer, shorter)\n",
    "\n",
    "    if len(m1) == 0 or len(m2) == 0:\n",
    "        return 0.0\n",
    "\n",
    "    return (float(len(m1)) / len(shorter) +\n",
    "            float(len(m2)) / len(longer) +\n",
    "            float(len(m1) - _transpositions(m1, m2)) / len(m1)) / 3.0\n",
    "\n",
    "def _get_diff_index(first, second):\n",
    "    if first == second:\n",
    "        pass\n",
    "\n",
    "    if not first or not second:\n",
    "        return 0\n",
    "\n",
    "    max_len = min(len(first), len(second))\n",
    "    for i in range(0, max_len):\n",
    "        if not first[i] == second[i]:\n",
    "            return i\n",
    "\n",
    "    return max_len\n",
    "\n",
    "def _get_prefix(first, second):\n",
    "    if not first or not second:\n",
    "        return \"\"\n",
    "\n",
    "    index = _get_diff_index(first, second)\n",
    "    if index == -1:\n",
    "        return first\n",
    "\n",
    "    elif index == 0:\n",
    "        return \"\"\n",
    "\n",
    "    else:\n",
    "        return first[0:index]\n",
    "\n",
    "def _get_matching_characters(first, second):\n",
    "    common = []\n",
    "    limit = math.floor(min(len(first), len(second)) / 2)\n",
    "\n",
    "    for i, l in enumerate(first):\n",
    "        left, right = int(max(0, i - limit)), int(\n",
    "            min(i + limit + 1, len(second)))\n",
    "        if l in second[left:right]:\n",
    "            common.append(l)\n",
    "            second = second[0:second.index(l)] + '*' + second[\n",
    "                                                       second.index(l) + 1:]\n",
    "\n",
    "    return ''.join(common)\n",
    "\n",
    "def _transpositions(first, second):\n",
    "    return math.floor(\n",
    "        len([(f, s) for f, s in zip(first, second) if not f == s]) / 2.0)\n",
    "\n",
    "def get_top_matches(reference, value_list, max_results=None):\n",
    "    scores = []\n",
    "    if not max_results:\n",
    "        max_results = len(value_list)\n",
    "    for val in value_list:\n",
    "        score_sorted = get_jaro_distance(reference, val)\n",
    "        score_unsorted = get_jaro_distance(reference, val, sort_tokens=False)\n",
    "        scores.append((val, max(score_sorted, score_unsorted)))\n",
    "    scores.sort(key=lambda x: x[1], reverse=True)\n",
    "\n",
    "    return scores[:max_results]\n",
    "\n",
    "class JaroDistanceException(Exception):\n",
    "    def __init__(self, message):\n",
    "        super(Exception, self).__init__(message)"
   ]
  },
  {
   "cell_type": "markdown",
   "metadata": {},
   "source": [
    "# Apply Jaro and Sequencer function scores"
   ]
  },
  {
   "cell_type": "code",
   "execution_count": 123,
   "metadata": {},
   "outputs": [
    {
     "data": {
      "text/html": [
       "<div>\n",
       "<style scoped>\n",
       "    .dataframe tbody tr th:only-of-type {\n",
       "        vertical-align: middle;\n",
       "    }\n",
       "\n",
       "    .dataframe tbody tr th {\n",
       "        vertical-align: top;\n",
       "    }\n",
       "\n",
       "    .dataframe thead th {\n",
       "        text-align: right;\n",
       "    }\n",
       "</style>\n",
       "<table border=\"1\" class=\"dataframe\">\n",
       "  <thead>\n",
       "    <tr style=\"text-align: right;\">\n",
       "      <th></th>\n",
       "      <th>parent_org_name</th>\n",
       "      <th>children_org_name_list</th>\n",
       "      <th>match_confidence_score</th>\n",
       "      <th>match_confidence</th>\n",
       "      <th>children_org_name</th>\n",
       "      <th>parent_trigram</th>\n",
       "      <th>child_trigram</th>\n",
       "      <th>jaro_func_score</th>\n",
       "      <th>jaro_func_score_trigram_parent</th>\n",
       "      <th>jaro_func_score_trigram_child</th>\n",
       "      <th>total_chars_positions</th>\n",
       "      <th>consecutive_chars</th>\n",
       "      <th>sequence_matcher_ratio</th>\n",
       "      <th>count_same_position</th>\n",
       "      <th>count_total_unique_chars</th>\n",
       "      <th>count_common_chars</th>\n",
       "      <th>percent_matched</th>\n",
       "      <th>percent_same_position</th>\n",
       "    </tr>\n",
       "  </thead>\n",
       "  <tbody>\n",
       "    <tr>\n",
       "      <th>0</th>\n",
       "      <td>\"NEXARK INC\"</td>\n",
       "      <td>[NEWKIRK PRODUCTS]</td>\n",
       "      <td>0.533333</td>\n",
       "      <td>LOW</td>\n",
       "      <td>NEWKIRK PRODUCTS</td>\n",
       "      <td>[\"NE, NEX, EXA, XAR, ARK, RK , K I,  IN, INC, ...</td>\n",
       "      <td>[NEW, EWK, WKI, KIR, IRK, RK , K P,  PR, PRO, ...</td>\n",
       "      <td>0.58</td>\n",
       "      <td>[0.61, 0.0, 0.0, 0.0, 0.0, 0.0, 0.0, 0.0, 0.0,...</td>\n",
       "      <td>[0.68, 0.6, 0.52, 0.47, 0.47, 0.47, 0.47, 0.47...</td>\n",
       "      <td>16.0</td>\n",
       "      <td>3.0</td>\n",
       "      <td>0.43</td>\n",
       "      <td>3.0</td>\n",
       "      <td>24.0</td>\n",
       "      <td>7.0</td>\n",
       "      <td>0.29</td>\n",
       "      <td>0.19</td>\n",
       "    </tr>\n",
       "    <tr>\n",
       "      <th>1</th>\n",
       "      <td>+DESCONOCIDO</td>\n",
       "      <td>[DEGENKOLB]</td>\n",
       "      <td>0.666667</td>\n",
       "      <td>LOW</td>\n",
       "      <td>DEGENKOLB</td>\n",
       "      <td>[+DE, DES, ESC, SCO, CON, ONO, NOC, OCI, CID, ...</td>\n",
       "      <td>[DEG, EGE, GEN, ENK, NKO, KOL, OLB]</td>\n",
       "      <td>0.51</td>\n",
       "      <td>[0.61, 0.47, 0.47, 0.0, 0.0, 0.0, 0.0]</td>\n",
       "      <td>[0.7, 0.63, 0.48, 0.48, 0.0, 0.0, 0.0, 0.0, 0....</td>\n",
       "      <td>9.0</td>\n",
       "      <td>2.0</td>\n",
       "      <td>0.38</td>\n",
       "      <td>0.0</td>\n",
       "      <td>16.0</td>\n",
       "      <td>4.0</td>\n",
       "      <td>0.25</td>\n",
       "      <td>0.00</td>\n",
       "    </tr>\n",
       "    <tr>\n",
       "      <th>2</th>\n",
       "      <td>+EMBOL LTDA</td>\n",
       "      <td>[EMPLOYBRIDGE]</td>\n",
       "      <td>0.600000</td>\n",
       "      <td>LOW</td>\n",
       "      <td>EMPLOYBRIDGE</td>\n",
       "      <td>[+EM, EMB, MBO, BOL, OL , L L,  LT, LTD, TDA]</td>\n",
       "      <td>[EMP, MPL, PLO, LOY, OYB, YBR, BRI, RID, IDG, ...</td>\n",
       "      <td>0.63</td>\n",
       "      <td>[0.62, 0.47, 0.47, 0.0, 0.0, 0.0, 0.0, 0.0, 0....</td>\n",
       "      <td>[0.69, 0.61, 0.47, 0.47, 0.47, 0.47, 0.0, 0.0,...</td>\n",
       "      <td>12.0</td>\n",
       "      <td>2.0</td>\n",
       "      <td>0.35</td>\n",
       "      <td>2.0</td>\n",
       "      <td>21.0</td>\n",
       "      <td>6.0</td>\n",
       "      <td>0.29</td>\n",
       "      <td>0.17</td>\n",
       "    </tr>\n",
       "    <tr>\n",
       "      <th>3</th>\n",
       "      <td>+MARTINS</td>\n",
       "      <td>[SAN MARINA]</td>\n",
       "      <td>0.750000</td>\n",
       "      <td>MEDIUM</td>\n",
       "      <td>SAN MARINA</td>\n",
       "      <td>[+MA, MAR, ART, RTI, TIN, INS]</td>\n",
       "      <td>[SAN, AN , N M,  MA, MAR, ARI, RIN, INA]</td>\n",
       "      <td>0.78</td>\n",
       "      <td>[0.79, 0.64, 0.49, 0.49, 0.49, 0.49, 0.0, 0.0]</td>\n",
       "      <td>[0.84, 0.62, 0.62, 0.48, 0.48, 0.48]</td>\n",
       "      <td>10.0</td>\n",
       "      <td>3.0</td>\n",
       "      <td>0.56</td>\n",
       "      <td>0.0</td>\n",
       "      <td>15.0</td>\n",
       "      <td>6.0</td>\n",
       "      <td>0.40</td>\n",
       "      <td>0.00</td>\n",
       "    </tr>\n",
       "    <tr>\n",
       "      <th>4</th>\n",
       "      <td>+RED COMUNICACAO &amp; MARKETING LTDA</td>\n",
       "      <td>[RED ENVELOPE ENTERTAINMENT]</td>\n",
       "      <td>0.625000</td>\n",
       "      <td>LOW</td>\n",
       "      <td>RED ENVELOPE ENTERTAINMENT</td>\n",
       "      <td>[+RE, RED, ED , D C,  CO, COM, OMU, MUN, UNI, ...</td>\n",
       "      <td>[RED, ED , D E,  EN, ENV, NVE, VEL, ELO, LOP, ...</td>\n",
       "      <td>0.57</td>\n",
       "      <td>[0.7, 0.45, 0.45, 0.45, 0.45, 0.45, 0.45, 0.45...</td>\n",
       "      <td>[0.79, 0.71, 0.62, 0.62, 0.58, 0.58, 0.46, 0.4...</td>\n",
       "      <td>26.0</td>\n",
       "      <td>4.0</td>\n",
       "      <td>0.31</td>\n",
       "      <td>1.0</td>\n",
       "      <td>30.0</td>\n",
       "      <td>11.0</td>\n",
       "      <td>0.37</td>\n",
       "      <td>0.04</td>\n",
       "    </tr>\n",
       "    <tr>\n",
       "      <th>5</th>\n",
       "      <td>+TEGAPE IMPORTACAO E COMERCIO DE TECIDOS TECNI...</td>\n",
       "      <td>[ARTHUR LUNDGREN TECIDOS]</td>\n",
       "      <td>0.512821</td>\n",
       "      <td>LOW</td>\n",
       "      <td>ARTHUR LUNDGREN TECIDOS</td>\n",
       "      <td>[+TE, TEG, EGA, GAP, APE, PE , E I,  IM, IMP, ...</td>\n",
       "      <td>[ART, RTH, THU, HUR, UR , R L,  LU, LUN, UND, ...</td>\n",
       "      <td>0.45</td>\n",
       "      <td>[0.57, 0.57, 0.45, 0.45, 0.45, 0.45, 0.45, 0.4...</td>\n",
       "      <td>[0.58, 0.58, 0.51, 0.51, 0.51, 0.46, 0.46, 0.4...</td>\n",
       "      <td>23.0</td>\n",
       "      <td>8.0</td>\n",
       "      <td>0.41</td>\n",
       "      <td>1.0</td>\n",
       "      <td>31.0</td>\n",
       "      <td>13.0</td>\n",
       "      <td>0.42</td>\n",
       "      <td>0.04</td>\n",
       "    </tr>\n",
       "    <tr>\n",
       "      <th>6</th>\n",
       "      <td>+UNDEFINEDUNDEFINEDUNDEFINED</td>\n",
       "      <td>[UNITYPOINT HEALTH]</td>\n",
       "      <td>0.444444</td>\n",
       "      <td>LOW</td>\n",
       "      <td>UNITYPOINT HEALTH</td>\n",
       "      <td>[+UN, UND, NDE, DEF, EFI, FIN, INE, NED, EDU, ...</td>\n",
       "      <td>[UNI, NIT, ITY, TYP, YPO, POI, OIN, INT, NT , ...</td>\n",
       "      <td>0.47</td>\n",
       "      <td>[0.58, 0.46, 0.46, 0.46, 0.0, 0.0, 0.0, 0.0, 0...</td>\n",
       "      <td>[0.68, 0.68, 0.68, 0.59, 0.59, 0.59, 0.46, 0.4...</td>\n",
       "      <td>17.0</td>\n",
       "      <td>2.0</td>\n",
       "      <td>0.22</td>\n",
       "      <td>0.0</td>\n",
       "      <td>19.0</td>\n",
       "      <td>4.0</td>\n",
       "      <td>0.21</td>\n",
       "      <td>0.00</td>\n",
       "    </tr>\n",
       "    <tr>\n",
       "      <th>7</th>\n",
       "      <td>101 DO BRASIL INDUSTRIAL LTDA.</td>\n",
       "      <td>[FORCE 10 NETWORKS]</td>\n",
       "      <td>0.433333</td>\n",
       "      <td>LOW</td>\n",
       "      <td>FORCE 10 NETWORKS</td>\n",
       "      <td>[101, 01 , 1 D,  DO, DO , O B,  BR, BRA, RAS, ...</td>\n",
       "      <td>[FOR, ORC, RCE, CE , E 1,  10, 10 , 0 N,  NE, ...</td>\n",
       "      <td>0.51</td>\n",
       "      <td>[0.79, 0.79, 0.51, 0.51, 0.46, 0.46, 0.0, 0.0,...</td>\n",
       "      <td>[0.68, 0.64, 0.46, 0.46, 0.46, 0.46, 0.46, 0.4...</td>\n",
       "      <td>17.0</td>\n",
       "      <td>2.0</td>\n",
       "      <td>0.26</td>\n",
       "      <td>0.0</td>\n",
       "      <td>28.0</td>\n",
       "      <td>8.0</td>\n",
       "      <td>0.29</td>\n",
       "      <td>0.00</td>\n",
       "    </tr>\n",
       "    <tr>\n",
       "      <th>8</th>\n",
       "      <td>111 SOUTH</td>\n",
       "      <td>[1&amp;1 IONOS]</td>\n",
       "      <td>0.769231</td>\n",
       "      <td>MEDIUM</td>\n",
       "      <td>1&amp;1 IONOS</td>\n",
       "      <td>[111, 11 , 1 S,  SO, SOU, OUT, UTH]</td>\n",
       "      <td>[1&amp;1, &amp;1 , 1 I,  IO, ION, ONO, NOS]</td>\n",
       "      <td>0.67</td>\n",
       "      <td>[0.67, 0.63, 0.53, 0.0, 0.0, 0.0, 0.0]</td>\n",
       "      <td>[0.8, 0.67, 0.53, 0.0, 0.0, 0.0, 0.0]</td>\n",
       "      <td>9.0</td>\n",
       "      <td>2.0</td>\n",
       "      <td>0.44</td>\n",
       "      <td>4.0</td>\n",
       "      <td>14.0</td>\n",
       "      <td>4.0</td>\n",
       "      <td>0.29</td>\n",
       "      <td>0.44</td>\n",
       "    </tr>\n",
       "    <tr>\n",
       "      <th>9</th>\n",
       "      <td>2 DESIGN E COMUNICACAO</td>\n",
       "      <td>[FRANCE 2]</td>\n",
       "      <td>0.375000</td>\n",
       "      <td>LOW</td>\n",
       "      <td>FRANCE 2</td>\n",
       "      <td>[2 D,  DE, DES, ESI, SIG, IGN, GN , N E,  E , ...</td>\n",
       "      <td>[FRA, RAN, ANC, NCE, CE , E 2]</td>\n",
       "      <td>0.58</td>\n",
       "      <td>[0.67, 0.59, 0.46, 0.46, 0.0, 0.0]</td>\n",
       "      <td>[0.71, 0.49, 0.49, 0.49, 0.49, 0.49, 0.49, 0.4...</td>\n",
       "      <td>8.0</td>\n",
       "      <td>2.0</td>\n",
       "      <td>0.20</td>\n",
       "      <td>0.0</td>\n",
       "      <td>21.0</td>\n",
       "      <td>6.0</td>\n",
       "      <td>0.29</td>\n",
       "      <td>0.00</td>\n",
       "    </tr>\n",
       "  </tbody>\n",
       "</table>\n",
       "</div>"
      ],
      "text/plain": [
       "                                     parent_org_name  \\\n",
       "0                                       \"NEXARK INC\"   \n",
       "1                                       +DESCONOCIDO   \n",
       "2                                        +EMBOL LTDA   \n",
       "3                                           +MARTINS   \n",
       "4                  +RED COMUNICACAO & MARKETING LTDA   \n",
       "5  +TEGAPE IMPORTACAO E COMERCIO DE TECIDOS TECNI...   \n",
       "6                       +UNDEFINEDUNDEFINEDUNDEFINED   \n",
       "7                     101 DO BRASIL INDUSTRIAL LTDA.   \n",
       "8                                          111 SOUTH   \n",
       "9                             2 DESIGN E COMUNICACAO   \n",
       "\n",
       "         children_org_name_list  match_confidence_score match_confidence  \\\n",
       "0            [NEWKIRK PRODUCTS]                0.533333              LOW   \n",
       "1                   [DEGENKOLB]                0.666667              LOW   \n",
       "2                [EMPLOYBRIDGE]                0.600000              LOW   \n",
       "3                  [SAN MARINA]                0.750000           MEDIUM   \n",
       "4  [RED ENVELOPE ENTERTAINMENT]                0.625000              LOW   \n",
       "5     [ARTHUR LUNDGREN TECIDOS]                0.512821              LOW   \n",
       "6           [UNITYPOINT HEALTH]                0.444444              LOW   \n",
       "7           [FORCE 10 NETWORKS]                0.433333              LOW   \n",
       "8                   [1&1 IONOS]                0.769231           MEDIUM   \n",
       "9                    [FRANCE 2]                0.375000              LOW   \n",
       "\n",
       "            children_org_name  \\\n",
       "0            NEWKIRK PRODUCTS   \n",
       "1                   DEGENKOLB   \n",
       "2                EMPLOYBRIDGE   \n",
       "3                  SAN MARINA   \n",
       "4  RED ENVELOPE ENTERTAINMENT   \n",
       "5     ARTHUR LUNDGREN TECIDOS   \n",
       "6           UNITYPOINT HEALTH   \n",
       "7           FORCE 10 NETWORKS   \n",
       "8                   1&1 IONOS   \n",
       "9                    FRANCE 2   \n",
       "\n",
       "                                      parent_trigram  \\\n",
       "0  [\"NE, NEX, EXA, XAR, ARK, RK , K I,  IN, INC, ...   \n",
       "1  [+DE, DES, ESC, SCO, CON, ONO, NOC, OCI, CID, ...   \n",
       "2      [+EM, EMB, MBO, BOL, OL , L L,  LT, LTD, TDA]   \n",
       "3                     [+MA, MAR, ART, RTI, TIN, INS]   \n",
       "4  [+RE, RED, ED , D C,  CO, COM, OMU, MUN, UNI, ...   \n",
       "5  [+TE, TEG, EGA, GAP, APE, PE , E I,  IM, IMP, ...   \n",
       "6  [+UN, UND, NDE, DEF, EFI, FIN, INE, NED, EDU, ...   \n",
       "7  [101, 01 , 1 D,  DO, DO , O B,  BR, BRA, RAS, ...   \n",
       "8                [111, 11 , 1 S,  SO, SOU, OUT, UTH]   \n",
       "9  [2 D,  DE, DES, ESI, SIG, IGN, GN , N E,  E , ...   \n",
       "\n",
       "                                       child_trigram  jaro_func_score  \\\n",
       "0  [NEW, EWK, WKI, KIR, IRK, RK , K P,  PR, PRO, ...             0.58   \n",
       "1                [DEG, EGE, GEN, ENK, NKO, KOL, OLB]             0.51   \n",
       "2  [EMP, MPL, PLO, LOY, OYB, YBR, BRI, RID, IDG, ...             0.63   \n",
       "3           [SAN, AN , N M,  MA, MAR, ARI, RIN, INA]             0.78   \n",
       "4  [RED, ED , D E,  EN, ENV, NVE, VEL, ELO, LOP, ...             0.57   \n",
       "5  [ART, RTH, THU, HUR, UR , R L,  LU, LUN, UND, ...             0.45   \n",
       "6  [UNI, NIT, ITY, TYP, YPO, POI, OIN, INT, NT , ...             0.47   \n",
       "7  [FOR, ORC, RCE, CE , E 1,  10, 10 , 0 N,  NE, ...             0.51   \n",
       "8                [1&1, &1 , 1 I,  IO, ION, ONO, NOS]             0.67   \n",
       "9                     [FRA, RAN, ANC, NCE, CE , E 2]             0.58   \n",
       "\n",
       "                      jaro_func_score_trigram_parent  \\\n",
       "0  [0.61, 0.0, 0.0, 0.0, 0.0, 0.0, 0.0, 0.0, 0.0,...   \n",
       "1             [0.61, 0.47, 0.47, 0.0, 0.0, 0.0, 0.0]   \n",
       "2  [0.62, 0.47, 0.47, 0.0, 0.0, 0.0, 0.0, 0.0, 0....   \n",
       "3     [0.79, 0.64, 0.49, 0.49, 0.49, 0.49, 0.0, 0.0]   \n",
       "4  [0.7, 0.45, 0.45, 0.45, 0.45, 0.45, 0.45, 0.45...   \n",
       "5  [0.57, 0.57, 0.45, 0.45, 0.45, 0.45, 0.45, 0.4...   \n",
       "6  [0.58, 0.46, 0.46, 0.46, 0.0, 0.0, 0.0, 0.0, 0...   \n",
       "7  [0.79, 0.79, 0.51, 0.51, 0.46, 0.46, 0.0, 0.0,...   \n",
       "8             [0.67, 0.63, 0.53, 0.0, 0.0, 0.0, 0.0]   \n",
       "9                 [0.67, 0.59, 0.46, 0.46, 0.0, 0.0]   \n",
       "\n",
       "                       jaro_func_score_trigram_child  total_chars_positions  \\\n",
       "0  [0.68, 0.6, 0.52, 0.47, 0.47, 0.47, 0.47, 0.47...                   16.0   \n",
       "1  [0.7, 0.63, 0.48, 0.48, 0.0, 0.0, 0.0, 0.0, 0....                    9.0   \n",
       "2  [0.69, 0.61, 0.47, 0.47, 0.47, 0.47, 0.0, 0.0,...                   12.0   \n",
       "3               [0.84, 0.62, 0.62, 0.48, 0.48, 0.48]                   10.0   \n",
       "4  [0.79, 0.71, 0.62, 0.62, 0.58, 0.58, 0.46, 0.4...                   26.0   \n",
       "5  [0.58, 0.58, 0.51, 0.51, 0.51, 0.46, 0.46, 0.4...                   23.0   \n",
       "6  [0.68, 0.68, 0.68, 0.59, 0.59, 0.59, 0.46, 0.4...                   17.0   \n",
       "7  [0.68, 0.64, 0.46, 0.46, 0.46, 0.46, 0.46, 0.4...                   17.0   \n",
       "8              [0.8, 0.67, 0.53, 0.0, 0.0, 0.0, 0.0]                    9.0   \n",
       "9  [0.71, 0.49, 0.49, 0.49, 0.49, 0.49, 0.49, 0.4...                    8.0   \n",
       "\n",
       "   consecutive_chars  sequence_matcher_ratio  count_same_position  \\\n",
       "0                3.0                    0.43                  3.0   \n",
       "1                2.0                    0.38                  0.0   \n",
       "2                2.0                    0.35                  2.0   \n",
       "3                3.0                    0.56                  0.0   \n",
       "4                4.0                    0.31                  1.0   \n",
       "5                8.0                    0.41                  1.0   \n",
       "6                2.0                    0.22                  0.0   \n",
       "7                2.0                    0.26                  0.0   \n",
       "8                2.0                    0.44                  4.0   \n",
       "9                2.0                    0.20                  0.0   \n",
       "\n",
       "   count_total_unique_chars  count_common_chars  percent_matched  \\\n",
       "0                      24.0                 7.0             0.29   \n",
       "1                      16.0                 4.0             0.25   \n",
       "2                      21.0                 6.0             0.29   \n",
       "3                      15.0                 6.0             0.40   \n",
       "4                      30.0                11.0             0.37   \n",
       "5                      31.0                13.0             0.42   \n",
       "6                      19.0                 4.0             0.21   \n",
       "7                      28.0                 8.0             0.29   \n",
       "8                      14.0                 4.0             0.29   \n",
       "9                      21.0                 6.0             0.29   \n",
       "\n",
       "   percent_same_position  \n",
       "0                   0.19  \n",
       "1                   0.00  \n",
       "2                   0.17  \n",
       "3                   0.00  \n",
       "4                   0.04  \n",
       "5                   0.04  \n",
       "6                   0.00  \n",
       "7                   0.00  \n",
       "8                   0.44  \n",
       "9                   0.00  "
      ]
     },
     "execution_count": 123,
     "metadata": {},
     "output_type": "execute_result"
    }
   ],
   "source": [
    "def total_chars(row):\n",
    "\n",
    "    results0 = []\n",
    "    results1 = []\n",
    "    results2 = []\n",
    "    results3 = []\n",
    "    results4 = []\n",
    "    results5 = []\n",
    "    \n",
    "    p = row['parent_org_name'].lower()\n",
    "    for i in row['children_org_name_list']:\n",
    "        \n",
    "        t = i.lower()\n",
    "        \n",
    "        dict1 = Counter(p)\n",
    "        dict2 = Counter(t)\n",
    "        \n",
    "        commonDict = dict1 & dict2\n",
    "        allChars = len(dict1) + len(dict2)\n",
    "        childCharsPositions = len(t)\n",
    "        \n",
    "        results0.append((i, childCharsPositions)[1]) #totalCharacterPositions\n",
    "        results1.append((i, SequenceMatcher(None, t, p).find_longest_match(0, len(t), 0, len(p))[2])[1]) #consecutiveMatchingChars\n",
    "        results2.append((i, round(SequenceMatcher(None, t, p).ratio(),2))[1]) #sequence_matcher_ratio\n",
    "        results3.append((i, sum(int(k==v) for k,v in zip(t, p)))[1]) #countSamePosition\n",
    "        results4.append((i, allChars)[1])#countTotalUniqueChars\n",
    "        results5.append((i, len(commonDict))[1]) #countCommonChars\n",
    "\n",
    "    return pd.Series([results0, results1, results2, results3, results4, results5])\n",
    "\n",
    "df[['total_chars_positions'\n",
    "    , 'consecutive_chars'\n",
    "    , 'sequence_matcher_ratio'\n",
    "    , 'count_same_position'\n",
    "    , 'count_total_unique_chars'\n",
    "    , 'count_common_chars'\n",
    "   ]]  = df.apply(total_chars, axis=1)\n",
    "\n",
    "df['total_chars_positions'] = df.total_chars_positions.apply(lambda x: ', '.join([str(i) for i in x])).astype(float)\n",
    "df['consecutive_chars'] = df.consecutive_chars.apply(lambda x: ', '.join([str(i) for i in x])).astype(float)\n",
    "df['sequence_matcher_ratio'] = df.sequence_matcher_ratio.apply(lambda x: ', '.join([str(i) for i in x])).astype(float)\n",
    "df['count_same_position'] = df.count_same_position.apply(lambda x: ', '.join([str(i) for i in x])).astype(float)\n",
    "df['count_total_unique_chars'] = df.count_total_unique_chars.apply(lambda x: ', '.join([str(i) for i in x])).astype(float)\n",
    "df['count_common_chars'] = df.count_common_chars.apply(lambda x: ', '.join([str(i) for i in x])).astype(float)\n",
    "\n",
    "df['percent_matched'] = round(df['count_common_chars'] / df['count_total_unique_chars'],2)\n",
    "df['percent_same_position'] = round(df['count_same_position'] / df['total_chars_positions'],2)\n",
    "\n",
    "df.head(10)"
   ]
  },
  {
   "cell_type": "markdown",
   "metadata": {},
   "source": [
    "# Create Bins columns"
   ]
  },
  {
   "cell_type": "code",
   "execution_count": 128,
   "metadata": {},
   "outputs": [
    {
     "data": {
      "text/html": [
       "<div>\n",
       "<style scoped>\n",
       "    .dataframe tbody tr th:only-of-type {\n",
       "        vertical-align: middle;\n",
       "    }\n",
       "\n",
       "    .dataframe tbody tr th {\n",
       "        vertical-align: top;\n",
       "    }\n",
       "\n",
       "    .dataframe thead th {\n",
       "        text-align: right;\n",
       "    }\n",
       "</style>\n",
       "<table border=\"1\" class=\"dataframe\">\n",
       "  <thead>\n",
       "    <tr style=\"text-align: right;\">\n",
       "      <th></th>\n",
       "      <th>parent_org_name</th>\n",
       "      <th>children_org_name_list</th>\n",
       "      <th>match_confidence_score</th>\n",
       "      <th>match_confidence</th>\n",
       "      <th>children_org_name</th>\n",
       "      <th>parent_trigram</th>\n",
       "      <th>child_trigram</th>\n",
       "      <th>jaro_func_score</th>\n",
       "      <th>jaro_func_score_trigram_parent</th>\n",
       "      <th>jaro_func_score_trigram_child</th>\n",
       "      <th>...</th>\n",
       "      <th>count_total_unique_chars</th>\n",
       "      <th>count_common_chars</th>\n",
       "      <th>percent_matched</th>\n",
       "      <th>percent_same_position</th>\n",
       "      <th>jaro_score_bins</th>\n",
       "      <th>sequencer_ratio_bins</th>\n",
       "      <th>jaro_sequencer_equal</th>\n",
       "      <th>jaro_match_equal</th>\n",
       "      <th>sequencer_match_equal</th>\n",
       "      <th>jaro_sequencer_match_equal</th>\n",
       "    </tr>\n",
       "  </thead>\n",
       "  <tbody>\n",
       "    <tr>\n",
       "      <th>0</th>\n",
       "      <td>\"NEXARK INC\"</td>\n",
       "      <td>[NEWKIRK PRODUCTS]</td>\n",
       "      <td>0.533333</td>\n",
       "      <td>LOW</td>\n",
       "      <td>NEWKIRK PRODUCTS</td>\n",
       "      <td>[\"NE, NEX, EXA, XAR, ARK, RK , K I,  IN, INC, ...</td>\n",
       "      <td>[NEW, EWK, WKI, KIR, IRK, RK , K P,  PR, PRO, ...</td>\n",
       "      <td>0.58</td>\n",
       "      <td>[0.61, 0.0, 0.0, 0.0, 0.0, 0.0, 0.0, 0.0, 0.0,...</td>\n",
       "      <td>[0.68, 0.6, 0.52, 0.47, 0.47, 0.47, 0.47, 0.47...</td>\n",
       "      <td>...</td>\n",
       "      <td>24.0</td>\n",
       "      <td>7.0</td>\n",
       "      <td>0.29</td>\n",
       "      <td>0.19</td>\n",
       "      <td>LOW</td>\n",
       "      <td>LOW</td>\n",
       "      <td>EQUAL</td>\n",
       "      <td>EQUAL</td>\n",
       "      <td>EQUAL</td>\n",
       "      <td>EQUAL</td>\n",
       "    </tr>\n",
       "    <tr>\n",
       "      <th>1</th>\n",
       "      <td>+DESCONOCIDO</td>\n",
       "      <td>[DEGENKOLB]</td>\n",
       "      <td>0.666667</td>\n",
       "      <td>LOW</td>\n",
       "      <td>DEGENKOLB</td>\n",
       "      <td>[+DE, DES, ESC, SCO, CON, ONO, NOC, OCI, CID, ...</td>\n",
       "      <td>[DEG, EGE, GEN, ENK, NKO, KOL, OLB]</td>\n",
       "      <td>0.51</td>\n",
       "      <td>[0.61, 0.47, 0.47, 0.0, 0.0, 0.0, 0.0]</td>\n",
       "      <td>[0.7, 0.63, 0.48, 0.48, 0.0, 0.0, 0.0, 0.0, 0....</td>\n",
       "      <td>...</td>\n",
       "      <td>16.0</td>\n",
       "      <td>4.0</td>\n",
       "      <td>0.25</td>\n",
       "      <td>0.00</td>\n",
       "      <td>LOW</td>\n",
       "      <td>LOW</td>\n",
       "      <td>EQUAL</td>\n",
       "      <td>EQUAL</td>\n",
       "      <td>EQUAL</td>\n",
       "      <td>EQUAL</td>\n",
       "    </tr>\n",
       "    <tr>\n",
       "      <th>2</th>\n",
       "      <td>+EMBOL LTDA</td>\n",
       "      <td>[EMPLOYBRIDGE]</td>\n",
       "      <td>0.600000</td>\n",
       "      <td>LOW</td>\n",
       "      <td>EMPLOYBRIDGE</td>\n",
       "      <td>[+EM, EMB, MBO, BOL, OL , L L,  LT, LTD, TDA]</td>\n",
       "      <td>[EMP, MPL, PLO, LOY, OYB, YBR, BRI, RID, IDG, ...</td>\n",
       "      <td>0.63</td>\n",
       "      <td>[0.62, 0.47, 0.47, 0.0, 0.0, 0.0, 0.0, 0.0, 0....</td>\n",
       "      <td>[0.69, 0.61, 0.47, 0.47, 0.47, 0.47, 0.0, 0.0,...</td>\n",
       "      <td>...</td>\n",
       "      <td>21.0</td>\n",
       "      <td>6.0</td>\n",
       "      <td>0.29</td>\n",
       "      <td>0.17</td>\n",
       "      <td>LOW</td>\n",
       "      <td>LOW</td>\n",
       "      <td>EQUAL</td>\n",
       "      <td>EQUAL</td>\n",
       "      <td>EQUAL</td>\n",
       "      <td>EQUAL</td>\n",
       "    </tr>\n",
       "    <tr>\n",
       "      <th>3</th>\n",
       "      <td>+MARTINS</td>\n",
       "      <td>[SAN MARINA]</td>\n",
       "      <td>0.750000</td>\n",
       "      <td>MEDIUM</td>\n",
       "      <td>SAN MARINA</td>\n",
       "      <td>[+MA, MAR, ART, RTI, TIN, INS]</td>\n",
       "      <td>[SAN, AN , N M,  MA, MAR, ARI, RIN, INA]</td>\n",
       "      <td>0.78</td>\n",
       "      <td>[0.79, 0.64, 0.49, 0.49, 0.49, 0.49, 0.0, 0.0]</td>\n",
       "      <td>[0.84, 0.62, 0.62, 0.48, 0.48, 0.48]</td>\n",
       "      <td>...</td>\n",
       "      <td>15.0</td>\n",
       "      <td>6.0</td>\n",
       "      <td>0.40</td>\n",
       "      <td>0.00</td>\n",
       "      <td>HIGH</td>\n",
       "      <td>LOW</td>\n",
       "      <td>NOT EQUAL</td>\n",
       "      <td>NOT EQUAL</td>\n",
       "      <td>NOT EQUAL</td>\n",
       "      <td>NOT EQUAL</td>\n",
       "    </tr>\n",
       "    <tr>\n",
       "      <th>4</th>\n",
       "      <td>+RED COMUNICACAO &amp; MARKETING LTDA</td>\n",
       "      <td>[RED ENVELOPE ENTERTAINMENT]</td>\n",
       "      <td>0.625000</td>\n",
       "      <td>LOW</td>\n",
       "      <td>RED ENVELOPE ENTERTAINMENT</td>\n",
       "      <td>[+RE, RED, ED , D C,  CO, COM, OMU, MUN, UNI, ...</td>\n",
       "      <td>[RED, ED , D E,  EN, ENV, NVE, VEL, ELO, LOP, ...</td>\n",
       "      <td>0.57</td>\n",
       "      <td>[0.7, 0.45, 0.45, 0.45, 0.45, 0.45, 0.45, 0.45...</td>\n",
       "      <td>[0.79, 0.71, 0.62, 0.62, 0.58, 0.58, 0.46, 0.4...</td>\n",
       "      <td>...</td>\n",
       "      <td>30.0</td>\n",
       "      <td>11.0</td>\n",
       "      <td>0.37</td>\n",
       "      <td>0.04</td>\n",
       "      <td>LOW</td>\n",
       "      <td>LOW</td>\n",
       "      <td>EQUAL</td>\n",
       "      <td>EQUAL</td>\n",
       "      <td>EQUAL</td>\n",
       "      <td>EQUAL</td>\n",
       "    </tr>\n",
       "    <tr>\n",
       "      <th>5</th>\n",
       "      <td>+TEGAPE IMPORTACAO E COMERCIO DE TECIDOS TECNI...</td>\n",
       "      <td>[ARTHUR LUNDGREN TECIDOS]</td>\n",
       "      <td>0.512821</td>\n",
       "      <td>LOW</td>\n",
       "      <td>ARTHUR LUNDGREN TECIDOS</td>\n",
       "      <td>[+TE, TEG, EGA, GAP, APE, PE , E I,  IM, IMP, ...</td>\n",
       "      <td>[ART, RTH, THU, HUR, UR , R L,  LU, LUN, UND, ...</td>\n",
       "      <td>0.45</td>\n",
       "      <td>[0.57, 0.57, 0.45, 0.45, 0.45, 0.45, 0.45, 0.4...</td>\n",
       "      <td>[0.58, 0.58, 0.51, 0.51, 0.51, 0.46, 0.46, 0.4...</td>\n",
       "      <td>...</td>\n",
       "      <td>31.0</td>\n",
       "      <td>13.0</td>\n",
       "      <td>0.42</td>\n",
       "      <td>0.04</td>\n",
       "      <td>LOW</td>\n",
       "      <td>LOW</td>\n",
       "      <td>EQUAL</td>\n",
       "      <td>EQUAL</td>\n",
       "      <td>EQUAL</td>\n",
       "      <td>EQUAL</td>\n",
       "    </tr>\n",
       "    <tr>\n",
       "      <th>6</th>\n",
       "      <td>+UNDEFINEDUNDEFINEDUNDEFINED</td>\n",
       "      <td>[UNITYPOINT HEALTH]</td>\n",
       "      <td>0.444444</td>\n",
       "      <td>LOW</td>\n",
       "      <td>UNITYPOINT HEALTH</td>\n",
       "      <td>[+UN, UND, NDE, DEF, EFI, FIN, INE, NED, EDU, ...</td>\n",
       "      <td>[UNI, NIT, ITY, TYP, YPO, POI, OIN, INT, NT , ...</td>\n",
       "      <td>0.47</td>\n",
       "      <td>[0.58, 0.46, 0.46, 0.46, 0.0, 0.0, 0.0, 0.0, 0...</td>\n",
       "      <td>[0.68, 0.68, 0.68, 0.59, 0.59, 0.59, 0.46, 0.4...</td>\n",
       "      <td>...</td>\n",
       "      <td>19.0</td>\n",
       "      <td>4.0</td>\n",
       "      <td>0.21</td>\n",
       "      <td>0.00</td>\n",
       "      <td>LOW</td>\n",
       "      <td>LOW</td>\n",
       "      <td>EQUAL</td>\n",
       "      <td>EQUAL</td>\n",
       "      <td>EQUAL</td>\n",
       "      <td>EQUAL</td>\n",
       "    </tr>\n",
       "    <tr>\n",
       "      <th>7</th>\n",
       "      <td>101 DO BRASIL INDUSTRIAL LTDA.</td>\n",
       "      <td>[FORCE 10 NETWORKS]</td>\n",
       "      <td>0.433333</td>\n",
       "      <td>LOW</td>\n",
       "      <td>FORCE 10 NETWORKS</td>\n",
       "      <td>[101, 01 , 1 D,  DO, DO , O B,  BR, BRA, RAS, ...</td>\n",
       "      <td>[FOR, ORC, RCE, CE , E 1,  10, 10 , 0 N,  NE, ...</td>\n",
       "      <td>0.51</td>\n",
       "      <td>[0.79, 0.79, 0.51, 0.51, 0.46, 0.46, 0.0, 0.0,...</td>\n",
       "      <td>[0.68, 0.64, 0.46, 0.46, 0.46, 0.46, 0.46, 0.4...</td>\n",
       "      <td>...</td>\n",
       "      <td>28.0</td>\n",
       "      <td>8.0</td>\n",
       "      <td>0.29</td>\n",
       "      <td>0.00</td>\n",
       "      <td>LOW</td>\n",
       "      <td>LOW</td>\n",
       "      <td>EQUAL</td>\n",
       "      <td>EQUAL</td>\n",
       "      <td>EQUAL</td>\n",
       "      <td>EQUAL</td>\n",
       "    </tr>\n",
       "    <tr>\n",
       "      <th>8</th>\n",
       "      <td>111 SOUTH</td>\n",
       "      <td>[1&amp;1 IONOS]</td>\n",
       "      <td>0.769231</td>\n",
       "      <td>MEDIUM</td>\n",
       "      <td>1&amp;1 IONOS</td>\n",
       "      <td>[111, 11 , 1 S,  SO, SOU, OUT, UTH]</td>\n",
       "      <td>[1&amp;1, &amp;1 , 1 I,  IO, ION, ONO, NOS]</td>\n",
       "      <td>0.67</td>\n",
       "      <td>[0.67, 0.63, 0.53, 0.0, 0.0, 0.0, 0.0]</td>\n",
       "      <td>[0.8, 0.67, 0.53, 0.0, 0.0, 0.0, 0.0]</td>\n",
       "      <td>...</td>\n",
       "      <td>14.0</td>\n",
       "      <td>4.0</td>\n",
       "      <td>0.29</td>\n",
       "      <td>0.44</td>\n",
       "      <td>LOW</td>\n",
       "      <td>LOW</td>\n",
       "      <td>EQUAL</td>\n",
       "      <td>NOT EQUAL</td>\n",
       "      <td>NOT EQUAL</td>\n",
       "      <td>NOT EQUAL</td>\n",
       "    </tr>\n",
       "    <tr>\n",
       "      <th>9</th>\n",
       "      <td>2 DESIGN E COMUNICACAO</td>\n",
       "      <td>[FRANCE 2]</td>\n",
       "      <td>0.375000</td>\n",
       "      <td>LOW</td>\n",
       "      <td>FRANCE 2</td>\n",
       "      <td>[2 D,  DE, DES, ESI, SIG, IGN, GN , N E,  E , ...</td>\n",
       "      <td>[FRA, RAN, ANC, NCE, CE , E 2]</td>\n",
       "      <td>0.58</td>\n",
       "      <td>[0.67, 0.59, 0.46, 0.46, 0.0, 0.0]</td>\n",
       "      <td>[0.71, 0.49, 0.49, 0.49, 0.49, 0.49, 0.49, 0.4...</td>\n",
       "      <td>...</td>\n",
       "      <td>21.0</td>\n",
       "      <td>6.0</td>\n",
       "      <td>0.29</td>\n",
       "      <td>0.00</td>\n",
       "      <td>LOW</td>\n",
       "      <td>LOW</td>\n",
       "      <td>EQUAL</td>\n",
       "      <td>EQUAL</td>\n",
       "      <td>EQUAL</td>\n",
       "      <td>EQUAL</td>\n",
       "    </tr>\n",
       "  </tbody>\n",
       "</table>\n",
       "<p>10 rows × 24 columns</p>\n",
       "</div>"
      ],
      "text/plain": [
       "                                     parent_org_name  \\\n",
       "0                                       \"NEXARK INC\"   \n",
       "1                                       +DESCONOCIDO   \n",
       "2                                        +EMBOL LTDA   \n",
       "3                                           +MARTINS   \n",
       "4                  +RED COMUNICACAO & MARKETING LTDA   \n",
       "5  +TEGAPE IMPORTACAO E COMERCIO DE TECIDOS TECNI...   \n",
       "6                       +UNDEFINEDUNDEFINEDUNDEFINED   \n",
       "7                     101 DO BRASIL INDUSTRIAL LTDA.   \n",
       "8                                          111 SOUTH   \n",
       "9                             2 DESIGN E COMUNICACAO   \n",
       "\n",
       "         children_org_name_list  match_confidence_score match_confidence  \\\n",
       "0            [NEWKIRK PRODUCTS]                0.533333              LOW   \n",
       "1                   [DEGENKOLB]                0.666667              LOW   \n",
       "2                [EMPLOYBRIDGE]                0.600000              LOW   \n",
       "3                  [SAN MARINA]                0.750000           MEDIUM   \n",
       "4  [RED ENVELOPE ENTERTAINMENT]                0.625000              LOW   \n",
       "5     [ARTHUR LUNDGREN TECIDOS]                0.512821              LOW   \n",
       "6           [UNITYPOINT HEALTH]                0.444444              LOW   \n",
       "7           [FORCE 10 NETWORKS]                0.433333              LOW   \n",
       "8                   [1&1 IONOS]                0.769231           MEDIUM   \n",
       "9                    [FRANCE 2]                0.375000              LOW   \n",
       "\n",
       "            children_org_name  \\\n",
       "0            NEWKIRK PRODUCTS   \n",
       "1                   DEGENKOLB   \n",
       "2                EMPLOYBRIDGE   \n",
       "3                  SAN MARINA   \n",
       "4  RED ENVELOPE ENTERTAINMENT   \n",
       "5     ARTHUR LUNDGREN TECIDOS   \n",
       "6           UNITYPOINT HEALTH   \n",
       "7           FORCE 10 NETWORKS   \n",
       "8                   1&1 IONOS   \n",
       "9                    FRANCE 2   \n",
       "\n",
       "                                      parent_trigram  \\\n",
       "0  [\"NE, NEX, EXA, XAR, ARK, RK , K I,  IN, INC, ...   \n",
       "1  [+DE, DES, ESC, SCO, CON, ONO, NOC, OCI, CID, ...   \n",
       "2      [+EM, EMB, MBO, BOL, OL , L L,  LT, LTD, TDA]   \n",
       "3                     [+MA, MAR, ART, RTI, TIN, INS]   \n",
       "4  [+RE, RED, ED , D C,  CO, COM, OMU, MUN, UNI, ...   \n",
       "5  [+TE, TEG, EGA, GAP, APE, PE , E I,  IM, IMP, ...   \n",
       "6  [+UN, UND, NDE, DEF, EFI, FIN, INE, NED, EDU, ...   \n",
       "7  [101, 01 , 1 D,  DO, DO , O B,  BR, BRA, RAS, ...   \n",
       "8                [111, 11 , 1 S,  SO, SOU, OUT, UTH]   \n",
       "9  [2 D,  DE, DES, ESI, SIG, IGN, GN , N E,  E , ...   \n",
       "\n",
       "                                       child_trigram  jaro_func_score  \\\n",
       "0  [NEW, EWK, WKI, KIR, IRK, RK , K P,  PR, PRO, ...             0.58   \n",
       "1                [DEG, EGE, GEN, ENK, NKO, KOL, OLB]             0.51   \n",
       "2  [EMP, MPL, PLO, LOY, OYB, YBR, BRI, RID, IDG, ...             0.63   \n",
       "3           [SAN, AN , N M,  MA, MAR, ARI, RIN, INA]             0.78   \n",
       "4  [RED, ED , D E,  EN, ENV, NVE, VEL, ELO, LOP, ...             0.57   \n",
       "5  [ART, RTH, THU, HUR, UR , R L,  LU, LUN, UND, ...             0.45   \n",
       "6  [UNI, NIT, ITY, TYP, YPO, POI, OIN, INT, NT , ...             0.47   \n",
       "7  [FOR, ORC, RCE, CE , E 1,  10, 10 , 0 N,  NE, ...             0.51   \n",
       "8                [1&1, &1 , 1 I,  IO, ION, ONO, NOS]             0.67   \n",
       "9                     [FRA, RAN, ANC, NCE, CE , E 2]             0.58   \n",
       "\n",
       "                      jaro_func_score_trigram_parent  \\\n",
       "0  [0.61, 0.0, 0.0, 0.0, 0.0, 0.0, 0.0, 0.0, 0.0,...   \n",
       "1             [0.61, 0.47, 0.47, 0.0, 0.0, 0.0, 0.0]   \n",
       "2  [0.62, 0.47, 0.47, 0.0, 0.0, 0.0, 0.0, 0.0, 0....   \n",
       "3     [0.79, 0.64, 0.49, 0.49, 0.49, 0.49, 0.0, 0.0]   \n",
       "4  [0.7, 0.45, 0.45, 0.45, 0.45, 0.45, 0.45, 0.45...   \n",
       "5  [0.57, 0.57, 0.45, 0.45, 0.45, 0.45, 0.45, 0.4...   \n",
       "6  [0.58, 0.46, 0.46, 0.46, 0.0, 0.0, 0.0, 0.0, 0...   \n",
       "7  [0.79, 0.79, 0.51, 0.51, 0.46, 0.46, 0.0, 0.0,...   \n",
       "8             [0.67, 0.63, 0.53, 0.0, 0.0, 0.0, 0.0]   \n",
       "9                 [0.67, 0.59, 0.46, 0.46, 0.0, 0.0]   \n",
       "\n",
       "                       jaro_func_score_trigram_child  ...  \\\n",
       "0  [0.68, 0.6, 0.52, 0.47, 0.47, 0.47, 0.47, 0.47...  ...   \n",
       "1  [0.7, 0.63, 0.48, 0.48, 0.0, 0.0, 0.0, 0.0, 0....  ...   \n",
       "2  [0.69, 0.61, 0.47, 0.47, 0.47, 0.47, 0.0, 0.0,...  ...   \n",
       "3               [0.84, 0.62, 0.62, 0.48, 0.48, 0.48]  ...   \n",
       "4  [0.79, 0.71, 0.62, 0.62, 0.58, 0.58, 0.46, 0.4...  ...   \n",
       "5  [0.58, 0.58, 0.51, 0.51, 0.51, 0.46, 0.46, 0.4...  ...   \n",
       "6  [0.68, 0.68, 0.68, 0.59, 0.59, 0.59, 0.46, 0.4...  ...   \n",
       "7  [0.68, 0.64, 0.46, 0.46, 0.46, 0.46, 0.46, 0.4...  ...   \n",
       "8              [0.8, 0.67, 0.53, 0.0, 0.0, 0.0, 0.0]  ...   \n",
       "9  [0.71, 0.49, 0.49, 0.49, 0.49, 0.49, 0.49, 0.4...  ...   \n",
       "\n",
       "   count_total_unique_chars  count_common_chars  percent_matched  \\\n",
       "0                      24.0                 7.0             0.29   \n",
       "1                      16.0                 4.0             0.25   \n",
       "2                      21.0                 6.0             0.29   \n",
       "3                      15.0                 6.0             0.40   \n",
       "4                      30.0                11.0             0.37   \n",
       "5                      31.0                13.0             0.42   \n",
       "6                      19.0                 4.0             0.21   \n",
       "7                      28.0                 8.0             0.29   \n",
       "8                      14.0                 4.0             0.29   \n",
       "9                      21.0                 6.0             0.29   \n",
       "\n",
       "   percent_same_position  jaro_score_bins  sequencer_ratio_bins  \\\n",
       "0                   0.19              LOW                   LOW   \n",
       "1                   0.00              LOW                   LOW   \n",
       "2                   0.17              LOW                   LOW   \n",
       "3                   0.00             HIGH                   LOW   \n",
       "4                   0.04              LOW                   LOW   \n",
       "5                   0.04              LOW                   LOW   \n",
       "6                   0.00              LOW                   LOW   \n",
       "7                   0.00              LOW                   LOW   \n",
       "8                   0.44              LOW                   LOW   \n",
       "9                   0.00              LOW                   LOW   \n",
       "\n",
       "   jaro_sequencer_equal  jaro_match_equal sequencer_match_equal  \\\n",
       "0                 EQUAL             EQUAL                 EQUAL   \n",
       "1                 EQUAL             EQUAL                 EQUAL   \n",
       "2                 EQUAL             EQUAL                 EQUAL   \n",
       "3             NOT EQUAL         NOT EQUAL             NOT EQUAL   \n",
       "4                 EQUAL             EQUAL                 EQUAL   \n",
       "5                 EQUAL             EQUAL                 EQUAL   \n",
       "6                 EQUAL             EQUAL                 EQUAL   \n",
       "7                 EQUAL             EQUAL                 EQUAL   \n",
       "8                 EQUAL         NOT EQUAL             NOT EQUAL   \n",
       "9                 EQUAL             EQUAL                 EQUAL   \n",
       "\n",
       "  jaro_sequencer_match_equal  \n",
       "0                      EQUAL  \n",
       "1                      EQUAL  \n",
       "2                      EQUAL  \n",
       "3                  NOT EQUAL  \n",
       "4                      EQUAL  \n",
       "5                      EQUAL  \n",
       "6                      EQUAL  \n",
       "7                      EQUAL  \n",
       "8                  NOT EQUAL  \n",
       "9                      EQUAL  \n",
       "\n",
       "[10 rows x 24 columns]"
      ]
     },
     "execution_count": 128,
     "metadata": {},
     "output_type": "execute_result"
    }
   ],
   "source": [
    "# def jaro_score_bins(df):\n",
    "#     if df.jaro_func_score >= .85:\n",
    "#         return 'HIGH'\n",
    "#     elif df.jaro_func_score >= .55 and df.jaro_func_score < .85:\n",
    "#         return 'MEDIUM'\n",
    "#     else:\n",
    "#         return 'LOW'\n",
    "    \n",
    "def jaro_score_bins(df):\n",
    "    if df.jaro_func_score >= .75:\n",
    "        return 'HIGH'\n",
    "    else:\n",
    "        return 'LOW'\n",
    "    \n",
    "df['jaro_score_bins'] = df.apply(jaro_score_bins, axis=1)\n",
    "\n",
    "# def sequencer_ratio_bins(df):\n",
    "#     if df.sequence_matcher_ratio >= .85:\n",
    "#         return 'HIGH'\n",
    "#     elif df.sequence_matcher_ratio >= .55 and df.sequence_matcher_ratio < .85:\n",
    "#         return 'MEDIUM'\n",
    "#     else:\n",
    "#         return 'LOW'\n",
    "    \n",
    "def sequencer_ratio_bins(df):\n",
    "    if df.sequence_matcher_ratio >= .75:\n",
    "        return 'HIGH'\n",
    "    else:\n",
    "        return 'LOW'\n",
    "    \n",
    "df['sequencer_ratio_bins'] = df.apply(sequencer_ratio_bins, axis=1)\n",
    "\n",
    "def jaro_sequencer_equal(df):\n",
    "    if df['jaro_score_bins'] == df['sequencer_ratio_bins']:\n",
    "        return 'EQUAL'\n",
    "    else:\n",
    "        return 'NOT EQUAL'\n",
    "    \n",
    "df['jaro_sequencer_equal'] = df.apply(jaro_sequencer_equal, axis=1)\n",
    "\n",
    "def jaro_match_equal(df):\n",
    "    if df['jaro_score_bins'] == df['match_confidence']:\n",
    "        return 'EQUAL'\n",
    "    else:\n",
    "        return 'NOT EQUAL'\n",
    "\n",
    "df['jaro_match_equal'] = df.apply(jaro_match_equal, axis=1)\n",
    "\n",
    "def sequencer_match_equal(df):\n",
    "    if df['sequencer_ratio_bins'] == df['match_confidence']:\n",
    "        return 'EQUAL'\n",
    "    else:\n",
    "        return 'NOT EQUAL'\n",
    "\n",
    "df['sequencer_match_equal'] = df.apply(sequencer_match_equal, axis=1)\n",
    "\n",
    "def jaro_sequencer_match_equal(df):\n",
    "    if df['jaro_score_bins'] == df['sequencer_ratio_bins'] and df['jaro_score_bins'] == df['match_confidence']:\n",
    "        return 'EQUAL'\n",
    "    else:\n",
    "        return 'NOT EQUAL'\n",
    "\n",
    "df['jaro_sequencer_match_equal'] = df.apply(jaro_sequencer_match_equal, axis=1)\n",
    "\n",
    "df.head(10)"
   ]
  },
  {
   "cell_type": "code",
   "execution_count": 129,
   "metadata": {},
   "outputs": [
    {
     "name": "stdout",
     "output_type": "stream",
     "text": [
      "Jaro and Sequencer Bins: \n",
      "EQUAL        9838\n",
      "NOT EQUAL    6172\n",
      "Name: jaro_sequencer_equal, dtype: int64\n",
      "\n",
      "Jaro, Sequencer and Match Bins: \n",
      "EQUAL        8797\n",
      "NOT EQUAL    7213\n",
      "Name: jaro_sequencer_match_equal, dtype: int64\n",
      "\n",
      "Match Confidence Bins: \n",
      "LOW       12726\n",
      "MEDIUM     1857\n",
      "HIGH       1353\n",
      "HIGH-1       74\n",
      "Name: match_confidence, dtype: int64\n",
      "\n",
      "Jaro Score Bins: \n",
      "LOW     8279\n",
      "HIGH    7731\n",
      "Name: jaro_score_bins, dtype: int64\n",
      "\n",
      "Sequencer Ratio Bins: \n",
      "LOW     14409\n",
      "HIGH     1601\n",
      "Name: sequencer_ratio_bins, dtype: int64\n",
      "\n",
      "Jaro Match Bins: \n",
      "EQUAL        9103\n",
      "NOT EQUAL    6907\n",
      "Name: jaro_match_equal, dtype: int64\n",
      "\n",
      "Sequencer Match Bins: \n",
      "EQUAL        13488\n",
      "NOT EQUAL     2522\n",
      "Name: sequencer_match_equal, dtype: int64\n",
      "\n"
     ]
    }
   ],
   "source": [
    "Jaro_and_Sequencer_Bins = df['jaro_sequencer_equal'].value_counts()\n",
    "Jaro_Sequencer_and_Match_Bins = df['jaro_sequencer_match_equal'].value_counts()\n",
    "Jaro_Match_Bins = df['jaro_match_equal'].value_counts()\n",
    "Sequencer_Match_Bins = df['sequencer_match_equal'].value_counts()\n",
    "\n",
    "print('Jaro and Sequencer Bins: ')\n",
    "print(df['jaro_sequencer_equal'].value_counts())\n",
    "print('')\n",
    "print('Jaro, Sequencer and Match Bins: ')\n",
    "print(df['jaro_sequencer_match_equal'].value_counts())\n",
    "print('')\n",
    "print('Match Confidence Bins: ')\n",
    "print(df['match_confidence'].value_counts())\n",
    "print('')\n",
    "print('Jaro Score Bins: ')\n",
    "print(df['jaro_score_bins'].value_counts())\n",
    "print('')\n",
    "print('Sequencer Ratio Bins: ')\n",
    "print(df['sequencer_ratio_bins'].value_counts())\n",
    "print('')\n",
    "print('Jaro Match Bins: ')\n",
    "print(df['jaro_match_equal'].value_counts())\n",
    "print('')\n",
    "print('Sequencer Match Bins: ')\n",
    "print(df['sequencer_match_equal'].value_counts())\n",
    "print('')"
   ]
  },
  {
   "cell_type": "markdown",
   "metadata": {},
   "source": [
    "# Visualize Match Confidence, Jaro and Sequencer Breakdown"
   ]
  },
  {
   "cell_type": "code",
   "execution_count": 130,
   "metadata": {},
   "outputs": [
    {
     "data": {
      "application/vnd.plotly.v1+json": {
       "config": {
        "plotlyServerURL": "https://plot.ly"
       },
       "data": [
        {
         "domain": {
          "x": [
           0,
           0.2125
          ],
          "y": [
           0,
           1
          ]
         },
         "labels": [
          "NOT EQUAL",
          "EQUAL"
         ],
         "marker": {
          "colors": [
           "darkblue",
           "lightcyan"
          ]
         },
         "name": "Jaro_and_Sequencer_Bins",
         "textinfo": "text+label+value+percent",
         "textposition": "inside",
         "type": "pie",
         "values": [
          9838,
          6172
         ]
        },
        {
         "domain": {
          "x": [
           0.2625,
           0.475
          ],
          "y": [
           0,
           1
          ]
         },
         "labels": [
          "NOT EQUAL",
          "EQUAL"
         ],
         "marker": {
          "colors": [
           "darkblue",
           "lightcyan"
          ]
         },
         "name": "Jaro_Sequencer_and_Match_Bins",
         "textinfo": "text+label+value+percent",
         "textposition": "inside",
         "type": "pie",
         "values": [
          8797,
          7213
         ]
        },
        {
         "domain": {
          "x": [
           0.525,
           0.7375
          ],
          "y": [
           0,
           1
          ]
         },
         "labels": [
          "NOT EQUAL",
          "EQUAL"
         ],
         "marker": {
          "colors": [
           "darkblue",
           "lightcyan"
          ]
         },
         "name": "Sequencer_Match_Bins",
         "textinfo": "text+label+value+percent",
         "textposition": "inside",
         "type": "pie",
         "values": [
          13488,
          2522
         ]
        },
        {
         "domain": {
          "x": [
           0.7875,
           1
          ],
          "y": [
           0,
           1
          ]
         },
         "labels": [
          "NOT EQUAL",
          "EQUAL"
         ],
         "marker": {
          "colors": [
           "darkblue",
           "lightcyan"
          ]
         },
         "name": "Jaro_Match_Bins",
         "textinfo": "text+label+value+percent",
         "textposition": "inside",
         "type": "pie",
         "values": [
          9103,
          6907
         ]
        }
       ],
       "layout": {
        "annotations": [
         {
          "font": {
           "size": 16
          },
          "showarrow": false,
          "text": "JS",
          "x": 0.10625,
          "xanchor": "center",
          "xref": "paper",
          "y": 1,
          "yanchor": "bottom",
          "yref": "paper"
         },
         {
          "font": {
           "size": 16
          },
          "showarrow": false,
          "text": "JSM",
          "x": 0.36875,
          "xanchor": "center",
          "xref": "paper",
          "y": 1,
          "yanchor": "bottom",
          "yref": "paper"
         },
         {
          "font": {
           "size": 16
          },
          "showarrow": false,
          "text": "SM",
          "x": 0.6312500000000001,
          "xanchor": "center",
          "xref": "paper",
          "y": 1,
          "yanchor": "bottom",
          "yref": "paper"
         },
         {
          "font": {
           "size": 16
          },
          "showarrow": false,
          "text": "JM",
          "x": 0.89375,
          "xanchor": "center",
          "xref": "paper",
          "y": 1,
          "yanchor": "bottom",
          "yref": "paper"
         }
        ],
        "legend": {
         "traceorder": "normal"
        },
        "template": {
         "data": {
          "bar": [
           {
            "error_x": {
             "color": "#2a3f5f"
            },
            "error_y": {
             "color": "#2a3f5f"
            },
            "marker": {
             "line": {
              "color": "#E5ECF6",
              "width": 0.5
             }
            },
            "type": "bar"
           }
          ],
          "barpolar": [
           {
            "marker": {
             "line": {
              "color": "#E5ECF6",
              "width": 0.5
             }
            },
            "type": "barpolar"
           }
          ],
          "carpet": [
           {
            "aaxis": {
             "endlinecolor": "#2a3f5f",
             "gridcolor": "white",
             "linecolor": "white",
             "minorgridcolor": "white",
             "startlinecolor": "#2a3f5f"
            },
            "baxis": {
             "endlinecolor": "#2a3f5f",
             "gridcolor": "white",
             "linecolor": "white",
             "minorgridcolor": "white",
             "startlinecolor": "#2a3f5f"
            },
            "type": "carpet"
           }
          ],
          "choropleth": [
           {
            "colorbar": {
             "outlinewidth": 0,
             "ticks": ""
            },
            "type": "choropleth"
           }
          ],
          "contour": [
           {
            "colorbar": {
             "outlinewidth": 0,
             "ticks": ""
            },
            "colorscale": [
             [
              0,
              "#0d0887"
             ],
             [
              0.1111111111111111,
              "#46039f"
             ],
             [
              0.2222222222222222,
              "#7201a8"
             ],
             [
              0.3333333333333333,
              "#9c179e"
             ],
             [
              0.4444444444444444,
              "#bd3786"
             ],
             [
              0.5555555555555556,
              "#d8576b"
             ],
             [
              0.6666666666666666,
              "#ed7953"
             ],
             [
              0.7777777777777778,
              "#fb9f3a"
             ],
             [
              0.8888888888888888,
              "#fdca26"
             ],
             [
              1,
              "#f0f921"
             ]
            ],
            "type": "contour"
           }
          ],
          "contourcarpet": [
           {
            "colorbar": {
             "outlinewidth": 0,
             "ticks": ""
            },
            "type": "contourcarpet"
           }
          ],
          "heatmap": [
           {
            "colorbar": {
             "outlinewidth": 0,
             "ticks": ""
            },
            "colorscale": [
             [
              0,
              "#0d0887"
             ],
             [
              0.1111111111111111,
              "#46039f"
             ],
             [
              0.2222222222222222,
              "#7201a8"
             ],
             [
              0.3333333333333333,
              "#9c179e"
             ],
             [
              0.4444444444444444,
              "#bd3786"
             ],
             [
              0.5555555555555556,
              "#d8576b"
             ],
             [
              0.6666666666666666,
              "#ed7953"
             ],
             [
              0.7777777777777778,
              "#fb9f3a"
             ],
             [
              0.8888888888888888,
              "#fdca26"
             ],
             [
              1,
              "#f0f921"
             ]
            ],
            "type": "heatmap"
           }
          ],
          "heatmapgl": [
           {
            "colorbar": {
             "outlinewidth": 0,
             "ticks": ""
            },
            "colorscale": [
             [
              0,
              "#0d0887"
             ],
             [
              0.1111111111111111,
              "#46039f"
             ],
             [
              0.2222222222222222,
              "#7201a8"
             ],
             [
              0.3333333333333333,
              "#9c179e"
             ],
             [
              0.4444444444444444,
              "#bd3786"
             ],
             [
              0.5555555555555556,
              "#d8576b"
             ],
             [
              0.6666666666666666,
              "#ed7953"
             ],
             [
              0.7777777777777778,
              "#fb9f3a"
             ],
             [
              0.8888888888888888,
              "#fdca26"
             ],
             [
              1,
              "#f0f921"
             ]
            ],
            "type": "heatmapgl"
           }
          ],
          "histogram": [
           {
            "marker": {
             "colorbar": {
              "outlinewidth": 0,
              "ticks": ""
             }
            },
            "type": "histogram"
           }
          ],
          "histogram2d": [
           {
            "colorbar": {
             "outlinewidth": 0,
             "ticks": ""
            },
            "colorscale": [
             [
              0,
              "#0d0887"
             ],
             [
              0.1111111111111111,
              "#46039f"
             ],
             [
              0.2222222222222222,
              "#7201a8"
             ],
             [
              0.3333333333333333,
              "#9c179e"
             ],
             [
              0.4444444444444444,
              "#bd3786"
             ],
             [
              0.5555555555555556,
              "#d8576b"
             ],
             [
              0.6666666666666666,
              "#ed7953"
             ],
             [
              0.7777777777777778,
              "#fb9f3a"
             ],
             [
              0.8888888888888888,
              "#fdca26"
             ],
             [
              1,
              "#f0f921"
             ]
            ],
            "type": "histogram2d"
           }
          ],
          "histogram2dcontour": [
           {
            "colorbar": {
             "outlinewidth": 0,
             "ticks": ""
            },
            "colorscale": [
             [
              0,
              "#0d0887"
             ],
             [
              0.1111111111111111,
              "#46039f"
             ],
             [
              0.2222222222222222,
              "#7201a8"
             ],
             [
              0.3333333333333333,
              "#9c179e"
             ],
             [
              0.4444444444444444,
              "#bd3786"
             ],
             [
              0.5555555555555556,
              "#d8576b"
             ],
             [
              0.6666666666666666,
              "#ed7953"
             ],
             [
              0.7777777777777778,
              "#fb9f3a"
             ],
             [
              0.8888888888888888,
              "#fdca26"
             ],
             [
              1,
              "#f0f921"
             ]
            ],
            "type": "histogram2dcontour"
           }
          ],
          "mesh3d": [
           {
            "colorbar": {
             "outlinewidth": 0,
             "ticks": ""
            },
            "type": "mesh3d"
           }
          ],
          "parcoords": [
           {
            "line": {
             "colorbar": {
              "outlinewidth": 0,
              "ticks": ""
             }
            },
            "type": "parcoords"
           }
          ],
          "pie": [
           {
            "automargin": true,
            "type": "pie"
           }
          ],
          "scatter": [
           {
            "marker": {
             "colorbar": {
              "outlinewidth": 0,
              "ticks": ""
             }
            },
            "type": "scatter"
           }
          ],
          "scatter3d": [
           {
            "line": {
             "colorbar": {
              "outlinewidth": 0,
              "ticks": ""
             }
            },
            "marker": {
             "colorbar": {
              "outlinewidth": 0,
              "ticks": ""
             }
            },
            "type": "scatter3d"
           }
          ],
          "scattercarpet": [
           {
            "marker": {
             "colorbar": {
              "outlinewidth": 0,
              "ticks": ""
             }
            },
            "type": "scattercarpet"
           }
          ],
          "scattergeo": [
           {
            "marker": {
             "colorbar": {
              "outlinewidth": 0,
              "ticks": ""
             }
            },
            "type": "scattergeo"
           }
          ],
          "scattergl": [
           {
            "marker": {
             "colorbar": {
              "outlinewidth": 0,
              "ticks": ""
             }
            },
            "type": "scattergl"
           }
          ],
          "scattermapbox": [
           {
            "marker": {
             "colorbar": {
              "outlinewidth": 0,
              "ticks": ""
             }
            },
            "type": "scattermapbox"
           }
          ],
          "scatterpolar": [
           {
            "marker": {
             "colorbar": {
              "outlinewidth": 0,
              "ticks": ""
             }
            },
            "type": "scatterpolar"
           }
          ],
          "scatterpolargl": [
           {
            "marker": {
             "colorbar": {
              "outlinewidth": 0,
              "ticks": ""
             }
            },
            "type": "scatterpolargl"
           }
          ],
          "scatterternary": [
           {
            "marker": {
             "colorbar": {
              "outlinewidth": 0,
              "ticks": ""
             }
            },
            "type": "scatterternary"
           }
          ],
          "surface": [
           {
            "colorbar": {
             "outlinewidth": 0,
             "ticks": ""
            },
            "colorscale": [
             [
              0,
              "#0d0887"
             ],
             [
              0.1111111111111111,
              "#46039f"
             ],
             [
              0.2222222222222222,
              "#7201a8"
             ],
             [
              0.3333333333333333,
              "#9c179e"
             ],
             [
              0.4444444444444444,
              "#bd3786"
             ],
             [
              0.5555555555555556,
              "#d8576b"
             ],
             [
              0.6666666666666666,
              "#ed7953"
             ],
             [
              0.7777777777777778,
              "#fb9f3a"
             ],
             [
              0.8888888888888888,
              "#fdca26"
             ],
             [
              1,
              "#f0f921"
             ]
            ],
            "type": "surface"
           }
          ],
          "table": [
           {
            "cells": {
             "fill": {
              "color": "#EBF0F8"
             },
             "line": {
              "color": "white"
             }
            },
            "header": {
             "fill": {
              "color": "#C8D4E3"
             },
             "line": {
              "color": "white"
             }
            },
            "type": "table"
           }
          ]
         },
         "layout": {
          "annotationdefaults": {
           "arrowcolor": "#2a3f5f",
           "arrowhead": 0,
           "arrowwidth": 1
          },
          "coloraxis": {
           "colorbar": {
            "outlinewidth": 0,
            "ticks": ""
           }
          },
          "colorscale": {
           "diverging": [
            [
             0,
             "#8e0152"
            ],
            [
             0.1,
             "#c51b7d"
            ],
            [
             0.2,
             "#de77ae"
            ],
            [
             0.3,
             "#f1b6da"
            ],
            [
             0.4,
             "#fde0ef"
            ],
            [
             0.5,
             "#f7f7f7"
            ],
            [
             0.6,
             "#e6f5d0"
            ],
            [
             0.7,
             "#b8e186"
            ],
            [
             0.8,
             "#7fbc41"
            ],
            [
             0.9,
             "#4d9221"
            ],
            [
             1,
             "#276419"
            ]
           ],
           "sequential": [
            [
             0,
             "#0d0887"
            ],
            [
             0.1111111111111111,
             "#46039f"
            ],
            [
             0.2222222222222222,
             "#7201a8"
            ],
            [
             0.3333333333333333,
             "#9c179e"
            ],
            [
             0.4444444444444444,
             "#bd3786"
            ],
            [
             0.5555555555555556,
             "#d8576b"
            ],
            [
             0.6666666666666666,
             "#ed7953"
            ],
            [
             0.7777777777777778,
             "#fb9f3a"
            ],
            [
             0.8888888888888888,
             "#fdca26"
            ],
            [
             1,
             "#f0f921"
            ]
           ],
           "sequentialminus": [
            [
             0,
             "#0d0887"
            ],
            [
             0.1111111111111111,
             "#46039f"
            ],
            [
             0.2222222222222222,
             "#7201a8"
            ],
            [
             0.3333333333333333,
             "#9c179e"
            ],
            [
             0.4444444444444444,
             "#bd3786"
            ],
            [
             0.5555555555555556,
             "#d8576b"
            ],
            [
             0.6666666666666666,
             "#ed7953"
            ],
            [
             0.7777777777777778,
             "#fb9f3a"
            ],
            [
             0.8888888888888888,
             "#fdca26"
            ],
            [
             1,
             "#f0f921"
            ]
           ]
          },
          "colorway": [
           "#636efa",
           "#EF553B",
           "#00cc96",
           "#ab63fa",
           "#FFA15A",
           "#19d3f3",
           "#FF6692",
           "#B6E880",
           "#FF97FF",
           "#FECB52"
          ],
          "font": {
           "color": "#2a3f5f"
          },
          "geo": {
           "bgcolor": "white",
           "lakecolor": "white",
           "landcolor": "#E5ECF6",
           "showlakes": true,
           "showland": true,
           "subunitcolor": "white"
          },
          "hoverlabel": {
           "align": "left"
          },
          "hovermode": "closest",
          "mapbox": {
           "style": "light"
          },
          "paper_bgcolor": "white",
          "plot_bgcolor": "#E5ECF6",
          "polar": {
           "angularaxis": {
            "gridcolor": "white",
            "linecolor": "white",
            "ticks": ""
           },
           "bgcolor": "#E5ECF6",
           "radialaxis": {
            "gridcolor": "white",
            "linecolor": "white",
            "ticks": ""
           }
          },
          "scene": {
           "xaxis": {
            "backgroundcolor": "#E5ECF6",
            "gridcolor": "white",
            "gridwidth": 2,
            "linecolor": "white",
            "showbackground": true,
            "ticks": "",
            "zerolinecolor": "white"
           },
           "yaxis": {
            "backgroundcolor": "#E5ECF6",
            "gridcolor": "white",
            "gridwidth": 2,
            "linecolor": "white",
            "showbackground": true,
            "ticks": "",
            "zerolinecolor": "white"
           },
           "zaxis": {
            "backgroundcolor": "#E5ECF6",
            "gridcolor": "white",
            "gridwidth": 2,
            "linecolor": "white",
            "showbackground": true,
            "ticks": "",
            "zerolinecolor": "white"
           }
          },
          "shapedefaults": {
           "line": {
            "color": "#2a3f5f"
           }
          },
          "ternary": {
           "aaxis": {
            "gridcolor": "white",
            "linecolor": "white",
            "ticks": ""
           },
           "baxis": {
            "gridcolor": "white",
            "linecolor": "white",
            "ticks": ""
           },
           "bgcolor": "#E5ECF6",
           "caxis": {
            "gridcolor": "white",
            "linecolor": "white",
            "ticks": ""
           }
          },
          "title": {
           "x": 0.05
          },
          "xaxis": {
           "automargin": true,
           "gridcolor": "white",
           "linecolor": "white",
           "ticks": "",
           "title": {
            "standoff": 15
           },
           "zerolinecolor": "white",
           "zerolinewidth": 2
          },
          "yaxis": {
           "automargin": true,
           "gridcolor": "white",
           "linecolor": "white",
           "ticks": "",
           "title": {
            "standoff": 15
           },
           "zerolinecolor": "white",
           "zerolinewidth": 2
          }
         }
        }
       }
      },
      "text/html": [
       "<div>\n",
       "        \n",
       "        \n",
       "            <div id=\"81e44458-88ab-416d-ac52-7a3c5a941fa4\" class=\"plotly-graph-div\" style=\"height:525px; width:100%;\"></div>\n",
       "            <script type=\"text/javascript\">\n",
       "                require([\"plotly\"], function(Plotly) {\n",
       "                    window.PLOTLYENV=window.PLOTLYENV || {};\n",
       "                    \n",
       "                if (document.getElementById(\"81e44458-88ab-416d-ac52-7a3c5a941fa4\")) {\n",
       "                    Plotly.newPlot(\n",
       "                        '81e44458-88ab-416d-ac52-7a3c5a941fa4',\n",
       "                        [{\"domain\": {\"x\": [0.0, 0.2125], \"y\": [0.0, 1.0]}, \"labels\": [\"NOT EQUAL\", \"EQUAL\"], \"marker\": {\"colors\": [\"darkblue\", \"lightcyan\"]}, \"name\": \"Jaro_and_Sequencer_Bins\", \"textinfo\": \"text+label+value+percent\", \"textposition\": \"inside\", \"type\": \"pie\", \"values\": [9838, 6172]}, {\"domain\": {\"x\": [0.2625, 0.475], \"y\": [0.0, 1.0]}, \"labels\": [\"NOT EQUAL\", \"EQUAL\"], \"marker\": {\"colors\": [\"darkblue\", \"lightcyan\"]}, \"name\": \"Jaro_Sequencer_and_Match_Bins\", \"textinfo\": \"text+label+value+percent\", \"textposition\": \"inside\", \"type\": \"pie\", \"values\": [8797, 7213]}, {\"domain\": {\"x\": [0.525, 0.7375], \"y\": [0.0, 1.0]}, \"labels\": [\"NOT EQUAL\", \"EQUAL\"], \"marker\": {\"colors\": [\"darkblue\", \"lightcyan\"]}, \"name\": \"Sequencer_Match_Bins\", \"textinfo\": \"text+label+value+percent\", \"textposition\": \"inside\", \"type\": \"pie\", \"values\": [13488, 2522]}, {\"domain\": {\"x\": [0.7875, 1.0], \"y\": [0.0, 1.0]}, \"labels\": [\"NOT EQUAL\", \"EQUAL\"], \"marker\": {\"colors\": [\"darkblue\", \"lightcyan\"]}, \"name\": \"Jaro_Match_Bins\", \"textinfo\": \"text+label+value+percent\", \"textposition\": \"inside\", \"type\": \"pie\", \"values\": [9103, 6907]}],\n",
       "                        {\"annotations\": [{\"font\": {\"size\": 16}, \"showarrow\": false, \"text\": \"JS\", \"x\": 0.10625, \"xanchor\": \"center\", \"xref\": \"paper\", \"y\": 1.0, \"yanchor\": \"bottom\", \"yref\": \"paper\"}, {\"font\": {\"size\": 16}, \"showarrow\": false, \"text\": \"JSM\", \"x\": 0.36875, \"xanchor\": \"center\", \"xref\": \"paper\", \"y\": 1.0, \"yanchor\": \"bottom\", \"yref\": \"paper\"}, {\"font\": {\"size\": 16}, \"showarrow\": false, \"text\": \"SM\", \"x\": 0.6312500000000001, \"xanchor\": \"center\", \"xref\": \"paper\", \"y\": 1.0, \"yanchor\": \"bottom\", \"yref\": \"paper\"}, {\"font\": {\"size\": 16}, \"showarrow\": false, \"text\": \"JM\", \"x\": 0.89375, \"xanchor\": \"center\", \"xref\": \"paper\", \"y\": 1.0, \"yanchor\": \"bottom\", \"yref\": \"paper\"}], \"legend\": {\"traceorder\": \"normal\"}, \"template\": {\"data\": {\"bar\": [{\"error_x\": {\"color\": \"#2a3f5f\"}, \"error_y\": {\"color\": \"#2a3f5f\"}, \"marker\": {\"line\": {\"color\": \"#E5ECF6\", \"width\": 0.5}}, \"type\": \"bar\"}], \"barpolar\": [{\"marker\": {\"line\": {\"color\": \"#E5ECF6\", \"width\": 0.5}}, \"type\": \"barpolar\"}], \"carpet\": [{\"aaxis\": {\"endlinecolor\": \"#2a3f5f\", \"gridcolor\": \"white\", \"linecolor\": \"white\", \"minorgridcolor\": \"white\", \"startlinecolor\": \"#2a3f5f\"}, \"baxis\": {\"endlinecolor\": \"#2a3f5f\", \"gridcolor\": \"white\", \"linecolor\": \"white\", \"minorgridcolor\": \"white\", \"startlinecolor\": \"#2a3f5f\"}, \"type\": \"carpet\"}], \"choropleth\": [{\"colorbar\": {\"outlinewidth\": 0, \"ticks\": \"\"}, \"type\": \"choropleth\"}], \"contour\": [{\"colorbar\": {\"outlinewidth\": 0, \"ticks\": \"\"}, \"colorscale\": [[0.0, \"#0d0887\"], [0.1111111111111111, \"#46039f\"], [0.2222222222222222, \"#7201a8\"], [0.3333333333333333, \"#9c179e\"], [0.4444444444444444, \"#bd3786\"], [0.5555555555555556, \"#d8576b\"], [0.6666666666666666, \"#ed7953\"], [0.7777777777777778, \"#fb9f3a\"], [0.8888888888888888, \"#fdca26\"], [1.0, \"#f0f921\"]], \"type\": \"contour\"}], \"contourcarpet\": [{\"colorbar\": {\"outlinewidth\": 0, \"ticks\": \"\"}, \"type\": \"contourcarpet\"}], \"heatmap\": [{\"colorbar\": {\"outlinewidth\": 0, \"ticks\": \"\"}, \"colorscale\": [[0.0, \"#0d0887\"], [0.1111111111111111, \"#46039f\"], [0.2222222222222222, \"#7201a8\"], [0.3333333333333333, \"#9c179e\"], [0.4444444444444444, \"#bd3786\"], [0.5555555555555556, \"#d8576b\"], [0.6666666666666666, \"#ed7953\"], [0.7777777777777778, \"#fb9f3a\"], [0.8888888888888888, \"#fdca26\"], [1.0, \"#f0f921\"]], \"type\": \"heatmap\"}], \"heatmapgl\": [{\"colorbar\": {\"outlinewidth\": 0, \"ticks\": \"\"}, \"colorscale\": [[0.0, \"#0d0887\"], [0.1111111111111111, \"#46039f\"], [0.2222222222222222, \"#7201a8\"], [0.3333333333333333, \"#9c179e\"], [0.4444444444444444, \"#bd3786\"], [0.5555555555555556, \"#d8576b\"], [0.6666666666666666, \"#ed7953\"], [0.7777777777777778, \"#fb9f3a\"], [0.8888888888888888, \"#fdca26\"], [1.0, \"#f0f921\"]], \"type\": \"heatmapgl\"}], \"histogram\": [{\"marker\": {\"colorbar\": {\"outlinewidth\": 0, \"ticks\": \"\"}}, \"type\": \"histogram\"}], \"histogram2d\": [{\"colorbar\": {\"outlinewidth\": 0, \"ticks\": \"\"}, \"colorscale\": [[0.0, \"#0d0887\"], [0.1111111111111111, \"#46039f\"], [0.2222222222222222, \"#7201a8\"], [0.3333333333333333, \"#9c179e\"], [0.4444444444444444, \"#bd3786\"], [0.5555555555555556, \"#d8576b\"], [0.6666666666666666, \"#ed7953\"], [0.7777777777777778, \"#fb9f3a\"], [0.8888888888888888, \"#fdca26\"], [1.0, \"#f0f921\"]], \"type\": \"histogram2d\"}], \"histogram2dcontour\": [{\"colorbar\": {\"outlinewidth\": 0, \"ticks\": \"\"}, \"colorscale\": [[0.0, \"#0d0887\"], [0.1111111111111111, \"#46039f\"], [0.2222222222222222, \"#7201a8\"], [0.3333333333333333, \"#9c179e\"], [0.4444444444444444, \"#bd3786\"], [0.5555555555555556, \"#d8576b\"], [0.6666666666666666, \"#ed7953\"], [0.7777777777777778, \"#fb9f3a\"], [0.8888888888888888, \"#fdca26\"], [1.0, \"#f0f921\"]], \"type\": \"histogram2dcontour\"}], \"mesh3d\": [{\"colorbar\": {\"outlinewidth\": 0, \"ticks\": \"\"}, \"type\": \"mesh3d\"}], \"parcoords\": [{\"line\": {\"colorbar\": {\"outlinewidth\": 0, \"ticks\": \"\"}}, \"type\": \"parcoords\"}], \"pie\": [{\"automargin\": true, \"type\": \"pie\"}], \"scatter\": [{\"marker\": {\"colorbar\": {\"outlinewidth\": 0, \"ticks\": \"\"}}, \"type\": \"scatter\"}], \"scatter3d\": [{\"line\": {\"colorbar\": {\"outlinewidth\": 0, \"ticks\": \"\"}}, \"marker\": {\"colorbar\": {\"outlinewidth\": 0, \"ticks\": \"\"}}, \"type\": \"scatter3d\"}], \"scattercarpet\": [{\"marker\": {\"colorbar\": {\"outlinewidth\": 0, \"ticks\": \"\"}}, \"type\": \"scattercarpet\"}], \"scattergeo\": [{\"marker\": {\"colorbar\": {\"outlinewidth\": 0, \"ticks\": \"\"}}, \"type\": \"scattergeo\"}], \"scattergl\": [{\"marker\": {\"colorbar\": {\"outlinewidth\": 0, \"ticks\": \"\"}}, \"type\": \"scattergl\"}], \"scattermapbox\": [{\"marker\": {\"colorbar\": {\"outlinewidth\": 0, \"ticks\": \"\"}}, \"type\": \"scattermapbox\"}], \"scatterpolar\": [{\"marker\": {\"colorbar\": {\"outlinewidth\": 0, \"ticks\": \"\"}}, \"type\": \"scatterpolar\"}], \"scatterpolargl\": [{\"marker\": {\"colorbar\": {\"outlinewidth\": 0, \"ticks\": \"\"}}, \"type\": \"scatterpolargl\"}], \"scatterternary\": [{\"marker\": {\"colorbar\": {\"outlinewidth\": 0, \"ticks\": \"\"}}, \"type\": \"scatterternary\"}], \"surface\": [{\"colorbar\": {\"outlinewidth\": 0, \"ticks\": \"\"}, \"colorscale\": [[0.0, \"#0d0887\"], [0.1111111111111111, \"#46039f\"], [0.2222222222222222, \"#7201a8\"], [0.3333333333333333, \"#9c179e\"], [0.4444444444444444, \"#bd3786\"], [0.5555555555555556, \"#d8576b\"], [0.6666666666666666, \"#ed7953\"], [0.7777777777777778, \"#fb9f3a\"], [0.8888888888888888, \"#fdca26\"], [1.0, \"#f0f921\"]], \"type\": \"surface\"}], \"table\": [{\"cells\": {\"fill\": {\"color\": \"#EBF0F8\"}, \"line\": {\"color\": \"white\"}}, \"header\": {\"fill\": {\"color\": \"#C8D4E3\"}, \"line\": {\"color\": \"white\"}}, \"type\": \"table\"}]}, \"layout\": {\"annotationdefaults\": {\"arrowcolor\": \"#2a3f5f\", \"arrowhead\": 0, \"arrowwidth\": 1}, \"coloraxis\": {\"colorbar\": {\"outlinewidth\": 0, \"ticks\": \"\"}}, \"colorscale\": {\"diverging\": [[0, \"#8e0152\"], [0.1, \"#c51b7d\"], [0.2, \"#de77ae\"], [0.3, \"#f1b6da\"], [0.4, \"#fde0ef\"], [0.5, \"#f7f7f7\"], [0.6, \"#e6f5d0\"], [0.7, \"#b8e186\"], [0.8, \"#7fbc41\"], [0.9, \"#4d9221\"], [1, \"#276419\"]], \"sequential\": [[0.0, \"#0d0887\"], [0.1111111111111111, \"#46039f\"], [0.2222222222222222, \"#7201a8\"], [0.3333333333333333, \"#9c179e\"], [0.4444444444444444, \"#bd3786\"], [0.5555555555555556, \"#d8576b\"], [0.6666666666666666, \"#ed7953\"], [0.7777777777777778, \"#fb9f3a\"], [0.8888888888888888, \"#fdca26\"], [1.0, \"#f0f921\"]], \"sequentialminus\": [[0.0, \"#0d0887\"], [0.1111111111111111, \"#46039f\"], [0.2222222222222222, \"#7201a8\"], [0.3333333333333333, \"#9c179e\"], [0.4444444444444444, \"#bd3786\"], [0.5555555555555556, \"#d8576b\"], [0.6666666666666666, \"#ed7953\"], [0.7777777777777778, \"#fb9f3a\"], [0.8888888888888888, \"#fdca26\"], [1.0, \"#f0f921\"]]}, \"colorway\": [\"#636efa\", \"#EF553B\", \"#00cc96\", \"#ab63fa\", \"#FFA15A\", \"#19d3f3\", \"#FF6692\", \"#B6E880\", \"#FF97FF\", \"#FECB52\"], \"font\": {\"color\": \"#2a3f5f\"}, \"geo\": {\"bgcolor\": \"white\", \"lakecolor\": \"white\", \"landcolor\": \"#E5ECF6\", \"showlakes\": true, \"showland\": true, \"subunitcolor\": \"white\"}, \"hoverlabel\": {\"align\": \"left\"}, \"hovermode\": \"closest\", \"mapbox\": {\"style\": \"light\"}, \"paper_bgcolor\": \"white\", \"plot_bgcolor\": \"#E5ECF6\", \"polar\": {\"angularaxis\": {\"gridcolor\": \"white\", \"linecolor\": \"white\", \"ticks\": \"\"}, \"bgcolor\": \"#E5ECF6\", \"radialaxis\": {\"gridcolor\": \"white\", \"linecolor\": \"white\", \"ticks\": \"\"}}, \"scene\": {\"xaxis\": {\"backgroundcolor\": \"#E5ECF6\", \"gridcolor\": \"white\", \"gridwidth\": 2, \"linecolor\": \"white\", \"showbackground\": true, \"ticks\": \"\", \"zerolinecolor\": \"white\"}, \"yaxis\": {\"backgroundcolor\": \"#E5ECF6\", \"gridcolor\": \"white\", \"gridwidth\": 2, \"linecolor\": \"white\", \"showbackground\": true, \"ticks\": \"\", \"zerolinecolor\": \"white\"}, \"zaxis\": {\"backgroundcolor\": \"#E5ECF6\", \"gridcolor\": \"white\", \"gridwidth\": 2, \"linecolor\": \"white\", \"showbackground\": true, \"ticks\": \"\", \"zerolinecolor\": \"white\"}}, \"shapedefaults\": {\"line\": {\"color\": \"#2a3f5f\"}}, \"ternary\": {\"aaxis\": {\"gridcolor\": \"white\", \"linecolor\": \"white\", \"ticks\": \"\"}, \"baxis\": {\"gridcolor\": \"white\", \"linecolor\": \"white\", \"ticks\": \"\"}, \"bgcolor\": \"#E5ECF6\", \"caxis\": {\"gridcolor\": \"white\", \"linecolor\": \"white\", \"ticks\": \"\"}}, \"title\": {\"x\": 0.05}, \"xaxis\": {\"automargin\": true, \"gridcolor\": \"white\", \"linecolor\": \"white\", \"ticks\": \"\", \"title\": {\"standoff\": 15}, \"zerolinecolor\": \"white\", \"zerolinewidth\": 2}, \"yaxis\": {\"automargin\": true, \"gridcolor\": \"white\", \"linecolor\": \"white\", \"ticks\": \"\", \"title\": {\"standoff\": 15}, \"zerolinecolor\": \"white\", \"zerolinewidth\": 2}}}},\n",
       "                        {\"responsive\": true}\n",
       "                    ).then(function(){\n",
       "                            \n",
       "var gd = document.getElementById('81e44458-88ab-416d-ac52-7a3c5a941fa4');\n",
       "var x = new MutationObserver(function (mutations, observer) {{\n",
       "        var display = window.getComputedStyle(gd).display;\n",
       "        if (!display || display === 'none') {{\n",
       "            console.log([gd, 'removed!']);\n",
       "            Plotly.purge(gd);\n",
       "            observer.disconnect();\n",
       "        }}\n",
       "}});\n",
       "\n",
       "// Listen for the removal of the full notebook cells\n",
       "var notebookContainer = gd.closest('#notebook-container');\n",
       "if (notebookContainer) {{\n",
       "    x.observe(notebookContainer, {childList: true});\n",
       "}}\n",
       "\n",
       "// Listen for the clearing of the current output cell\n",
       "var outputEl = gd.closest('.output');\n",
       "if (outputEl) {{\n",
       "    x.observe(outputEl, {childList: true});\n",
       "}}\n",
       "\n",
       "                        })\n",
       "                };\n",
       "                });\n",
       "            </script>\n",
       "        </div>"
      ]
     },
     "metadata": {},
     "output_type": "display_data"
    }
   ],
   "source": [
    "jsb_values = Jaro_and_Sequencer_Bins.values\n",
    "jsbm_values = Jaro_Sequencer_and_Match_Bins\n",
    "sm_values = Sequencer_Match_Bins\n",
    "jm_values = Jaro_Match_Bins\n",
    "\n",
    "labels = ['NOT EQUAL','EQUAL']\n",
    "values1 = jsb_values\n",
    "values2 = jsbm_values\n",
    "values3 = sm_values\n",
    "values4 = jm_values\n",
    "\n",
    "colors = ['darkblue', 'lightcyan']\n",
    "\n",
    "fig = make_subplots(rows=1\n",
    "                    , cols=4\n",
    "                    , specs=[[{'type':'domain'}\n",
    "                            , {'type':'domain'}\n",
    "                            , {'type':'domain'}\n",
    "                            , {'type':'domain'}]]\n",
    "                    ,subplot_titles=['JS'\n",
    "                                   , 'JSM'\n",
    "                                   , 'SM'\n",
    "                                   , 'JM'])\n",
    "\n",
    "fig.add_trace(go.Pie(labels=labels\n",
    "                     , values=values1\n",
    "                     , textinfo='text+label+value+percent'\n",
    "                     , name=\"Jaro_and_Sequencer_Bins\"\n",
    "                    ), 1, 1)\n",
    "fig.add_trace(go.Pie(labels=labels\n",
    "                     , values=values2\n",
    "                     , textinfo='text+label+value+percent'\n",
    "                     , name=\"Jaro_Sequencer_and_Match_Bins\"\n",
    "                    ), 1, 2)\n",
    "fig.add_trace(go.Pie(labels=labels\n",
    "                     , values=values3\n",
    "                     , textinfo='text+label+value+percent'\n",
    "                     , name=\"Sequencer_Match_Bins\"\n",
    "                    ), 1, 3)\n",
    "fig.add_trace(go.Pie(labels=labels\n",
    "                     , values=values4\n",
    "                     , textinfo='text+label+value+percent'\n",
    "                     , name=\"Jaro_Match_Bins\"\n",
    "                    ), 1, 4)\n",
    "\n",
    "# fig = go.Figure(data=[go.Pie(labels=labels, values=values)])\n",
    "fig.update_traces(textposition='inside'\n",
    "                 , textinfo='text+label+value+percent'\n",
    "                 , marker=dict(colors=colors)\n",
    "                 )\n",
    "\n",
    "fig.update_layout(\n",
    "    legend={'traceorder':'normal'}\n",
    "#     , title_text='Jaro and Sequencer Bins'\n",
    ")\n",
    "\n",
    "fig.show()"
   ]
  },
  {
   "cell_type": "code",
   "execution_count": 88,
   "metadata": {},
   "outputs": [],
   "source": [
    "del(df2)"
   ]
  },
  {
   "cell_type": "markdown",
   "metadata": {},
   "source": [
    "# Create new df for Machine learning"
   ]
  },
  {
   "cell_type": "code",
   "execution_count": 89,
   "metadata": {},
   "outputs": [
    {
     "data": {
      "text/html": [
       "<div>\n",
       "<style scoped>\n",
       "    .dataframe tbody tr th:only-of-type {\n",
       "        vertical-align: middle;\n",
       "    }\n",
       "\n",
       "    .dataframe tbody tr th {\n",
       "        vertical-align: top;\n",
       "    }\n",
       "\n",
       "    .dataframe thead th {\n",
       "        text-align: right;\n",
       "    }\n",
       "</style>\n",
       "<table border=\"1\" class=\"dataframe\">\n",
       "  <thead>\n",
       "    <tr style=\"text-align: right;\">\n",
       "      <th></th>\n",
       "      <th>jaro_func_score</th>\n",
       "      <th>total_chars_positions</th>\n",
       "      <th>consecutive_chars</th>\n",
       "      <th>sequence_matcher_ratio</th>\n",
       "      <th>count_same_position</th>\n",
       "      <th>count_total_unique_chars</th>\n",
       "      <th>count_common_chars</th>\n",
       "      <th>percent_matched</th>\n",
       "      <th>percent_same_position</th>\n",
       "      <th>jaro_func_score_trigram_parent</th>\n",
       "      <th>jaro_func_score_trigram_child</th>\n",
       "      <th>match_confidence_score</th>\n",
       "      <th>match_confidence</th>\n",
       "      <th>jaro_score_bins</th>\n",
       "      <th>sequencer_ratio_bins</th>\n",
       "      <th>jaro_sequencer_equal</th>\n",
       "      <th>jaro_sequencer_match_equal</th>\n",
       "    </tr>\n",
       "  </thead>\n",
       "  <tbody>\n",
       "    <tr>\n",
       "      <th>0</th>\n",
       "      <td>0.73</td>\n",
       "      <td>21.0</td>\n",
       "      <td>4.0</td>\n",
       "      <td>0.30</td>\n",
       "      <td>4.0</td>\n",
       "      <td>20.0</td>\n",
       "      <td>5.0</td>\n",
       "      <td>0.25</td>\n",
       "      <td>0.19</td>\n",
       "      <td>[0.82, 0.78, 0.52, 0.52, 0.52, 0.47, 0.47, 0.4...</td>\n",
       "      <td>[0.8, 0.74, 0.46, 0.46, 0.0, 0.0, 0.0, 0.0, 0....</td>\n",
       "      <td>0.9</td>\n",
       "      <td>HIGH</td>\n",
       "      <td>MEDIUM</td>\n",
       "      <td>LOW</td>\n",
       "      <td>NOT EQUAL</td>\n",
       "      <td>NOT EQUAL</td>\n",
       "    </tr>\n",
       "    <tr>\n",
       "      <th>1</th>\n",
       "      <td>0.46</td>\n",
       "      <td>7.0</td>\n",
       "      <td>4.0</td>\n",
       "      <td>0.39</td>\n",
       "      <td>0.0</td>\n",
       "      <td>24.0</td>\n",
       "      <td>6.0</td>\n",
       "      <td>0.25</td>\n",
       "      <td>0.00</td>\n",
       "      <td>[0.51, 0.51, 0.46, 0.0, 0.0]</td>\n",
       "      <td>[0.87, 0.81, 0.65, 0.54, 0.0, 0.0, 0.0, 0.0, 0...</td>\n",
       "      <td>0.9</td>\n",
       "      <td>HIGH</td>\n",
       "      <td>LOW</td>\n",
       "      <td>LOW</td>\n",
       "      <td>EQUAL</td>\n",
       "      <td>NOT EQUAL</td>\n",
       "    </tr>\n",
       "    <tr>\n",
       "      <th>2</th>\n",
       "      <td>0.82</td>\n",
       "      <td>5.0</td>\n",
       "      <td>5.0</td>\n",
       "      <td>0.21</td>\n",
       "      <td>5.0</td>\n",
       "      <td>22.0</td>\n",
       "      <td>5.0</td>\n",
       "      <td>0.23</td>\n",
       "      <td>1.00</td>\n",
       "      <td>[0.78, 0.69, 0.0]</td>\n",
       "      <td>[0.91, 0.87, 0.75, 0.69, 0.56, 0.52, 0.51, 0.5...</td>\n",
       "      <td>0.9</td>\n",
       "      <td>HIGH</td>\n",
       "      <td>MEDIUM</td>\n",
       "      <td>LOW</td>\n",
       "      <td>NOT EQUAL</td>\n",
       "      <td>NOT EQUAL</td>\n",
       "    </tr>\n",
       "    <tr>\n",
       "      <th>3</th>\n",
       "      <td>0.83</td>\n",
       "      <td>5.0</td>\n",
       "      <td>5.0</td>\n",
       "      <td>0.29</td>\n",
       "      <td>5.0</td>\n",
       "      <td>20.0</td>\n",
       "      <td>5.0</td>\n",
       "      <td>0.25</td>\n",
       "      <td>1.00</td>\n",
       "      <td>[0.79, 0.7, 0.0]</td>\n",
       "      <td>[0.91, 0.87, 0.56, 0.56, 0.51, 0.51, 0.51, 0.5...</td>\n",
       "      <td>0.9</td>\n",
       "      <td>HIGH</td>\n",
       "      <td>MEDIUM</td>\n",
       "      <td>LOW</td>\n",
       "      <td>NOT EQUAL</td>\n",
       "      <td>NOT EQUAL</td>\n",
       "    </tr>\n",
       "    <tr>\n",
       "      <th>4</th>\n",
       "      <td>0.75</td>\n",
       "      <td>23.0</td>\n",
       "      <td>4.0</td>\n",
       "      <td>0.32</td>\n",
       "      <td>4.0</td>\n",
       "      <td>23.0</td>\n",
       "      <td>8.0</td>\n",
       "      <td>0.35</td>\n",
       "      <td>0.17</td>\n",
       "      <td>[0.81, 0.73, 0.47, 0.0, 0.0, 0.0, 0.0, 0.0, 0....</td>\n",
       "      <td>[0.8, 0.71, 0.51, 0.46, 0.46, 0.46, 0.46, 0.46...</td>\n",
       "      <td>0.9</td>\n",
       "      <td>HIGH</td>\n",
       "      <td>MEDIUM</td>\n",
       "      <td>LOW</td>\n",
       "      <td>NOT EQUAL</td>\n",
       "      <td>NOT EQUAL</td>\n",
       "    </tr>\n",
       "  </tbody>\n",
       "</table>\n",
       "</div>"
      ],
      "text/plain": [
       "   jaro_func_score  total_chars_positions  consecutive_chars  \\\n",
       "0             0.73                   21.0                4.0   \n",
       "1             0.46                    7.0                4.0   \n",
       "2             0.82                    5.0                5.0   \n",
       "3             0.83                    5.0                5.0   \n",
       "4             0.75                   23.0                4.0   \n",
       "\n",
       "   sequence_matcher_ratio  count_same_position  count_total_unique_chars  \\\n",
       "0                    0.30                  4.0                      20.0   \n",
       "1                    0.39                  0.0                      24.0   \n",
       "2                    0.21                  5.0                      22.0   \n",
       "3                    0.29                  5.0                      20.0   \n",
       "4                    0.32                  4.0                      23.0   \n",
       "\n",
       "   count_common_chars  percent_matched  percent_same_position  \\\n",
       "0                 5.0             0.25                   0.19   \n",
       "1                 6.0             0.25                   0.00   \n",
       "2                 5.0             0.23                   1.00   \n",
       "3                 5.0             0.25                   1.00   \n",
       "4                 8.0             0.35                   0.17   \n",
       "\n",
       "                      jaro_func_score_trigram_parent  \\\n",
       "0  [0.82, 0.78, 0.52, 0.52, 0.52, 0.47, 0.47, 0.4...   \n",
       "1                       [0.51, 0.51, 0.46, 0.0, 0.0]   \n",
       "2                                  [0.78, 0.69, 0.0]   \n",
       "3                                   [0.79, 0.7, 0.0]   \n",
       "4  [0.81, 0.73, 0.47, 0.0, 0.0, 0.0, 0.0, 0.0, 0....   \n",
       "\n",
       "                       jaro_func_score_trigram_child  match_confidence_score  \\\n",
       "0  [0.8, 0.74, 0.46, 0.46, 0.0, 0.0, 0.0, 0.0, 0....                     0.9   \n",
       "1  [0.87, 0.81, 0.65, 0.54, 0.0, 0.0, 0.0, 0.0, 0...                     0.9   \n",
       "2  [0.91, 0.87, 0.75, 0.69, 0.56, 0.52, 0.51, 0.5...                     0.9   \n",
       "3  [0.91, 0.87, 0.56, 0.56, 0.51, 0.51, 0.51, 0.5...                     0.9   \n",
       "4  [0.8, 0.71, 0.51, 0.46, 0.46, 0.46, 0.46, 0.46...                     0.9   \n",
       "\n",
       "  match_confidence jaro_score_bins sequencer_ratio_bins jaro_sequencer_equal  \\\n",
       "0             HIGH          MEDIUM                  LOW            NOT EQUAL   \n",
       "1             HIGH             LOW                  LOW                EQUAL   \n",
       "2             HIGH          MEDIUM                  LOW            NOT EQUAL   \n",
       "3             HIGH          MEDIUM                  LOW            NOT EQUAL   \n",
       "4             HIGH          MEDIUM                  LOW            NOT EQUAL   \n",
       "\n",
       "  jaro_sequencer_match_equal  \n",
       "0                  NOT EQUAL  \n",
       "1                  NOT EQUAL  \n",
       "2                  NOT EQUAL  \n",
       "3                  NOT EQUAL  \n",
       "4                  NOT EQUAL  "
      ]
     },
     "execution_count": 89,
     "metadata": {},
     "output_type": "execute_result"
    }
   ],
   "source": [
    "df2 = df[['jaro_func_score' #0\n",
    "    , 'total_chars_positions' #1\n",
    "    , 'consecutive_chars'     #2\n",
    "    , 'sequence_matcher_ratio'#3\n",
    "    , 'count_same_position'   #4\n",
    "    , 'count_total_unique_chars' #5\n",
    "    , 'count_common_chars'       #6\n",
    "    , 'percent_matched'          #7\n",
    "    , 'percent_same_position'    #8\n",
    "    , 'jaro_func_score_trigram_parent' #9\n",
    "    , 'jaro_func_score_trigram_child'  #10\n",
    "    , 'match_confidence_score'         #11\n",
    "    , 'match_confidence'               #12\n",
    "    , 'jaro_score_bins'                #13\n",
    "    , 'sequencer_ratio_bins'           #14\n",
    "    , 'jaro_sequencer_equal'           #15\n",
    "    , 'jaro_sequencer_match_equal'     #16\n",
    "   ]]\n",
    "\n",
    "df2.head()"
   ]
  },
  {
   "cell_type": "code",
   "execution_count": 90,
   "metadata": {},
   "outputs": [
    {
     "data": {
      "text/html": [
       "<div>\n",
       "<style scoped>\n",
       "    .dataframe tbody tr th:only-of-type {\n",
       "        vertical-align: middle;\n",
       "    }\n",
       "\n",
       "    .dataframe tbody tr th {\n",
       "        vertical-align: top;\n",
       "    }\n",
       "\n",
       "    .dataframe thead th {\n",
       "        text-align: right;\n",
       "    }\n",
       "</style>\n",
       "<table border=\"1\" class=\"dataframe\">\n",
       "  <thead>\n",
       "    <tr style=\"text-align: right;\">\n",
       "      <th></th>\n",
       "      <th>jaro_func_score</th>\n",
       "      <th>total_chars_positions</th>\n",
       "      <th>consecutive_chars</th>\n",
       "      <th>sequence_matcher_ratio</th>\n",
       "      <th>count_same_position</th>\n",
       "      <th>count_total_unique_chars</th>\n",
       "      <th>count_common_chars</th>\n",
       "      <th>percent_matched</th>\n",
       "      <th>percent_same_position</th>\n",
       "      <th>jaro_func_score_trigram_parent</th>\n",
       "      <th>jaro_func_score_trigram_child</th>\n",
       "      <th>match_confidence_score</th>\n",
       "      <th>match_confidence</th>\n",
       "      <th>jaro_score_bins</th>\n",
       "      <th>sequencer_ratio_bins</th>\n",
       "      <th>jaro_sequencer_equal</th>\n",
       "      <th>jaro_sequencer_match_equal</th>\n",
       "      <th>jaro_prediction</th>\n",
       "      <th>sequencer_prediction</th>\n",
       "      <th>Prediction</th>\n",
       "    </tr>\n",
       "  </thead>\n",
       "  <tbody>\n",
       "    <tr>\n",
       "      <th>0</th>\n",
       "      <td>0.73</td>\n",
       "      <td>21.0</td>\n",
       "      <td>4.0</td>\n",
       "      <td>0.30</td>\n",
       "      <td>4.0</td>\n",
       "      <td>20.0</td>\n",
       "      <td>5.0</td>\n",
       "      <td>0.25</td>\n",
       "      <td>0.19</td>\n",
       "      <td>[0.82, 0.78, 0.52, 0.52, 0.52, 0.47, 0.47, 0.4...</td>\n",
       "      <td>[0.8, 0.74, 0.46, 0.46, 0.0, 0.0, 0.0, 0.0, 0....</td>\n",
       "      <td>0.9</td>\n",
       "      <td>2</td>\n",
       "      <td>1</td>\n",
       "      <td>0</td>\n",
       "      <td>0</td>\n",
       "      <td>0</td>\n",
       "      <td>1</td>\n",
       "      <td>0</td>\n",
       "      <td>2</td>\n",
       "    </tr>\n",
       "    <tr>\n",
       "      <th>1</th>\n",
       "      <td>0.46</td>\n",
       "      <td>7.0</td>\n",
       "      <td>4.0</td>\n",
       "      <td>0.39</td>\n",
       "      <td>0.0</td>\n",
       "      <td>24.0</td>\n",
       "      <td>6.0</td>\n",
       "      <td>0.25</td>\n",
       "      <td>0.00</td>\n",
       "      <td>[0.51, 0.51, 0.46, 0.0, 0.0]</td>\n",
       "      <td>[0.87, 0.81, 0.65, 0.54, 0.0, 0.0, 0.0, 0.0, 0...</td>\n",
       "      <td>0.9</td>\n",
       "      <td>2</td>\n",
       "      <td>0</td>\n",
       "      <td>0</td>\n",
       "      <td>1</td>\n",
       "      <td>0</td>\n",
       "      <td>0</td>\n",
       "      <td>0</td>\n",
       "      <td>2</td>\n",
       "    </tr>\n",
       "    <tr>\n",
       "      <th>2</th>\n",
       "      <td>0.82</td>\n",
       "      <td>5.0</td>\n",
       "      <td>5.0</td>\n",
       "      <td>0.21</td>\n",
       "      <td>5.0</td>\n",
       "      <td>22.0</td>\n",
       "      <td>5.0</td>\n",
       "      <td>0.23</td>\n",
       "      <td>1.00</td>\n",
       "      <td>[0.78, 0.69, 0.0]</td>\n",
       "      <td>[0.91, 0.87, 0.75, 0.69, 0.56, 0.52, 0.51, 0.5...</td>\n",
       "      <td>0.9</td>\n",
       "      <td>2</td>\n",
       "      <td>1</td>\n",
       "      <td>0</td>\n",
       "      <td>0</td>\n",
       "      <td>0</td>\n",
       "      <td>1</td>\n",
       "      <td>0</td>\n",
       "      <td>2</td>\n",
       "    </tr>\n",
       "    <tr>\n",
       "      <th>3</th>\n",
       "      <td>0.83</td>\n",
       "      <td>5.0</td>\n",
       "      <td>5.0</td>\n",
       "      <td>0.29</td>\n",
       "      <td>5.0</td>\n",
       "      <td>20.0</td>\n",
       "      <td>5.0</td>\n",
       "      <td>0.25</td>\n",
       "      <td>1.00</td>\n",
       "      <td>[0.79, 0.7, 0.0]</td>\n",
       "      <td>[0.91, 0.87, 0.56, 0.56, 0.51, 0.51, 0.51, 0.5...</td>\n",
       "      <td>0.9</td>\n",
       "      <td>2</td>\n",
       "      <td>1</td>\n",
       "      <td>0</td>\n",
       "      <td>0</td>\n",
       "      <td>0</td>\n",
       "      <td>1</td>\n",
       "      <td>0</td>\n",
       "      <td>2</td>\n",
       "    </tr>\n",
       "    <tr>\n",
       "      <th>4</th>\n",
       "      <td>0.75</td>\n",
       "      <td>23.0</td>\n",
       "      <td>4.0</td>\n",
       "      <td>0.32</td>\n",
       "      <td>4.0</td>\n",
       "      <td>23.0</td>\n",
       "      <td>8.0</td>\n",
       "      <td>0.35</td>\n",
       "      <td>0.17</td>\n",
       "      <td>[0.81, 0.73, 0.47, 0.0, 0.0, 0.0, 0.0, 0.0, 0....</td>\n",
       "      <td>[0.8, 0.71, 0.51, 0.46, 0.46, 0.46, 0.46, 0.46...</td>\n",
       "      <td>0.9</td>\n",
       "      <td>2</td>\n",
       "      <td>1</td>\n",
       "      <td>0</td>\n",
       "      <td>0</td>\n",
       "      <td>0</td>\n",
       "      <td>1</td>\n",
       "      <td>0</td>\n",
       "      <td>2</td>\n",
       "    </tr>\n",
       "  </tbody>\n",
       "</table>\n",
       "</div>"
      ],
      "text/plain": [
       "   jaro_func_score  total_chars_positions  consecutive_chars  \\\n",
       "0             0.73                   21.0                4.0   \n",
       "1             0.46                    7.0                4.0   \n",
       "2             0.82                    5.0                5.0   \n",
       "3             0.83                    5.0                5.0   \n",
       "4             0.75                   23.0                4.0   \n",
       "\n",
       "   sequence_matcher_ratio  count_same_position  count_total_unique_chars  \\\n",
       "0                    0.30                  4.0                      20.0   \n",
       "1                    0.39                  0.0                      24.0   \n",
       "2                    0.21                  5.0                      22.0   \n",
       "3                    0.29                  5.0                      20.0   \n",
       "4                    0.32                  4.0                      23.0   \n",
       "\n",
       "   count_common_chars  percent_matched  percent_same_position  \\\n",
       "0                 5.0             0.25                   0.19   \n",
       "1                 6.0             0.25                   0.00   \n",
       "2                 5.0             0.23                   1.00   \n",
       "3                 5.0             0.25                   1.00   \n",
       "4                 8.0             0.35                   0.17   \n",
       "\n",
       "                      jaro_func_score_trigram_parent  \\\n",
       "0  [0.82, 0.78, 0.52, 0.52, 0.52, 0.47, 0.47, 0.4...   \n",
       "1                       [0.51, 0.51, 0.46, 0.0, 0.0]   \n",
       "2                                  [0.78, 0.69, 0.0]   \n",
       "3                                   [0.79, 0.7, 0.0]   \n",
       "4  [0.81, 0.73, 0.47, 0.0, 0.0, 0.0, 0.0, 0.0, 0....   \n",
       "\n",
       "                       jaro_func_score_trigram_child  match_confidence_score  \\\n",
       "0  [0.8, 0.74, 0.46, 0.46, 0.0, 0.0, 0.0, 0.0, 0....                     0.9   \n",
       "1  [0.87, 0.81, 0.65, 0.54, 0.0, 0.0, 0.0, 0.0, 0...                     0.9   \n",
       "2  [0.91, 0.87, 0.75, 0.69, 0.56, 0.52, 0.51, 0.5...                     0.9   \n",
       "3  [0.91, 0.87, 0.56, 0.56, 0.51, 0.51, 0.51, 0.5...                     0.9   \n",
       "4  [0.8, 0.71, 0.51, 0.46, 0.46, 0.46, 0.46, 0.46...                     0.9   \n",
       "\n",
       "  match_confidence jaro_score_bins sequencer_ratio_bins jaro_sequencer_equal  \\\n",
       "0                2               1                    0                    0   \n",
       "1                2               0                    0                    1   \n",
       "2                2               1                    0                    0   \n",
       "3                2               1                    0                    0   \n",
       "4                2               1                    0                    0   \n",
       "\n",
       "  jaro_sequencer_match_equal jaro_prediction sequencer_prediction Prediction  \n",
       "0                          0               1                    0          2  \n",
       "1                          0               0                    0          2  \n",
       "2                          0               1                    0          2  \n",
       "3                          0               1                    0          2  \n",
       "4                          0               1                    0          2  "
      ]
     },
     "execution_count": 90,
     "metadata": {},
     "output_type": "execute_result"
    }
   ],
   "source": [
    "def jaro_prediction(row):\n",
    "    if row['jaro_score_bins'] == 'HIGH':\n",
    "        return '2'\n",
    "    elif row['jaro_score_bins'] == 'MEDIUM':\n",
    "        return '1'\n",
    "    elif row['jaro_score_bins'] == 'LOW':\n",
    "        return '0'\n",
    "\n",
    "df2['jaro_prediction'] = df2.apply(jaro_prediction, axis=1)\n",
    "\n",
    "def sequencer_prediction(row):\n",
    "    if row['sequencer_ratio_bins'] == 'HIGH':\n",
    "        return '2'\n",
    "    elif row['sequencer_ratio_bins'] == 'MEDIUM':\n",
    "        return '1'\n",
    "    elif row['sequencer_ratio_bins'] == 'LOW':\n",
    "        return '0'\n",
    "\n",
    "df2['sequencer_prediction'] = df2.apply(sequencer_prediction, axis=1)\n",
    "\n",
    "def match_prediction(row):\n",
    "    if row['match_confidence'] == 'HIGH':\n",
    "        return '2'\n",
    "    elif row['match_confidence'] == 'MEDIUM':\n",
    "        return '1'\n",
    "    elif row['match_confidence'] == 'LOW':\n",
    "        return '0'\n",
    "\n",
    "df2['Prediction'] = df2.apply(match_prediction, axis=1)\n",
    "df2['match_confidence'] = df2.apply(match_prediction, axis=1)\n",
    "\n",
    "def jaro_score_bins(row):\n",
    "    if row['jaro_score_bins'] == 'HIGH':\n",
    "        return '2'\n",
    "    elif row['jaro_score_bins'] == 'MEDIUM':\n",
    "        return '1'\n",
    "    elif row['jaro_score_bins'] == 'LOW':\n",
    "        return '0'\n",
    "    \n",
    "df2['jaro_score_bins'] = df2.apply(jaro_score_bins, axis=1)\n",
    "\n",
    "def sequencer_ratio_bins(row):\n",
    "    if row['sequencer_ratio_bins'] == 'HIGH':\n",
    "        return '2'\n",
    "    elif row['sequencer_ratio_bins'] == 'MEDIUM':\n",
    "        return '1'\n",
    "    elif row['sequencer_ratio_bins'] == 'LOW':\n",
    "        return '0'\n",
    "\n",
    "df2['sequencer_ratio_bins'] = df2.apply(sequencer_ratio_bins, axis=1)\n",
    "\n",
    "def jaro_sequencer_equal(row):\n",
    "    if row['jaro_sequencer_equal'] == 'NOT EQUAL':\n",
    "        return '0'\n",
    "    elif row['jaro_sequencer_equal'] == 'EQUAL':\n",
    "        return '1'\n",
    "\n",
    "df2['jaro_sequencer_equal'] = df2.apply(jaro_sequencer_equal, axis=1)\n",
    "\n",
    "def jaro_sequencer_match_equal(row):\n",
    "    if row['jaro_sequencer_match_equal'] == 'NOT EQUAL':\n",
    "        return '0'\n",
    "    elif row['jaro_sequencer_match_equal'] == 'EQUAL':\n",
    "        return '1'\n",
    "\n",
    "df2['jaro_sequencer_match_equal'] = df2.apply(jaro_sequencer_match_equal, axis=1)\n",
    "\n",
    "df2.head()"
   ]
  },
  {
   "cell_type": "code",
   "execution_count": 91,
   "metadata": {},
   "outputs": [
    {
     "name": "stdout",
     "output_type": "stream",
     "text": [
      "(0, 'jaro_func_score')\n",
      "(1, 'total_chars_positions')\n",
      "(2, 'consecutive_chars')\n",
      "(3, 'sequence_matcher_ratio')\n",
      "(4, 'count_same_position')\n",
      "(5, 'count_total_unique_chars')\n",
      "(6, 'count_common_chars')\n",
      "(7, 'percent_matched')\n",
      "(8, 'percent_same_position')\n",
      "(9, 'jaro_func_score_trigram_parent')\n",
      "(10, 'jaro_func_score_trigram_child')\n",
      "(11, 'match_confidence_score')\n",
      "(12, 'match_confidence')\n",
      "(13, 'jaro_score_bins')\n",
      "(14, 'sequencer_ratio_bins')\n",
      "(15, 'jaro_sequencer_equal')\n",
      "(16, 'jaro_sequencer_match_equal')\n",
      "(17, 'jaro_prediction')\n",
      "(18, 'sequencer_prediction')\n",
      "(19, 'Prediction')\n"
     ]
    }
   ],
   "source": [
    "for i in enumerate(df2.columns):\n",
    "    print(i)"
   ]
  },
  {
   "cell_type": "code",
   "execution_count": 101,
   "metadata": {},
   "outputs": [
    {
     "name": "stdout",
     "output_type": "stream",
     "text": [
      "Jaro Prediction: \n",
      " 2    371\n",
      "1    278\n",
      "0      9\n",
      "Name: jaro_prediction, dtype: int64\n",
      "Sequencer Prediction: \n",
      " 1    481\n",
      "0    146\n",
      "2     31\n",
      "Name: sequencer_prediction, dtype: int64\n",
      "Match Prediction: \n",
      " 0    494\n",
      "2    164\n",
      "Name: Prediction, dtype: int64\n",
      "\n",
      "X_train shape: \n",
      " (65, 16)\n",
      "X_test shape: \n",
      " (593, 16)\n",
      "y_train shape: \n",
      " (65,)\n",
      "y_test shape: \n",
      " (593,)\n",
      "\n",
      "x_train: [[0.92 7.0 6.0 ... '2' '1' '0']\n",
      " [0.87 31.0 13.0 ... '2' '1' '0']\n",
      " [0.86 5.0 5.0 ... '2' '0' '0']\n",
      " ...\n",
      " [0.78 11.0 6.0 ... '1' '1' '1']\n",
      " [0.79 8.0 4.0 ... '1' '0' '0']\n",
      " [0.82 12.0 3.0 ... '1' '1' '1']]\n",
      "y_train: ['2' '2' '2' '2' '2' '2' '2' '1' '1' '2' '2' '2' '2' '1' '2' '2' '1' '2'\n",
      " '1' '1' '2' '1' '1' '2' '2' '1' '2' '2' '1' '2' '1' '2' '1' '2' '2' '2'\n",
      " '1' '2' '2' '1' '1' '2' '2' '2' '2' '1' '2' '2' '1' '2' '2' '1' '1' '2'\n",
      " '1' '1' '1' '2' '2' '2' '2' '2' '1' '1' '1']\n",
      "x_test: [[0.88 12.0 4.0 ... '2' '1' '0']\n",
      " [0.94 11.0 11.0 ... '2' '1' '0']\n",
      " [0.88 36.0 11.0 ... '2' '1' '0']\n",
      " ...\n",
      " [0.88 9.0 5.0 ... '2' '1' '0']\n",
      " [0.96 4.0 4.0 ... '2' '2' '1']\n",
      " [0.86 21.0 6.0 ... '2' '1' '0']]\n",
      "y_test: ['2' '2' '2' '1' '2' '2' '2' '2' '2' '1' '0' '1' '1' '2' '1' '1' '2' '2'\n",
      " '2' '2' '2' '2' '2' '2' '1' '1' '1' '2' '1' '0' '2' '2' '1' '2' '2' '1'\n",
      " '1' '2' '1' '1' '2' '2' '2' '1' '1' '1' '1' '2' '1' '1' '2' '2' '2' '2'\n",
      " '2' '2' '2' '1' '1' '1' '2' '2' '2' '1' '2' '1' '1' '2' '1' '1' '2' '1'\n",
      " '2' '2' '1' '1' '2' '1' '2' '2' '2' '1' '1' '1' '2' '1' '2' '2' '1' '2'\n",
      " '1' '2' '1' '2' '1' '2' '2' '0' '1' '1' '2' '1' '1' '2' '2' '1' '2' '2'\n",
      " '2' '2' '2' '1' '2' '1' '2' '1' '0' '1' '2' '2' '2' '2' '2' '1' '2' '2'\n",
      " '2' '2' '2' '2' '1' '1' '2' '2' '2' '1' '1' '1' '1' '1' '1' '1' '2' '2'\n",
      " '2' '2' '2' '1' '2' '2' '1' '1' '2' '2' '1' '1' '2' '1' '2' '1' '2' '2'\n",
      " '2' '2' '2' '1' '1' '2' '1' '2' '1' '1' '1' '2' '2' '2' '1' '1' '2' '2'\n",
      " '1' '2' '1' '2' '2' '2' '2' '1' '1' '2' '0' '2' '1' '2' '2' '1' '2' '2'\n",
      " '2' '2' '1' '1' '1' '1' '2' '2' '2' '1' '2' '1' '1' '1' '1' '2' '1' '1'\n",
      " '2' '2' '1' '2' '2' '2' '0' '2' '1' '1' '2' '2' '1' '1' '2' '2' '1' '2'\n",
      " '2' '2' '2' '1' '2' '2' '1' '2' '2' '2' '1' '2' '2' '2' '1' '2' '1' '2'\n",
      " '1' '0' '2' '2' '1' '1' '2' '2' '2' '2' '1' '1' '2' '2' '1' '2' '1' '2'\n",
      " '2' '2' '2' '1' '1' '2' '1' '2' '2' '1' '1' '2' '2' '1' '1' '1' '2' '1'\n",
      " '2' '2' '1' '2' '2' '1' '2' '2' '2' '2' '2' '2' '1' '1' '1' '2' '1' '1'\n",
      " '1' '1' '2' '1' '1' '2' '2' '1' '2' '1' '2' '1' '1' '2' '1' '2' '1' '2'\n",
      " '1' '2' '2' '2' '1' '2' '1' '1' '2' '2' '2' '2' '1' '1' '2' '2' '1' '2'\n",
      " '2' '2' '2' '2' '1' '1' '1' '2' '1' '1' '1' '2' '1' '2' '2' '1' '2' '0'\n",
      " '2' '2' '2' '1' '2' '1' '2' '1' '1' '2' '2' '1' '1' '1' '1' '1' '1' '1'\n",
      " '2' '2' '2' '1' '2' '2' '2' '2' '2' '1' '1' '2' '2' '2' '2' '2' '2' '1'\n",
      " '2' '1' '2' '1' '1' '2' '2' '2' '2' '1' '1' '1' '2' '2' '1' '2' '2' '2'\n",
      " '1' '2' '2' '1' '2' '1' '2' '1' '2' '2' '2' '2' '2' '2' '1' '1' '1' '2'\n",
      " '1' '2' '1' '2' '1' '1' '1' '1' '2' '2' '1' '2' '1' '1' '2' '2' '2' '1'\n",
      " '1' '1' '1' '1' '2' '1' '2' '2' '1' '1' '2' '2' '1' '1' '2' '2' '1' '1'\n",
      " '1' '0' '1' '1' '2' '1' '2' '1' '1' '1' '2' '2' '2' '1' '1' '2' '2' '1'\n",
      " '2' '2' '2' '1' '2' '1' '2' '1' '2' '2' '2' '2' '2' '2' '2' '2' '2' '1'\n",
      " '1' '1' '2' '2' '1' '1' '2' '2' '2' '2' '1' '2' '2' '2' '2' '2' '2' '2'\n",
      " '1' '2' '2' '1' '1' '1' '2' '1' '2' '1' '2' '2' '1' '2' '2' '1' '2' '2'\n",
      " '1' '2' '2' '2' '2' '1' '1' '1' '1' '1' '1' '2' '2' '2' '1' '2' '1' '2'\n",
      " '2' '2' '2' '1' '2' '1' '2' '1' '1' '2' '1' '1' '1' '2' '2' '2' '1' '1'\n",
      " '1' '2' '1' '1' '2' '2' '2' '2' '2' '1' '2' '1' '1' '1' '2' '2' '2']\n"
     ]
    }
   ],
   "source": [
    "match_X = df2[df2.columns[0:16]].values\n",
    "\n",
    "X = df2[df2.columns[0:8]].values\n",
    "y = df2[df2.columns[17]].values\n",
    "jaro_y = df2[df2.columns[15]].values\n",
    "sequencer_y = df2[df2.columns[16]].values\n",
    "\n",
    "X_train, X_test, y_train, y_test = model_selection.train_test_split(match_X, y, test_size=0.9)\n",
    "jaro_X_train, jaro_X_test, jaro_y_train, jaro_y_test = model_selection.train_test_split(X, jaro_y, test_size=0.9)\n",
    "sequencer_X_train, sequencer_X_test, sequencer_y_train, sequencer_y_test = model_selection.train_test_split(X, sequencer_y, test_size=0.9)\n",
    "\n",
    "print('Jaro Prediction: \\n', df2.jaro_prediction.value_counts())\n",
    "print('Sequencer Prediction: \\n', df2.sequencer_prediction.value_counts())\n",
    "print('Match Prediction: \\n', df2.Prediction.value_counts())\n",
    "print('')\n",
    "print('X_train shape: \\n', X_train.shape)\n",
    "print('X_test shape: \\n', X_test.shape)\n",
    "print('y_train shape: \\n', y_train.shape)\n",
    "print('y_test shape: \\n', y_test.shape)\n",
    "print('')\n",
    "print('x_train:',X_train)\n",
    "print('y_train:',y_train)\n",
    "print('x_test:',X_test)\n",
    "print('y_test:',y_test)"
   ]
  },
  {
   "cell_type": "markdown",
   "metadata": {},
   "source": [
    "# Create Classifiers and Confusion Matrices for Each Dataset"
   ]
  },
  {
   "cell_type": "code",
   "execution_count": 102,
   "metadata": {
    "scrolled": true
   },
   "outputs": [
    {
     "ename": "ValueError",
     "evalue": "setting an array element with a sequence.",
     "output_type": "error",
     "traceback": [
      "\u001b[0;31m---------------------------------------------------------------------------\u001b[0m",
      "\u001b[0;31mTypeError\u001b[0m                                 Traceback (most recent call last)",
      "\u001b[0;31mTypeError\u001b[0m: float() argument must be a string or a number, not 'list'",
      "\nThe above exception was the direct cause of the following exception:\n",
      "\u001b[0;31mValueError\u001b[0m                                Traceback (most recent call last)",
      "\u001b[0;32m<ipython-input-102-3accdad13431>\u001b[0m in \u001b[0;36m<module>\u001b[0;34m\u001b[0m\n\u001b[1;32m      2\u001b[0m \u001b[0;31m#logistic regression classifier\u001b[0m\u001b[0;34m\u001b[0m\u001b[0;34m\u001b[0m\u001b[0;34m\u001b[0m\u001b[0m\n\u001b[1;32m      3\u001b[0m \u001b[0mlr\u001b[0m \u001b[0;34m=\u001b[0m \u001b[0mLogisticRegression\u001b[0m\u001b[0;34m(\u001b[0m\u001b[0;34m)\u001b[0m\u001b[0;34m\u001b[0m\u001b[0;34m\u001b[0m\u001b[0m\n\u001b[0;32m----> 4\u001b[0;31m \u001b[0mlr\u001b[0m\u001b[0;34m.\u001b[0m\u001b[0mfit\u001b[0m\u001b[0;34m(\u001b[0m\u001b[0mX_train\u001b[0m\u001b[0;34m,\u001b[0m \u001b[0my_train\u001b[0m\u001b[0;34m)\u001b[0m\u001b[0;34m\u001b[0m\u001b[0;34m\u001b[0m\u001b[0m\n\u001b[0m\u001b[1;32m      5\u001b[0m \u001b[0mlr_predictions\u001b[0m \u001b[0;34m=\u001b[0m \u001b[0mlr\u001b[0m\u001b[0;34m.\u001b[0m\u001b[0mpredict\u001b[0m\u001b[0;34m(\u001b[0m\u001b[0mX_test\u001b[0m\u001b[0;34m)\u001b[0m\u001b[0;34m\u001b[0m\u001b[0;34m\u001b[0m\u001b[0m\n\u001b[1;32m      6\u001b[0m \u001b[0;34m\u001b[0m\u001b[0m\n",
      "\u001b[0;32m~/opt/anaconda3/lib/python3.8/site-packages/sklearn/linear_model/_logistic.py\u001b[0m in \u001b[0;36mfit\u001b[0;34m(self, X, y, sample_weight)\u001b[0m\n\u001b[1;32m   1340\u001b[0m             \u001b[0m_dtype\u001b[0m \u001b[0;34m=\u001b[0m \u001b[0;34m[\u001b[0m\u001b[0mnp\u001b[0m\u001b[0;34m.\u001b[0m\u001b[0mfloat64\u001b[0m\u001b[0;34m,\u001b[0m \u001b[0mnp\u001b[0m\u001b[0;34m.\u001b[0m\u001b[0mfloat32\u001b[0m\u001b[0;34m]\u001b[0m\u001b[0;34m\u001b[0m\u001b[0;34m\u001b[0m\u001b[0m\n\u001b[1;32m   1341\u001b[0m \u001b[0;34m\u001b[0m\u001b[0m\n\u001b[0;32m-> 1342\u001b[0;31m         X, y = self._validate_data(X, y, accept_sparse='csr', dtype=_dtype,\n\u001b[0m\u001b[1;32m   1343\u001b[0m                                    \u001b[0morder\u001b[0m\u001b[0;34m=\u001b[0m\u001b[0;34m\"C\"\u001b[0m\u001b[0;34m,\u001b[0m\u001b[0;34m\u001b[0m\u001b[0;34m\u001b[0m\u001b[0m\n\u001b[1;32m   1344\u001b[0m                                    accept_large_sparse=solver != 'liblinear')\n",
      "\u001b[0;32m~/opt/anaconda3/lib/python3.8/site-packages/sklearn/base.py\u001b[0m in \u001b[0;36m_validate_data\u001b[0;34m(self, X, y, reset, validate_separately, **check_params)\u001b[0m\n\u001b[1;32m    430\u001b[0m                 \u001b[0my\u001b[0m \u001b[0;34m=\u001b[0m \u001b[0mcheck_array\u001b[0m\u001b[0;34m(\u001b[0m\u001b[0my\u001b[0m\u001b[0;34m,\u001b[0m \u001b[0;34m**\u001b[0m\u001b[0mcheck_y_params\u001b[0m\u001b[0;34m)\u001b[0m\u001b[0;34m\u001b[0m\u001b[0;34m\u001b[0m\u001b[0m\n\u001b[1;32m    431\u001b[0m             \u001b[0;32melse\u001b[0m\u001b[0;34m:\u001b[0m\u001b[0;34m\u001b[0m\u001b[0;34m\u001b[0m\u001b[0m\n\u001b[0;32m--> 432\u001b[0;31m                 \u001b[0mX\u001b[0m\u001b[0;34m,\u001b[0m \u001b[0my\u001b[0m \u001b[0;34m=\u001b[0m \u001b[0mcheck_X_y\u001b[0m\u001b[0;34m(\u001b[0m\u001b[0mX\u001b[0m\u001b[0;34m,\u001b[0m \u001b[0my\u001b[0m\u001b[0;34m,\u001b[0m \u001b[0;34m**\u001b[0m\u001b[0mcheck_params\u001b[0m\u001b[0;34m)\u001b[0m\u001b[0;34m\u001b[0m\u001b[0;34m\u001b[0m\u001b[0m\n\u001b[0m\u001b[1;32m    433\u001b[0m             \u001b[0mout\u001b[0m \u001b[0;34m=\u001b[0m \u001b[0mX\u001b[0m\u001b[0;34m,\u001b[0m \u001b[0my\u001b[0m\u001b[0;34m\u001b[0m\u001b[0;34m\u001b[0m\u001b[0m\n\u001b[1;32m    434\u001b[0m \u001b[0;34m\u001b[0m\u001b[0m\n",
      "\u001b[0;32m~/opt/anaconda3/lib/python3.8/site-packages/sklearn/utils/validation.py\u001b[0m in \u001b[0;36minner_f\u001b[0;34m(*args, **kwargs)\u001b[0m\n\u001b[1;32m     71\u001b[0m                           FutureWarning)\n\u001b[1;32m     72\u001b[0m         \u001b[0mkwargs\u001b[0m\u001b[0;34m.\u001b[0m\u001b[0mupdate\u001b[0m\u001b[0;34m(\u001b[0m\u001b[0;34m{\u001b[0m\u001b[0mk\u001b[0m\u001b[0;34m:\u001b[0m \u001b[0marg\u001b[0m \u001b[0;32mfor\u001b[0m \u001b[0mk\u001b[0m\u001b[0;34m,\u001b[0m \u001b[0marg\u001b[0m \u001b[0;32min\u001b[0m \u001b[0mzip\u001b[0m\u001b[0;34m(\u001b[0m\u001b[0msig\u001b[0m\u001b[0;34m.\u001b[0m\u001b[0mparameters\u001b[0m\u001b[0;34m,\u001b[0m \u001b[0margs\u001b[0m\u001b[0;34m)\u001b[0m\u001b[0;34m}\u001b[0m\u001b[0;34m)\u001b[0m\u001b[0;34m\u001b[0m\u001b[0;34m\u001b[0m\u001b[0m\n\u001b[0;32m---> 73\u001b[0;31m         \u001b[0;32mreturn\u001b[0m \u001b[0mf\u001b[0m\u001b[0;34m(\u001b[0m\u001b[0;34m**\u001b[0m\u001b[0mkwargs\u001b[0m\u001b[0;34m)\u001b[0m\u001b[0;34m\u001b[0m\u001b[0;34m\u001b[0m\u001b[0m\n\u001b[0m\u001b[1;32m     74\u001b[0m     \u001b[0;32mreturn\u001b[0m \u001b[0minner_f\u001b[0m\u001b[0;34m\u001b[0m\u001b[0;34m\u001b[0m\u001b[0m\n\u001b[1;32m     75\u001b[0m \u001b[0;34m\u001b[0m\u001b[0m\n",
      "\u001b[0;32m~/opt/anaconda3/lib/python3.8/site-packages/sklearn/utils/validation.py\u001b[0m in \u001b[0;36mcheck_X_y\u001b[0;34m(X, y, accept_sparse, accept_large_sparse, dtype, order, copy, force_all_finite, ensure_2d, allow_nd, multi_output, ensure_min_samples, ensure_min_features, y_numeric, estimator)\u001b[0m\n\u001b[1;32m    794\u001b[0m         \u001b[0;32mraise\u001b[0m \u001b[0mValueError\u001b[0m\u001b[0;34m(\u001b[0m\u001b[0;34m\"y cannot be None\"\u001b[0m\u001b[0;34m)\u001b[0m\u001b[0;34m\u001b[0m\u001b[0;34m\u001b[0m\u001b[0m\n\u001b[1;32m    795\u001b[0m \u001b[0;34m\u001b[0m\u001b[0m\n\u001b[0;32m--> 796\u001b[0;31m     X = check_array(X, accept_sparse=accept_sparse,\n\u001b[0m\u001b[1;32m    797\u001b[0m                     \u001b[0maccept_large_sparse\u001b[0m\u001b[0;34m=\u001b[0m\u001b[0maccept_large_sparse\u001b[0m\u001b[0;34m,\u001b[0m\u001b[0;34m\u001b[0m\u001b[0;34m\u001b[0m\u001b[0m\n\u001b[1;32m    798\u001b[0m                     \u001b[0mdtype\u001b[0m\u001b[0;34m=\u001b[0m\u001b[0mdtype\u001b[0m\u001b[0;34m,\u001b[0m \u001b[0morder\u001b[0m\u001b[0;34m=\u001b[0m\u001b[0morder\u001b[0m\u001b[0;34m,\u001b[0m \u001b[0mcopy\u001b[0m\u001b[0;34m=\u001b[0m\u001b[0mcopy\u001b[0m\u001b[0;34m,\u001b[0m\u001b[0;34m\u001b[0m\u001b[0;34m\u001b[0m\u001b[0m\n",
      "\u001b[0;32m~/opt/anaconda3/lib/python3.8/site-packages/sklearn/utils/validation.py\u001b[0m in \u001b[0;36minner_f\u001b[0;34m(*args, **kwargs)\u001b[0m\n\u001b[1;32m     71\u001b[0m                           FutureWarning)\n\u001b[1;32m     72\u001b[0m         \u001b[0mkwargs\u001b[0m\u001b[0;34m.\u001b[0m\u001b[0mupdate\u001b[0m\u001b[0;34m(\u001b[0m\u001b[0;34m{\u001b[0m\u001b[0mk\u001b[0m\u001b[0;34m:\u001b[0m \u001b[0marg\u001b[0m \u001b[0;32mfor\u001b[0m \u001b[0mk\u001b[0m\u001b[0;34m,\u001b[0m \u001b[0marg\u001b[0m \u001b[0;32min\u001b[0m \u001b[0mzip\u001b[0m\u001b[0;34m(\u001b[0m\u001b[0msig\u001b[0m\u001b[0;34m.\u001b[0m\u001b[0mparameters\u001b[0m\u001b[0;34m,\u001b[0m \u001b[0margs\u001b[0m\u001b[0;34m)\u001b[0m\u001b[0;34m}\u001b[0m\u001b[0;34m)\u001b[0m\u001b[0;34m\u001b[0m\u001b[0;34m\u001b[0m\u001b[0m\n\u001b[0;32m---> 73\u001b[0;31m         \u001b[0;32mreturn\u001b[0m \u001b[0mf\u001b[0m\u001b[0;34m(\u001b[0m\u001b[0;34m**\u001b[0m\u001b[0mkwargs\u001b[0m\u001b[0;34m)\u001b[0m\u001b[0;34m\u001b[0m\u001b[0;34m\u001b[0m\u001b[0m\n\u001b[0m\u001b[1;32m     74\u001b[0m     \u001b[0;32mreturn\u001b[0m \u001b[0minner_f\u001b[0m\u001b[0;34m\u001b[0m\u001b[0;34m\u001b[0m\u001b[0m\n\u001b[1;32m     75\u001b[0m \u001b[0;34m\u001b[0m\u001b[0m\n",
      "\u001b[0;32m~/opt/anaconda3/lib/python3.8/site-packages/sklearn/utils/validation.py\u001b[0m in \u001b[0;36mcheck_array\u001b[0;34m(array, accept_sparse, accept_large_sparse, dtype, order, copy, force_all_finite, ensure_2d, allow_nd, ensure_min_samples, ensure_min_features, estimator)\u001b[0m\n\u001b[1;32m    597\u001b[0m                     \u001b[0marray\u001b[0m \u001b[0;34m=\u001b[0m \u001b[0marray\u001b[0m\u001b[0;34m.\u001b[0m\u001b[0mastype\u001b[0m\u001b[0;34m(\u001b[0m\u001b[0mdtype\u001b[0m\u001b[0;34m,\u001b[0m \u001b[0mcasting\u001b[0m\u001b[0;34m=\u001b[0m\u001b[0;34m\"unsafe\"\u001b[0m\u001b[0;34m,\u001b[0m \u001b[0mcopy\u001b[0m\u001b[0;34m=\u001b[0m\u001b[0;32mFalse\u001b[0m\u001b[0;34m)\u001b[0m\u001b[0;34m\u001b[0m\u001b[0;34m\u001b[0m\u001b[0m\n\u001b[1;32m    598\u001b[0m                 \u001b[0;32melse\u001b[0m\u001b[0;34m:\u001b[0m\u001b[0;34m\u001b[0m\u001b[0;34m\u001b[0m\u001b[0m\n\u001b[0;32m--> 599\u001b[0;31m                     \u001b[0marray\u001b[0m \u001b[0;34m=\u001b[0m \u001b[0mnp\u001b[0m\u001b[0;34m.\u001b[0m\u001b[0masarray\u001b[0m\u001b[0;34m(\u001b[0m\u001b[0marray\u001b[0m\u001b[0;34m,\u001b[0m \u001b[0morder\u001b[0m\u001b[0;34m=\u001b[0m\u001b[0morder\u001b[0m\u001b[0;34m,\u001b[0m \u001b[0mdtype\u001b[0m\u001b[0;34m=\u001b[0m\u001b[0mdtype\u001b[0m\u001b[0;34m)\u001b[0m\u001b[0;34m\u001b[0m\u001b[0;34m\u001b[0m\u001b[0m\n\u001b[0m\u001b[1;32m    600\u001b[0m             \u001b[0;32mexcept\u001b[0m \u001b[0mComplexWarning\u001b[0m\u001b[0;34m:\u001b[0m\u001b[0;34m\u001b[0m\u001b[0;34m\u001b[0m\u001b[0m\n\u001b[1;32m    601\u001b[0m                 raise ValueError(\"Complex data not supported\\n\"\n",
      "\u001b[0;32m~/opt/anaconda3/lib/python3.8/site-packages/numpy/core/_asarray.py\u001b[0m in \u001b[0;36masarray\u001b[0;34m(a, dtype, order)\u001b[0m\n\u001b[1;32m     83\u001b[0m \u001b[0;34m\u001b[0m\u001b[0m\n\u001b[1;32m     84\u001b[0m     \"\"\"\n\u001b[0;32m---> 85\u001b[0;31m     \u001b[0;32mreturn\u001b[0m \u001b[0marray\u001b[0m\u001b[0;34m(\u001b[0m\u001b[0ma\u001b[0m\u001b[0;34m,\u001b[0m \u001b[0mdtype\u001b[0m\u001b[0;34m,\u001b[0m \u001b[0mcopy\u001b[0m\u001b[0;34m=\u001b[0m\u001b[0;32mFalse\u001b[0m\u001b[0;34m,\u001b[0m \u001b[0morder\u001b[0m\u001b[0;34m=\u001b[0m\u001b[0morder\u001b[0m\u001b[0;34m)\u001b[0m\u001b[0;34m\u001b[0m\u001b[0;34m\u001b[0m\u001b[0m\n\u001b[0m\u001b[1;32m     86\u001b[0m \u001b[0;34m\u001b[0m\u001b[0m\n\u001b[1;32m     87\u001b[0m \u001b[0;34m\u001b[0m\u001b[0m\n",
      "\u001b[0;31mValueError\u001b[0m: setting an array element with a sequence."
     ]
    }
   ],
   "source": [
    "#Match Confidence Classifiers\n",
    "#logistic regression classifier\n",
    "lr = LogisticRegression()\n",
    "lr.fit(X_train, y_train)\n",
    "lr_predictions = lr.predict(X_test)\n",
    "\n",
    "print('LR Confusion Matrix: \\n', confusion_matrix(y_test, lr_predictions))\n",
    "# print('LR y_pred_class: \\n', y_pred_class)\n",
    "print('LR Accuracy Score: ', accuracy_score(y_test, lr_predictions))\n",
    "\n",
    "print('')\n",
    "\n",
    "#random forest classifier\n",
    "rfc = RandomForestClassifier(n_estimators=100)\n",
    "rfc.fit(X_train, y_train)\n",
    "rfc_predictions = rfc.predict(X_test)\n",
    "# print('rfc score train: ',rfc.score(X_train, y_train))\n",
    "# print('rfc score test: ',rfc.score(X_test, y_test))\n",
    "print('RFC Confusion Matrix: \\n', confusion_matrix(y_test, rfc_predictions))\n",
    "print('RFC Accuracy Score: ', accuracy_score(y_test, rfc_predictions))\n",
    "\n",
    "print('')\n",
    "\n",
    "#knn classifier\n",
    "knn = KNeighborsClassifier(n_neighbors=9)\n",
    "knn.fit(X_train, y_train)\n",
    "knn_predictions = knn.predict(X_test)\n",
    "\n",
    "print('KNN Confusion Matrix: \\n', confusion_matrix(y_test, knn_predictions))\n",
    "# print('knn_predictions: \\n',knn_predictions)\n",
    "print('KNN Accuracy Score: ', accuracy_score(y_test, knn_predictions))\n",
    "\n",
    "print('')\n",
    "\n",
    "#svc classifier\n",
    "svc = SVC(C=1.0)\n",
    "svc.fit(X_train, y_train)\n",
    "svc_predictions = svc.predict(X_test)\n",
    "# print('svc score train: ',svc.score(X_train, y_train))\n",
    "# print('svc score test: ',svc.score(X_test, y_test))\n",
    "print('SVC Confusion Matrix: \\n', confusion_matrix(y_test, svc_predictions))\n",
    "print('SVC Accuracy Score: ', accuracy_score(y_test, svc_predictions))"
   ]
  },
  {
   "cell_type": "code",
   "execution_count": 103,
   "metadata": {
    "scrolled": true
   },
   "outputs": [
    {
     "name": "stdout",
     "output_type": "stream",
     "text": [
      "LR Confusion Matrix: \n",
      " [[410  17]\n",
      " [125  41]]\n",
      "LR Accuracy Score:  0.760539629005059\n",
      "\n",
      "RFC Confusion Matrix: \n",
      " [[414  13]\n",
      " [ 17 149]]\n",
      "RFC Accuracy Score:  0.9494097807757167\n",
      "\n",
      "KNN Confusion Matrix: \n",
      " [[388  39]\n",
      " [129  37]]\n",
      "KNN Accuracy Score:  0.7166947723440135\n",
      "\n",
      "SVC Confusion Matrix: \n",
      " [[422   5]\n",
      " [164   2]]\n",
      "SVC Accuracy Score:  0.715008431703204\n"
     ]
    }
   ],
   "source": [
    "#Jaro Classifiers\n",
    "#logistic regression classifier\n",
    "lr = LogisticRegression()\n",
    "lr.fit(jaro_X_train, jaro_y_train)\n",
    "lr_predictions = lr.predict(jaro_X_test)\n",
    "\n",
    "print('LR Confusion Matrix: \\n', confusion_matrix(jaro_y_test, lr_predictions))\n",
    "# print('LR y_pred_class: \\n', y_pred_class)\n",
    "print('LR Accuracy Score: ', accuracy_score(jaro_y_test, lr_predictions))\n",
    "\n",
    "print('')\n",
    "\n",
    "#random forest classifier\n",
    "rfc = RandomForestClassifier(n_estimators=100)\n",
    "rfc.fit(jaro_X_train, jaro_y_train)\n",
    "rfc_predictions = rfc.predict(jaro_X_test)\n",
    "# print('rfc score train: ',rfc.score(jaro_X_train, jaro_y_train))\n",
    "# print('rfc score test: ',rfc.score(jaro_X_test, jaro_y_test))\n",
    "print('RFC Confusion Matrix: \\n', confusion_matrix(jaro_y_test, rfc_predictions))\n",
    "print('RFC Accuracy Score: ', accuracy_score(jaro_y_test, rfc_predictions))\n",
    "\n",
    "print('')\n",
    "\n",
    "#knn classifier\n",
    "knn = KNeighborsClassifier(n_neighbors=9)\n",
    "knn.fit(jaro_X_train, jaro_y_train)\n",
    "knn_predictions = knn.predict(jaro_X_test)\n",
    "\n",
    "print('KNN Confusion Matrix: \\n', confusion_matrix(jaro_y_test, knn_predictions))\n",
    "# print('knn_predictions: \\n',knn_predictions)\n",
    "print('KNN Accuracy Score: ', accuracy_score(jaro_y_test, knn_predictions))\n",
    "\n",
    "print('')\n",
    "\n",
    "#svc classifier\n",
    "svc = SVC(C=1.0)\n",
    "svc.fit(jaro_X_train, jaro_y_train)\n",
    "svc_predictions = svc.predict(jaro_X_test)\n",
    "# print('svc score train: ',svc.score(jaro_X_train, jaro_y_train))\n",
    "# print('svc score test: ',svc.score(jaro_X_test, jaro_y_test))\n",
    "print('SVC Confusion Matrix: \\n', confusion_matrix(jaro_y_test, svc_predictions))\n",
    "print('SVC Accuracy Score: ', accuracy_score(jaro_y_test, svc_predictions))"
   ]
  },
  {
   "cell_type": "code",
   "execution_count": 104,
   "metadata": {
    "scrolled": true
   },
   "outputs": [
    {
     "name": "stdout",
     "output_type": "stream",
     "text": [
      "LR Confusion Matrix: \n",
      " [[574   4]\n",
      " [ 10   5]]\n",
      "LR Accuracy Score:  0.9763912310286678\n",
      "\n",
      "RFC Confusion Matrix: \n",
      " [[577   1]\n",
      " [ 10   5]]\n",
      "RFC Accuracy Score:  0.9814502529510961\n",
      "\n",
      "KNN Confusion Matrix: \n",
      " [[578   0]\n",
      " [ 15   0]]\n",
      "KNN Accuracy Score:  0.9747048903878583\n",
      "\n",
      "SVC Confusion Matrix: \n",
      " [[578   0]\n",
      " [ 15   0]]\n",
      "SVC Accuracy Score:  0.9747048903878583\n"
     ]
    }
   ],
   "source": [
    "#Sequencer Ratio Classifiers\n",
    "#logistic regression classifier\n",
    "lr = LogisticRegression()\n",
    "lr.fit(sequencer_X_train, sequencer_y_train)\n",
    "lr_predictions = lr.predict(sequencer_X_test)\n",
    "\n",
    "print('LR Confusion Matrix: \\n', confusion_matrix(sequencer_y_test, lr_predictions))\n",
    "# print('LR y_pred_class: \\n', y_pred_class)\n",
    "print('LR Accuracy Score: ', accuracy_score(sequencer_y_test, lr_predictions))\n",
    "\n",
    "print('')\n",
    "\n",
    "#random forest classifier\n",
    "rfc = RandomForestClassifier(n_estimators=100)\n",
    "rfc.fit(sequencer_X_train, sequencer_y_train)\n",
    "rfc_predictions = rfc.predict(sequencer_X_test)\n",
    "# print('rfc score train: ',rfc.score(sequencer_X_train, sequencer_y_train))\n",
    "# print('rfc score test: ',rfc.score(sequencer_X_test, sequencer_y_test))\n",
    "print('RFC Confusion Matrix: \\n', confusion_matrix(sequencer_y_test, rfc_predictions))\n",
    "print('RFC Accuracy Score: ', accuracy_score(sequencer_y_test, rfc_predictions))\n",
    "\n",
    "print('')\n",
    "\n",
    "#knn classifier\n",
    "knn = KNeighborsClassifier(n_neighbors=9)\n",
    "knn.fit(sequencer_X_train, sequencer_y_train)\n",
    "knn_predictions = knn.predict(sequencer_X_test)\n",
    "\n",
    "print('KNN Confusion Matrix: \\n', confusion_matrix(sequencer_y_test, knn_predictions))\n",
    "# print('knn_predictions: \\n',knn_predictions)\n",
    "print('KNN Accuracy Score: ', accuracy_score(sequencer_y_test, knn_predictions))\n",
    "\n",
    "print('')\n",
    "\n",
    "#svc classifier\n",
    "svc = SVC(C=1.0)\n",
    "svc.fit(sequencer_X_train, sequencer_y_train)\n",
    "svc_predictions = svc.predict(sequencer_X_test)\n",
    "# print('svc score train: ',svc.score(sequencer_X_train, sequencer_y_train))\n",
    "# print('svc score test: ',svc.score(sequencer_X_test, sequencer_y_test))\n",
    "print('SVC Confusion Matrix: \\n', confusion_matrix(sequencer_y_test, svc_predictions))\n",
    "print('SVC Accuracy Score: ', accuracy_score(sequencer_y_test, svc_predictions))"
   ]
  },
  {
   "cell_type": "markdown",
   "metadata": {},
   "source": [
    "# Create Confusion Matrices"
   ]
  },
  {
   "cell_type": "code",
   "execution_count": 85,
   "metadata": {},
   "outputs": [],
   "source": [
    "#classification report function and classifiers\n",
    "def pandas_classification_report(y_true, y_pred):\n",
    "    metrics_summary = precision_recall_fscore_support(\n",
    "        y_true=y_test\n",
    "        , y_pred=y_predictions\n",
    "        , labels=np.unique(y_pred)\n",
    "    )\n",
    "\n",
    "    avg = list(precision_recall_fscore_support(\n",
    "            y_true=y_test, \n",
    "            y_pred=y_predictions,\n",
    "            average='weighted'))\n",
    "\n",
    "    metrics_sum_index = ['precision', 'recall', 'f1-score', 'support']\n",
    "    class_report_df = pd.DataFrame(\n",
    "        list(metrics_summary),\n",
    "        index=metrics_sum_index)\n",
    "\n",
    "    support = class_report_df.loc['support']\n",
    "    total = support.sum() \n",
    "    avg[-1] = total\n",
    "\n",
    "    class_report_df['avg / total'] = avg\n",
    "\n",
    "    return class_report_df.T\n",
    "\n",
    "classifiers = {\n",
    "    \"Naive Bayes\": GaussianNB(),\n",
    "    \"LogisiticRegression\": LogisticRegression(),\n",
    "    \"DecisionTreeClassifier\": DecisionTreeClassifier(),\n",
    "    \"RandomForestClassifier\": RandomForestClassifier(),\n",
    "    \"KNN\": KNeighborsClassifier(),\n",
    "    \"Support Vector Classifier\": SVC(),\n",
    "}"
   ]
  },
  {
   "cell_type": "code",
   "execution_count": 105,
   "metadata": {
    "scrolled": true
   },
   "outputs": [
    {
     "name": "stdout",
     "output_type": "stream",
     "text": [
      "Classification Report: \n",
      "\n"
     ]
    },
    {
     "ename": "ValueError",
     "evalue": "setting an array element with a sequence.",
     "output_type": "error",
     "traceback": [
      "\u001b[0;31m---------------------------------------------------------------------------\u001b[0m",
      "\u001b[0;31mTypeError\u001b[0m                                 Traceback (most recent call last)",
      "\u001b[0;31mTypeError\u001b[0m: float() argument must be a string or a number, not 'list'",
      "\nThe above exception was the direct cause of the following exception:\n",
      "\u001b[0;31mValueError\u001b[0m                                Traceback (most recent call last)",
      "\u001b[0;32m<ipython-input-105-65a92f3e5fbc>\u001b[0m in \u001b[0;36m<module>\u001b[0;34m\u001b[0m\n\u001b[1;32m      7\u001b[0m \u001b[0;34m\u001b[0m\u001b[0m\n\u001b[1;32m      8\u001b[0m \u001b[0;32mfor\u001b[0m \u001b[0mi\u001b[0m\u001b[0;34m,\u001b[0m \u001b[0;34m(\u001b[0m\u001b[0mkey\u001b[0m\u001b[0;34m,\u001b[0m \u001b[0mclassifier\u001b[0m\u001b[0;34m)\u001b[0m \u001b[0;32min\u001b[0m \u001b[0menumerate\u001b[0m\u001b[0;34m(\u001b[0m\u001b[0mclassifiers\u001b[0m\u001b[0;34m.\u001b[0m\u001b[0mitems\u001b[0m\u001b[0;34m(\u001b[0m\u001b[0;34m)\u001b[0m\u001b[0;34m)\u001b[0m\u001b[0;34m:\u001b[0m\u001b[0;34m\u001b[0m\u001b[0;34m\u001b[0m\u001b[0m\n\u001b[0;32m----> 9\u001b[0;31m     \u001b[0my_pred\u001b[0m \u001b[0;34m=\u001b[0m \u001b[0mclassifier\u001b[0m\u001b[0;34m.\u001b[0m\u001b[0mfit\u001b[0m\u001b[0;34m(\u001b[0m\u001b[0mX_train\u001b[0m\u001b[0;34m,\u001b[0m \u001b[0my_train\u001b[0m\u001b[0;34m)\u001b[0m\u001b[0;34m.\u001b[0m\u001b[0mpredict\u001b[0m\u001b[0;34m(\u001b[0m\u001b[0mX_test\u001b[0m\u001b[0;34m)\u001b[0m\u001b[0;34m\u001b[0m\u001b[0;34m\u001b[0m\u001b[0m\n\u001b[0m\u001b[1;32m     10\u001b[0m     \u001b[0my_predictions\u001b[0m \u001b[0;34m=\u001b[0m \u001b[0mclassifier\u001b[0m\u001b[0;34m.\u001b[0m\u001b[0mpredict\u001b[0m\u001b[0;34m(\u001b[0m\u001b[0mX_test\u001b[0m\u001b[0;34m)\u001b[0m\u001b[0;34m\u001b[0m\u001b[0;34m\u001b[0m\u001b[0m\n\u001b[1;32m     11\u001b[0m     \u001b[0mdf_class_report\u001b[0m \u001b[0;34m=\u001b[0m \u001b[0mpandas_classification_report\u001b[0m\u001b[0;34m(\u001b[0m\u001b[0my_true\u001b[0m\u001b[0;34m=\u001b[0m\u001b[0my_test\u001b[0m\u001b[0;34m,\u001b[0m \u001b[0my_pred\u001b[0m\u001b[0;34m=\u001b[0m\u001b[0my_predictions\u001b[0m\u001b[0;34m)\u001b[0m\u001b[0;34m\u001b[0m\u001b[0;34m\u001b[0m\u001b[0m\n",
      "\u001b[0;32m~/opt/anaconda3/lib/python3.8/site-packages/sklearn/naive_bayes.py\u001b[0m in \u001b[0;36mfit\u001b[0;34m(self, X, y, sample_weight)\u001b[0m\n\u001b[1;32m    208\u001b[0m         \u001b[0mself\u001b[0m \u001b[0;34m:\u001b[0m \u001b[0mobject\u001b[0m\u001b[0;34m\u001b[0m\u001b[0;34m\u001b[0m\u001b[0m\n\u001b[1;32m    209\u001b[0m         \"\"\"\n\u001b[0;32m--> 210\u001b[0;31m         \u001b[0mX\u001b[0m\u001b[0;34m,\u001b[0m \u001b[0my\u001b[0m \u001b[0;34m=\u001b[0m \u001b[0mself\u001b[0m\u001b[0;34m.\u001b[0m\u001b[0m_validate_data\u001b[0m\u001b[0;34m(\u001b[0m\u001b[0mX\u001b[0m\u001b[0;34m,\u001b[0m \u001b[0my\u001b[0m\u001b[0;34m)\u001b[0m\u001b[0;34m\u001b[0m\u001b[0;34m\u001b[0m\u001b[0m\n\u001b[0m\u001b[1;32m    211\u001b[0m         \u001b[0my\u001b[0m \u001b[0;34m=\u001b[0m \u001b[0mcolumn_or_1d\u001b[0m\u001b[0;34m(\u001b[0m\u001b[0my\u001b[0m\u001b[0;34m,\u001b[0m \u001b[0mwarn\u001b[0m\u001b[0;34m=\u001b[0m\u001b[0;32mTrue\u001b[0m\u001b[0;34m)\u001b[0m\u001b[0;34m\u001b[0m\u001b[0;34m\u001b[0m\u001b[0m\n\u001b[1;32m    212\u001b[0m         return self._partial_fit(X, y, np.unique(y), _refit=True,\n",
      "\u001b[0;32m~/opt/anaconda3/lib/python3.8/site-packages/sklearn/base.py\u001b[0m in \u001b[0;36m_validate_data\u001b[0;34m(self, X, y, reset, validate_separately, **check_params)\u001b[0m\n\u001b[1;32m    430\u001b[0m                 \u001b[0my\u001b[0m \u001b[0;34m=\u001b[0m \u001b[0mcheck_array\u001b[0m\u001b[0;34m(\u001b[0m\u001b[0my\u001b[0m\u001b[0;34m,\u001b[0m \u001b[0;34m**\u001b[0m\u001b[0mcheck_y_params\u001b[0m\u001b[0;34m)\u001b[0m\u001b[0;34m\u001b[0m\u001b[0;34m\u001b[0m\u001b[0m\n\u001b[1;32m    431\u001b[0m             \u001b[0;32melse\u001b[0m\u001b[0;34m:\u001b[0m\u001b[0;34m\u001b[0m\u001b[0;34m\u001b[0m\u001b[0m\n\u001b[0;32m--> 432\u001b[0;31m                 \u001b[0mX\u001b[0m\u001b[0;34m,\u001b[0m \u001b[0my\u001b[0m \u001b[0;34m=\u001b[0m \u001b[0mcheck_X_y\u001b[0m\u001b[0;34m(\u001b[0m\u001b[0mX\u001b[0m\u001b[0;34m,\u001b[0m \u001b[0my\u001b[0m\u001b[0;34m,\u001b[0m \u001b[0;34m**\u001b[0m\u001b[0mcheck_params\u001b[0m\u001b[0;34m)\u001b[0m\u001b[0;34m\u001b[0m\u001b[0;34m\u001b[0m\u001b[0m\n\u001b[0m\u001b[1;32m    433\u001b[0m             \u001b[0mout\u001b[0m \u001b[0;34m=\u001b[0m \u001b[0mX\u001b[0m\u001b[0;34m,\u001b[0m \u001b[0my\u001b[0m\u001b[0;34m\u001b[0m\u001b[0;34m\u001b[0m\u001b[0m\n\u001b[1;32m    434\u001b[0m \u001b[0;34m\u001b[0m\u001b[0m\n",
      "\u001b[0;32m~/opt/anaconda3/lib/python3.8/site-packages/sklearn/utils/validation.py\u001b[0m in \u001b[0;36minner_f\u001b[0;34m(*args, **kwargs)\u001b[0m\n\u001b[1;32m     71\u001b[0m                           FutureWarning)\n\u001b[1;32m     72\u001b[0m         \u001b[0mkwargs\u001b[0m\u001b[0;34m.\u001b[0m\u001b[0mupdate\u001b[0m\u001b[0;34m(\u001b[0m\u001b[0;34m{\u001b[0m\u001b[0mk\u001b[0m\u001b[0;34m:\u001b[0m \u001b[0marg\u001b[0m \u001b[0;32mfor\u001b[0m \u001b[0mk\u001b[0m\u001b[0;34m,\u001b[0m \u001b[0marg\u001b[0m \u001b[0;32min\u001b[0m \u001b[0mzip\u001b[0m\u001b[0;34m(\u001b[0m\u001b[0msig\u001b[0m\u001b[0;34m.\u001b[0m\u001b[0mparameters\u001b[0m\u001b[0;34m,\u001b[0m \u001b[0margs\u001b[0m\u001b[0;34m)\u001b[0m\u001b[0;34m}\u001b[0m\u001b[0;34m)\u001b[0m\u001b[0;34m\u001b[0m\u001b[0;34m\u001b[0m\u001b[0m\n\u001b[0;32m---> 73\u001b[0;31m         \u001b[0;32mreturn\u001b[0m \u001b[0mf\u001b[0m\u001b[0;34m(\u001b[0m\u001b[0;34m**\u001b[0m\u001b[0mkwargs\u001b[0m\u001b[0;34m)\u001b[0m\u001b[0;34m\u001b[0m\u001b[0;34m\u001b[0m\u001b[0m\n\u001b[0m\u001b[1;32m     74\u001b[0m     \u001b[0;32mreturn\u001b[0m \u001b[0minner_f\u001b[0m\u001b[0;34m\u001b[0m\u001b[0;34m\u001b[0m\u001b[0m\n\u001b[1;32m     75\u001b[0m \u001b[0;34m\u001b[0m\u001b[0m\n",
      "\u001b[0;32m~/opt/anaconda3/lib/python3.8/site-packages/sklearn/utils/validation.py\u001b[0m in \u001b[0;36mcheck_X_y\u001b[0;34m(X, y, accept_sparse, accept_large_sparse, dtype, order, copy, force_all_finite, ensure_2d, allow_nd, multi_output, ensure_min_samples, ensure_min_features, y_numeric, estimator)\u001b[0m\n\u001b[1;32m    794\u001b[0m         \u001b[0;32mraise\u001b[0m \u001b[0mValueError\u001b[0m\u001b[0;34m(\u001b[0m\u001b[0;34m\"y cannot be None\"\u001b[0m\u001b[0;34m)\u001b[0m\u001b[0;34m\u001b[0m\u001b[0;34m\u001b[0m\u001b[0m\n\u001b[1;32m    795\u001b[0m \u001b[0;34m\u001b[0m\u001b[0m\n\u001b[0;32m--> 796\u001b[0;31m     X = check_array(X, accept_sparse=accept_sparse,\n\u001b[0m\u001b[1;32m    797\u001b[0m                     \u001b[0maccept_large_sparse\u001b[0m\u001b[0;34m=\u001b[0m\u001b[0maccept_large_sparse\u001b[0m\u001b[0;34m,\u001b[0m\u001b[0;34m\u001b[0m\u001b[0;34m\u001b[0m\u001b[0m\n\u001b[1;32m    798\u001b[0m                     \u001b[0mdtype\u001b[0m\u001b[0;34m=\u001b[0m\u001b[0mdtype\u001b[0m\u001b[0;34m,\u001b[0m \u001b[0morder\u001b[0m\u001b[0;34m=\u001b[0m\u001b[0morder\u001b[0m\u001b[0;34m,\u001b[0m \u001b[0mcopy\u001b[0m\u001b[0;34m=\u001b[0m\u001b[0mcopy\u001b[0m\u001b[0;34m,\u001b[0m\u001b[0;34m\u001b[0m\u001b[0;34m\u001b[0m\u001b[0m\n",
      "\u001b[0;32m~/opt/anaconda3/lib/python3.8/site-packages/sklearn/utils/validation.py\u001b[0m in \u001b[0;36minner_f\u001b[0;34m(*args, **kwargs)\u001b[0m\n\u001b[1;32m     71\u001b[0m                           FutureWarning)\n\u001b[1;32m     72\u001b[0m         \u001b[0mkwargs\u001b[0m\u001b[0;34m.\u001b[0m\u001b[0mupdate\u001b[0m\u001b[0;34m(\u001b[0m\u001b[0;34m{\u001b[0m\u001b[0mk\u001b[0m\u001b[0;34m:\u001b[0m \u001b[0marg\u001b[0m \u001b[0;32mfor\u001b[0m \u001b[0mk\u001b[0m\u001b[0;34m,\u001b[0m \u001b[0marg\u001b[0m \u001b[0;32min\u001b[0m \u001b[0mzip\u001b[0m\u001b[0;34m(\u001b[0m\u001b[0msig\u001b[0m\u001b[0;34m.\u001b[0m\u001b[0mparameters\u001b[0m\u001b[0;34m,\u001b[0m \u001b[0margs\u001b[0m\u001b[0;34m)\u001b[0m\u001b[0;34m}\u001b[0m\u001b[0;34m)\u001b[0m\u001b[0;34m\u001b[0m\u001b[0;34m\u001b[0m\u001b[0m\n\u001b[0;32m---> 73\u001b[0;31m         \u001b[0;32mreturn\u001b[0m \u001b[0mf\u001b[0m\u001b[0;34m(\u001b[0m\u001b[0;34m**\u001b[0m\u001b[0mkwargs\u001b[0m\u001b[0;34m)\u001b[0m\u001b[0;34m\u001b[0m\u001b[0;34m\u001b[0m\u001b[0m\n\u001b[0m\u001b[1;32m     74\u001b[0m     \u001b[0;32mreturn\u001b[0m \u001b[0minner_f\u001b[0m\u001b[0;34m\u001b[0m\u001b[0;34m\u001b[0m\u001b[0m\n\u001b[1;32m     75\u001b[0m \u001b[0;34m\u001b[0m\u001b[0m\n",
      "\u001b[0;32m~/opt/anaconda3/lib/python3.8/site-packages/sklearn/utils/validation.py\u001b[0m in \u001b[0;36mcheck_array\u001b[0;34m(array, accept_sparse, accept_large_sparse, dtype, order, copy, force_all_finite, ensure_2d, allow_nd, ensure_min_samples, ensure_min_features, estimator)\u001b[0m\n\u001b[1;32m    597\u001b[0m                     \u001b[0marray\u001b[0m \u001b[0;34m=\u001b[0m \u001b[0marray\u001b[0m\u001b[0;34m.\u001b[0m\u001b[0mastype\u001b[0m\u001b[0;34m(\u001b[0m\u001b[0mdtype\u001b[0m\u001b[0;34m,\u001b[0m \u001b[0mcasting\u001b[0m\u001b[0;34m=\u001b[0m\u001b[0;34m\"unsafe\"\u001b[0m\u001b[0;34m,\u001b[0m \u001b[0mcopy\u001b[0m\u001b[0;34m=\u001b[0m\u001b[0;32mFalse\u001b[0m\u001b[0;34m)\u001b[0m\u001b[0;34m\u001b[0m\u001b[0;34m\u001b[0m\u001b[0m\n\u001b[1;32m    598\u001b[0m                 \u001b[0;32melse\u001b[0m\u001b[0;34m:\u001b[0m\u001b[0;34m\u001b[0m\u001b[0;34m\u001b[0m\u001b[0m\n\u001b[0;32m--> 599\u001b[0;31m                     \u001b[0marray\u001b[0m \u001b[0;34m=\u001b[0m \u001b[0mnp\u001b[0m\u001b[0;34m.\u001b[0m\u001b[0masarray\u001b[0m\u001b[0;34m(\u001b[0m\u001b[0marray\u001b[0m\u001b[0;34m,\u001b[0m \u001b[0morder\u001b[0m\u001b[0;34m=\u001b[0m\u001b[0morder\u001b[0m\u001b[0;34m,\u001b[0m \u001b[0mdtype\u001b[0m\u001b[0;34m=\u001b[0m\u001b[0mdtype\u001b[0m\u001b[0;34m)\u001b[0m\u001b[0;34m\u001b[0m\u001b[0;34m\u001b[0m\u001b[0m\n\u001b[0m\u001b[1;32m    600\u001b[0m             \u001b[0;32mexcept\u001b[0m \u001b[0mComplexWarning\u001b[0m\u001b[0;34m:\u001b[0m\u001b[0;34m\u001b[0m\u001b[0;34m\u001b[0m\u001b[0m\n\u001b[1;32m    601\u001b[0m                 raise ValueError(\"Complex data not supported\\n\"\n",
      "\u001b[0;32m~/opt/anaconda3/lib/python3.8/site-packages/numpy/core/_asarray.py\u001b[0m in \u001b[0;36masarray\u001b[0;34m(a, dtype, order)\u001b[0m\n\u001b[1;32m     83\u001b[0m \u001b[0;34m\u001b[0m\u001b[0m\n\u001b[1;32m     84\u001b[0m     \"\"\"\n\u001b[0;32m---> 85\u001b[0;31m     \u001b[0;32mreturn\u001b[0m \u001b[0marray\u001b[0m\u001b[0;34m(\u001b[0m\u001b[0ma\u001b[0m\u001b[0;34m,\u001b[0m \u001b[0mdtype\u001b[0m\u001b[0;34m,\u001b[0m \u001b[0mcopy\u001b[0m\u001b[0;34m=\u001b[0m\u001b[0;32mFalse\u001b[0m\u001b[0;34m,\u001b[0m \u001b[0morder\u001b[0m\u001b[0;34m=\u001b[0m\u001b[0morder\u001b[0m\u001b[0;34m)\u001b[0m\u001b[0;34m\u001b[0m\u001b[0;34m\u001b[0m\u001b[0m\n\u001b[0m\u001b[1;32m     86\u001b[0m \u001b[0;34m\u001b[0m\u001b[0m\n\u001b[1;32m     87\u001b[0m \u001b[0;34m\u001b[0m\u001b[0m\n",
      "\u001b[0;31mValueError\u001b[0m: setting an array element with a sequence."
     ]
    },
    {
     "data": {
      "image/png": "[encoded data removed]",
      "text/plain": [
       "<Figure size 1440x360 with 6 Axes>"
      ]
     },
     "metadata": {
      "needs_background": "light"
     },
     "output_type": "display_data"
    }
   ],
   "source": [
    "import warnings\n",
    "warnings.filterwarnings('always')\n",
    "\n",
    "f, axes = plt.subplots(1, 6, figsize=(20, 5), sharey='row')\n",
    "\n",
    "print('Classification Report: \\n')\n",
    "\n",
    "for i, (key, classifier) in enumerate(classifiers.items()):\n",
    "    y_pred = classifier.fit(X_train, y_train).predict(X_test)\n",
    "    y_predictions = classifier.predict(X_test)\n",
    "    df_class_report = pandas_classification_report(y_true=y_test, y_pred=y_predictions)\n",
    "    print((classifier),'\\n',df_class_report)\n",
    "    cf_matrix = confusion_matrix(y_test, y_pred)\n",
    "    disp = ConfusionMatrixDisplay(cf_matrix)\n",
    "#                                   display_labels=)\n",
    "    disp.plot(ax=axes[i], xticks_rotation=0)\n",
    "    disp.ax_.set_title(key)\n",
    "    disp.im_.colorbar.remove()\n",
    "    disp.ax_.set_xlabel('')\n",
    "    if i!=0:\n",
    "        disp.ax_.set_ylabel('')\n",
    "        \n",
    "f.text(0.4, 0.1, 'Predicted label', ha='left')\n",
    "plt.subplots_adjust(wspace=0.40, hspace=0.1)\n",
    "\n",
    "f.colorbar(disp.im_, ax=axes)\n",
    "plt.show()"
   ]
  },
  {
   "cell_type": "code",
   "execution_count": 106,
   "metadata": {
    "scrolled": false
   },
   "outputs": [
    {
     "name": "stdout",
     "output_type": "stream",
     "text": [
      "Jaro Score Classification Report: \n",
      "\n",
      "GaussianNB() \n",
      "              precision    recall  f1-score  support\n",
      "0             0.008000  0.444444  0.015717      9.0\n",
      "1             0.408602  0.150198  0.219653    253.0\n",
      "avg / total   0.174449  0.070826  0.093952    262.0\n",
      "LogisticRegression() \n",
      "              precision    recall  f1-score  support\n",
      "0             0.013084  0.777778  0.025735      9.0\n",
      "1             0.448276  0.102767  0.167203    253.0\n",
      "avg / total   0.191453  0.055649  0.071727    262.0\n",
      "DecisionTreeClassifier() \n",
      "              precision    recall  f1-score  support\n",
      "0             0.014388  0.666667  0.028169      9.0\n",
      "1             0.448864  0.312253  0.368298    253.0\n",
      "avg / total   0.191723  0.143339  0.157560    262.0\n"
     ]
    },
    {
     "name": "stderr",
     "output_type": "stream",
     "text": [
      "/Users/acc48668/opt/anaconda3/lib/python3.8/site-packages/sklearn/metrics/_classification.py:1221: UndefinedMetricWarning:\n",
      "\n",
      "Precision and F-score are ill-defined and being set to 0.0 in labels with no predicted samples. Use `zero_division` parameter to control this behavior.\n",
      "\n",
      "/Users/acc48668/opt/anaconda3/lib/python3.8/site-packages/sklearn/metrics/_classification.py:1221: UndefinedMetricWarning:\n",
      "\n",
      "Precision and F-score are ill-defined and being set to 0.0 in labels with no predicted samples. Use `zero_division` parameter to control this behavior.\n",
      "\n",
      "/Users/acc48668/opt/anaconda3/lib/python3.8/site-packages/sklearn/metrics/_classification.py:1221: UndefinedMetricWarning:\n",
      "\n",
      "Precision and F-score are ill-defined and being set to 0.0 in labels with no predicted samples. Use `zero_division` parameter to control this behavior.\n",
      "\n",
      "/Users/acc48668/opt/anaconda3/lib/python3.8/site-packages/sklearn/metrics/_classification.py:1221: UndefinedMetricWarning:\n",
      "\n",
      "Precision and F-score are ill-defined and being set to 0.0 in labels with no predicted samples. Use `zero_division` parameter to control this behavior.\n",
      "\n"
     ]
    },
    {
     "name": "stdout",
     "output_type": "stream",
     "text": [
      "RandomForestClassifier() \n",
      "              precision    recall  f1-score  support\n",
      "0             0.013825  0.666667  0.027088      9.0\n",
      "1             0.446541  0.280632  0.344660    253.0\n",
      "avg / total   0.190724  0.129848  0.147458    262.0\n",
      "KNeighborsClassifier() \n",
      "              precision    recall  f1-score  support\n",
      "0             0.014523  0.777778  0.028513      9.0\n",
      "1             0.504505  0.221344  0.307692    253.0\n",
      "avg / total   0.215464  0.106239  0.131708    262.0\n",
      "SVC() \n",
      "              precision    recall  f1-score  support\n",
      "0             0.015358  1.000000  0.030252      9.0\n",
      "1             0.428571  0.011858  0.023077    253.0\n",
      "avg / total   0.183081  0.020236  0.010305    262.0\n"
     ]
    },
    {
     "name": "stderr",
     "output_type": "stream",
     "text": [
      "/Users/acc48668/opt/anaconda3/lib/python3.8/site-packages/sklearn/metrics/_classification.py:1221: UndefinedMetricWarning:\n",
      "\n",
      "Precision and F-score are ill-defined and being set to 0.0 in labels with no predicted samples. Use `zero_division` parameter to control this behavior.\n",
      "\n",
      "/Users/acc48668/opt/anaconda3/lib/python3.8/site-packages/sklearn/metrics/_classification.py:1221: UndefinedMetricWarning:\n",
      "\n",
      "Precision and F-score are ill-defined and being set to 0.0 in labels with no predicted samples. Use `zero_division` parameter to control this behavior.\n",
      "\n"
     ]
    },
    {
     "data": {
      "image/png": "[encoded data removed]",
      "text/plain": [
       "<Figure size 1440x360 with 7 Axes>"
      ]
     },
     "metadata": {
      "needs_background": "light"
     },
     "output_type": "display_data"
    }
   ],
   "source": [
    "f, axes = plt.subplots(1, 6, figsize=(20, 5), sharey='row')\n",
    "\n",
    "print('Jaro Score Classification Report: \\n')\n",
    "\n",
    "for i, (key, classifier) in enumerate(classifiers.items()):\n",
    "    y_pred = classifier.fit(jaro_X_train, jaro_y_train).predict(jaro_X_test)\n",
    "    y_predictions = classifier.predict(jaro_X_test)\n",
    "    df_class_report = pandas_classification_report(y_true=jaro_y_test, y_pred=y_predictions)\n",
    "    print((classifier),'\\n', df_class_report)\n",
    "    cf_matrix = confusion_matrix(jaro_y_test, y_pred)\n",
    "    disp = ConfusionMatrixDisplay(cf_matrix)\n",
    "#                                   display_labels=)\n",
    "    disp.plot(ax=axes[i], xticks_rotation=0)\n",
    "    disp.ax_.set_title(key)\n",
    "    disp.im_.colorbar.remove()\n",
    "    disp.ax_.set_xlabel('')\n",
    "    if i!=0:\n",
    "        disp.ax_.set_ylabel('')\n",
    "        \n",
    "f.text(0.4, 0.1, 'Predicted label', ha='left')\n",
    "plt.subplots_adjust(wspace=0.40, hspace=0.1)\n",
    "\n",
    "f.colorbar(disp.im_, ax=axes)\n",
    "plt.show()"
   ]
  },
  {
   "cell_type": "code",
   "execution_count": 107,
   "metadata": {
    "scrolled": false
   },
   "outputs": [
    {
     "name": "stdout",
     "output_type": "stream",
     "text": [
      "Sequencer Ratio Model Classification Report: \n",
      "\n",
      "GaussianNB() \n",
      "              precision    recall  f1-score  support\n",
      "0             0.015437  1.000000  0.030405      9.0\n",
      "1             0.500000  0.019763  0.038023    253.0\n",
      "avg / total   0.213556  0.023609  0.016684    262.0\n",
      "LogisticRegression() \n",
      "              precision    recall  f1-score  support\n",
      "0             0.015411  1.000000  0.030354      9.0\n",
      "1             0.555556  0.019763  0.038168    253.0\n",
      "avg / total   0.237258  0.023609  0.016745    262.0\n",
      "DecisionTreeClassifier() \n",
      "              precision    recall  f1-score  support\n",
      "0             0.015491  1.000000  0.030508      9.0\n",
      "1             0.416667  0.019763  0.037736    253.0\n",
      "avg / total   0.178004  0.023609  0.016563    262.0\n"
     ]
    },
    {
     "name": "stderr",
     "output_type": "stream",
     "text": [
      "/Users/acc48668/opt/anaconda3/lib/python3.8/site-packages/sklearn/metrics/_classification.py:1221: UndefinedMetricWarning:\n",
      "\n",
      "Precision and F-score are ill-defined and being set to 0.0 in labels with no predicted samples. Use `zero_division` parameter to control this behavior.\n",
      "\n",
      "/Users/acc48668/opt/anaconda3/lib/python3.8/site-packages/sklearn/metrics/_classification.py:1221: UndefinedMetricWarning:\n",
      "\n",
      "Precision and F-score are ill-defined and being set to 0.0 in labels with no predicted samples. Use `zero_division` parameter to control this behavior.\n",
      "\n",
      "/Users/acc48668/opt/anaconda3/lib/python3.8/site-packages/sklearn/metrics/_classification.py:1221: UndefinedMetricWarning:\n",
      "\n",
      "Precision and F-score are ill-defined and being set to 0.0 in labels with no predicted samples. Use `zero_division` parameter to control this behavior.\n",
      "\n",
      "/Users/acc48668/opt/anaconda3/lib/python3.8/site-packages/sklearn/metrics/_classification.py:1221: UndefinedMetricWarning:\n",
      "\n",
      "Precision and F-score are ill-defined and being set to 0.0 in labels with no predicted samples. Use `zero_division` parameter to control this behavior.\n",
      "\n",
      "/Users/acc48668/opt/anaconda3/lib/python3.8/site-packages/sklearn/metrics/_classification.py:1221: UndefinedMetricWarning:\n",
      "\n",
      "Precision and F-score are ill-defined and being set to 0.0 in labels with no predicted samples. Use `zero_division` parameter to control this behavior.\n",
      "\n",
      "/Users/acc48668/opt/anaconda3/lib/python3.8/site-packages/sklearn/metrics/_classification.py:1221: UndefinedMetricWarning:\n",
      "\n",
      "Precision and F-score are ill-defined and being set to 0.0 in labels with no predicted samples. Use `zero_division` parameter to control this behavior.\n",
      "\n"
     ]
    },
    {
     "name": "stdout",
     "output_type": "stream",
     "text": [
      "RandomForestClassifier() \n",
      "              precision    recall  f1-score  support\n",
      "0             0.015358  1.000000  0.030252      9.0\n",
      "1             0.285714  0.007905  0.015385    253.0\n",
      "avg / total   0.122131  0.018550  0.007023    262.0\n",
      "KNeighborsClassifier() \n",
      "              precision    recall  f1-score  support\n",
      "0             0.015177  1.000000  0.029900      9.0\n",
      "avg / total   0.000230  0.015177  0.000454      9.0\n",
      "SVC() \n",
      "              precision    recall  f1-score  support\n",
      "0             0.015177  1.000000  0.029900      9.0\n",
      "avg / total   0.000230  0.015177  0.000454      9.0\n"
     ]
    },
    {
     "data": {
      "image/png": "[encoded data removed]",
      "text/plain": [
       "<Figure size 1440x360 with 7 Axes>"
      ]
     },
     "metadata": {
      "needs_background": "light"
     },
     "output_type": "display_data"
    }
   ],
   "source": [
    "f, axes = plt.subplots(1, 6, figsize=(20, 5), sharey='row')\n",
    "\n",
    "print('Sequencer Ratio Model Classification Report: \\n')\n",
    "\n",
    "for i, (key, classifier) in enumerate(classifiers.items()):\n",
    "    y_pred = classifier.fit(sequencer_X_train, sequencer_y_train).predict(sequencer_X_test)\n",
    "    y_predictions = classifier.predict(sequencer_X_test)\n",
    "    df_class_report = pandas_classification_report(y_true=sequencer_y_test, y_pred=y_predictions)\n",
    "    print((classifier),'\\n', df_class_report)\n",
    "    cf_matrix = confusion_matrix(sequencer_y_test, y_pred)\n",
    "    disp = ConfusionMatrixDisplay(cf_matrix)\n",
    "#                                   display_labels=)\n",
    "    disp.plot(ax=axes[i], xticks_rotation=0)\n",
    "    disp.ax_.set_title(key)\n",
    "    disp.im_.colorbar.remove()\n",
    "    disp.ax_.set_xlabel('')\n",
    "    if i!=0:\n",
    "        disp.ax_.set_ylabel('')\n",
    "        \n",
    "f.text(0.4, 0.1, 'Predicted label', ha='left')\n",
    "plt.subplots_adjust(wspace=0.40, hspace=0.1)\n",
    "\n",
    "f.colorbar(disp.im_, ax=axes)\n",
    "plt.show()"
   ]
  },
  {
   "cell_type": "markdown",
   "metadata": {},
   "source": [
    "# Test Code"
   ]
  },
  {
   "cell_type": "code",
   "execution_count": null,
   "metadata": {},
   "outputs": [],
   "source": [
    "f, axes = plt.subplots(2, 2, figsize=(20, 5), sharey='row')\n",
    "\n",
    "matrix = plot_confusion_matrix(lr, X_test, y_test)\n",
    "matrix.ax_.set_title('Confusion Matrix',color='white')\n",
    "plt.xlabel('Predicted Label', color='white')\n",
    "plt.ylabel('True Label', color='white')\n",
    "plt.gcf().axes[0].tick_params(color='white')\n",
    "plt.gcf().axes[1].tick_params(color='white')\n",
    "plt.gcf().set_size_inches(8,6)\n",
    "plt.show()\n",
    "\n",
    "matrix1 = plot_confusion_matrix(knn, X_test, y_test)\n",
    "matrix1.ax_.set_title('Confusion Matrix',color='white')\n",
    "plt.xlabel('Predicted Label', color='white')\n",
    "plt.ylabel('True Label', color='white')\n",
    "plt.gcf().axes[0].tick_params(color='white')\n",
    "plt.gcf().axes[1].tick_params(color='white')\n",
    "plt.gcf().set_size_inches(8,6)\n",
    "plt.show()\n",
    "print('Accuracy of the knn algorithm is: {}'.format(accuracy_score(y_test, knn_predictions)))\n",
    "print('')\n",
    "print('Confusion Matrix: \\n', confusion_matrix(y_test, knn_predictions))"
   ]
  },
  {
   "cell_type": "code",
   "execution_count": null,
   "metadata": {},
   "outputs": [],
   "source": [
    "for i, (key, classifier) in enumerate(classifiers.items()):\n",
    "    y_pred = classifier.fit(X_train, y_train).predict(X_test)\n",
    "    y_predictions = classifier.predict(X_test)\n",
    "#     print((classifier), classification_report(y_true=y_test, y_pred=y_predictions, digits=2))\n",
    "    df_class_report = pandas_classification_report(y_true=y_test, y_pred=y_predictions)\n",
    "    print((classifier),'\\n',df_class_report)\n",
    "\n",
    "    table = []\n",
    "    f1 = list(f1_score(y_test, y_pred, average=\"macro\"))\n",
    "    print((classifier),':'\n",
    "          , 'f1_score:', (round(f1_score(y_test, y_pred, average=\"macro\"),2))\n",
    "          , 'precision_score:', (round(precision_score(y_test, y_predictions, average=\"macro\"),2))\n",
    "          , 'recall_score:', (round(recall_score(y_test, y_predictions, average=\"macro\"),2))\n",
    "          , 'accuracy_score:', (round(accuracy_score(y_test, y_predictions),2))\n",
    "#           , 'support:', (round(support(y_test, y_predictions),2))\n",
    "         )"
   ]
  },
  {
   "cell_type": "code",
   "execution_count": null,
   "metadata": {},
   "outputs": [],
   "source": [
    "matrix = plot_confusion_matrix(lr, X_test, y_test)\n",
    "matrix.ax_.set_title('Confusion Matrix',color='white')\n",
    "plt.xlabel('Predicted Label', color='white')\n",
    "plt.ylabel('True Label', color='white')\n",
    "plt.gcf().axes[0].tick_params(color='white')\n",
    "plt.gcf().axes[1].tick_params(color='white')\n",
    "plt.gcf().set_size_inches(8,6)\n",
    "plt.show()\n",
    "print('Accuracy of the lr algorithm is: {}'.format(accuracy_score(y_test, lr_predictions)))\n",
    "print('Confusion Matrix: \\n', confusion_matrix(y_test, lr_predictions))\n",
    "\n",
    "matrix1 = plot_confusion_matrix(rfc, X_test, y_test)\n",
    "matrix1.ax_.set_title('Confusion Matrix',color='white')\n",
    "plt.xlabel('Predicted Label', color='white')\n",
    "plt.ylabel('True Label', color='white')\n",
    "plt.gcf().axes[0].tick_params(color='white')\n",
    "plt.gcf().axes[1].tick_params(color='white')\n",
    "plt.gcf().set_size_inches(8,6)\n",
    "plt.show()\n",
    "print('Accuracy of the rfc algorithm is: {}'.format(accuracy_score(y_test, rfc_predictions)))\n",
    "print('Confusion Matrix: \\n', confusion_matrix(y_test, rfc_predictions))\n",
    "\n",
    "matrix = plot_confusion_matrix(knn, X_test, y_test)\n",
    "matrix.ax_.set_title('Confusion Matrix',color='white')\n",
    "plt.xlabel('Predicted Label', color='white')\n",
    "plt.ylabel('True Label', color='white')\n",
    "plt.gcf().axes[0].tick_params(color='white')\n",
    "plt.gcf().axes[1].tick_params(color='white')\n",
    "plt.gcf().set_size_inches(8,6)\n",
    "plt.show()\n",
    "print('Accuracy of the knn algorithm is: {}'.format(accuracy_score(y_test, knn_predictions)))\n",
    "print('Confusion Matrix: \\n', confusion_matrix(y_test, knn_predictions))\n",
    "\n",
    "matrix = plot_confusion_matrix(svc, X_test, y_test)\n",
    "matrix.ax_.set_title('Confusion Matrix',color='white')\n",
    "plt.xlabel('Predicted Label', color='white')\n",
    "plt.ylabel('True Label', color='white')\n",
    "plt.gcf().axes[0].tick_params(color='white')\n",
    "plt.gcf().axes[1].tick_params(color='white')\n",
    "plt.gcf().set_size_inches(8,6)\n",
    "plt.show()\n",
    "print('Accuracy of the svc algorithm is: {}'.format(accuracy_score(y_test, svc_predictions)))\n",
    "print('Confusion Matrix: \\n', confusion_matrix(y_test, svc_predictions))"
   ]
  },
  {
   "cell_type": "code",
   "execution_count": null,
   "metadata": {},
   "outputs": [],
   "source": [
    "import numpy as np\n",
    "import pandas as pd\n",
    "import matplotlib.pyplot as plt\n",
    "import seaborn as sns\n",
    "from sklearn.metrics import confusion_matrix\n",
    "\n",
    "def cm_analysis(y_true, y_pred, filename, labels, ymap=None, figsize=(10,10)):\n",
    "    \"\"\"\n",
    "    Generate matrix plot of confusion matrix with pretty annotations.\n",
    "    The plot image is saved to disk.\n",
    "    args: \n",
    "      y_true:    true label of the data, with shape (nsamples,)\n",
    "      y_pred:    prediction of the data, with shape (nsamples,)\n",
    "      filename:  filename of figure file to save\n",
    "      labels:    string array, name the order of class labels in the confusion matrix.\n",
    "                 use `clf.classes_` if using scikit-learn models.\n",
    "                 with shape (nclass,).\n",
    "      ymap:      dict: any -> string, length == nclass.\n",
    "                 if not None, map the labels & ys to more understandable strings.\n",
    "                 Caution: original y_true, y_pred and labels must align.\n",
    "      figsize:   the size of the figure plotted.\n",
    "    \"\"\"\n",
    "    if ymap != None:\n",
    "        y_pred = [ymap[yi] for yi in y_pred]\n",
    "        y_true = [ymap[yi] for yi in y_true]\n",
    "        labels = [ymap[yi] for yi in labels]\n",
    "    cm = confusion_matrix(y_true, y_pred, labels=labels)\n",
    "    cm_sum = np.sum(cm, axis=1, keepdims=True)\n",
    "    cm_perc = cm / cm_sum * 100\n",
    "    annot = np.empty_like(cm).astype(str)\n",
    "    nrows, ncols = cm.shape\n",
    "    for i in range(nrows):\n",
    "        for j in range(ncols):\n",
    "            c = cm[i, j]\n",
    "            p = cm_perc[i, j]\n",
    "            if i == j:\n",
    "                s = cm_sum[i]\n",
    "                annot[i, j] = '%.1f%%\\n%d/%d' % (p, c, s)\n",
    "            elif c == 0:\n",
    "                annot[i, j] = ''\n",
    "            else:\n",
    "                annot[i, j] = '%.1f%%\\n%d' % (p, c)\n",
    "    cm = pd.DataFrame(cm, index=labels, columns=labels)\n",
    "    cm.index.name = 'Actual'\n",
    "    cm.columns.name = 'Predicted'\n",
    "    fig, ax = plt.subplots(figsize=figsize)\n",
    "    sns.heatmap(cm, annot=annot, fmt='', ax=ax)\n",
    "    plt.savefig(filename)\n",
    "    \n",
    "# cm_analysis(y_train,y_test,'test.csv',['1','2'])"
   ]
  }
 ],
 "metadata": {
  "kernelspec": {
   "display_name": "Python 3",
   "language": "python",
   "name": "python3"
  },
  "language_info": {
   "codemirror_mode": {
    "name": "ipython",
    "version": 3
   },
   "file_extension": ".py",
   "mimetype": "text/x-python",
   "name": "python",
   "nbconvert_exporter": "python",
   "pygments_lexer": "ipython3",
   "version": "3.8.3"
  },
  "toc": {
   "base_numbering": 1,
   "nav_menu": {},
   "number_sections": true,
   "sideBar": true,
   "skip_h1_title": false,
   "title_cell": "Table of Contents",
   "title_sidebar": "Contents",
   "toc_cell": false,
   "toc_position": {},
   "toc_section_display": true,
   "toc_window_display": false
  }
 },
 "nbformat": 4,
 "nbformat_minor": 4
}
